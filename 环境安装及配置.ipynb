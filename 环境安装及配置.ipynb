{
 "cells": [
  {
   "cell_type": "markdown",
   "metadata": {},
   "source": [
    "# pycharm教育版/社区版\n",
    "- 插件：\n",
    "    - setting：color scheme：颜色\n",
    "    - font：字体\n",
    "    - plugins：\n",
    "        - vim编辑器：ideavim\n",
    "        - markdown：markdown support\n",
    "    - project："
   ]
  }
 ],
 "metadata": {
  "kernelspec": {
   "display_name": "Python 3",
   "language": "python",
   "name": "python3"
  },
  "language_info": {
   "codemirror_mode": {
    "name": "ipython",
    "version": 3
   },
   "file_extension": ".py",
   "mimetype": "text/x-python",
   "name": "python",
   "nbconvert_exporter": "python",
   "pygments_lexer": "ipython3",
   "version": "3.6.4"
  }
 },
 "nbformat": 4,
 "nbformat_minor": 2
}
