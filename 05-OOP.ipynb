{
 "cells": [
  {
   "cell_type": "code",
   "execution_count": 2,
   "metadata": {},
   "outputs": [
    {
     "data": {
      "text/plain": [
       "{}"
      ]
     },
     "execution_count": 2,
     "metadata": {},
     "output_type": "execute_result"
    }
   ],
   "source": [
    "class Student():\n",
    "    name = \"dandan\"\n",
    "    age = 18\n",
    "\n",
    "yiyi = Student()\n",
    "yiyi.__dict__"
   ]
  },
  {
   "cell_type": "code",
   "execution_count": 4,
   "metadata": {},
   "outputs": [
    {
     "name": "stdout",
     "output_type": "stream",
     "text": [
      "xiaoyi\n",
      "18\n",
      "--------------------\n",
      "2758286129672\n",
      "1819897856\n",
      "--------------------\n",
      "xixi\n",
      "19\n",
      "--------------------\n",
      "2758286236728\n",
      "1819897888\n"
     ]
    }
   ],
   "source": [
    "class A():\n",
    "    name = \"xiaoyi\"\n",
    "    age = 18\n",
    "    \n",
    "    def say(self):\n",
    "        self.name = \"aaaa\"\n",
    "        age = 200\n",
    "#A为类实例      \n",
    "print(A.name)\n",
    "print(A.age)\n",
    "\n",
    "print(\"-\" * 20)\n",
    "\n",
    "print(id(A.name))\n",
    "print(id(A.age))\n",
    "\n",
    "print(\"-\" * 20)\n",
    "\n",
    "a = A()\n",
    "a.name = \"xixi\"\n",
    "a.age = 19\n",
    "\n",
    "print(a.name)\n",
    "print(a.age)\n",
    "\n",
    "print(\"-\" * 20)\n",
    "\n",
    "print(id(a.name))\n",
    "print(id(a.age))"
   ]
  },
  {
   "cell_type": "code",
   "execution_count": 6,
   "metadata": {},
   "outputs": [
    {
     "name": "stdout",
     "output_type": "stream",
     "text": [
      "my name is aaaa,I am 200 years old\n"
     ]
    }
   ],
   "source": [
    "class Student():\n",
    "    name = \"xiaoyi\"\n",
    "    age = 18\n",
    "    \n",
    "    def say(self):\n",
    "        self.name = \"aaaa\"\n",
    "        self.age = 200\n",
    "        print(\"my name is {0},I am {1} years old\".format(self.name,self.age))\n",
    "        \n",
    "yiyi = Student()\n",
    "yiyi.say()"
   ]
  },
  {
   "cell_type": "code",
   "execution_count": 5,
   "metadata": {
    "scrolled": true
   },
   "outputs": [
    {
     "name": "stdout",
     "output_type": "stream",
     "text": [
      "my name is xixi,I am 25 years old\n",
      "doudou\n",
      "25\n",
      "hello, nice to see you again!!\n"
     ]
    }
   ],
   "source": [
    "class Teacher():\n",
    "    name = \"doudou\"\n",
    "    age = 25\n",
    "    \n",
    "    def say(self):\n",
    "        self.name = \"xixi\"\n",
    "        self.age = 200\n",
    "        print(\"my name is {0},I am {1} years old\".format(self.name,__class__.age))\n",
    "        \n",
    "    def sayagain():\n",
    "        print(__class__.name)\n",
    "        print(__class__.age)\n",
    "        print(\"hello, nice to see you again!!\")\n",
    "        \n",
    "t = Teacher()\n",
    "\n",
    "t.say()\n",
    "\n",
    "Teacher.sayagain()"
   ]
  },
  {
   "cell_type": "code",
   "execution_count": 10,
   "metadata": {
    "scrolled": true
   },
   "outputs": [
    {
     "name": "stdout",
     "output_type": "stream",
     "text": [
      "aaaa\n",
      "200\n",
      "aaaa\n",
      "200\n",
      "xinxin\n",
      "18\n",
      "bbbb\n",
      "100\n"
     ]
    }
   ],
   "source": [
    "#关于self的案例\n",
    "\n",
    "class A():\n",
    "    name = \"xinxin\"\n",
    "    age = 18\n",
    "    \n",
    "    def __init__(self):\n",
    "        self.name = \"aaaa\"\n",
    "        self.age = \"200\"\n",
    "        \n",
    "    def say(self):\n",
    "        print(self.name)\n",
    "        print(self.age)\n",
    "        \n",
    "class B():\n",
    "    name = \"bbbb\"\n",
    "    age = 100\n",
    "    \n",
    "a = A()\n",
    "a.say()\n",
    "#此时，系统会默认把a作为第一个参数传入函数\n",
    "A.say(a)\n",
    "A.say(A)\n",
    "#此时传入类实例\n",
    "A.say(B)\n",
    "\n",
    "#以上代码实现了鸭子模型"
   ]
  },
  {
   "cell_type": "code",
   "execution_count": 12,
   "metadata": {
    "scrolled": true
   },
   "outputs": [
    {
     "name": "stdout",
     "output_type": "stream",
     "text": [
      "doumeng\n"
     ]
    },
    {
     "ename": "AttributeError",
     "evalue": "'Person' object has no attribute '__age'",
     "output_type": "error",
     "traceback": [
      "\u001b[1;31m---------------------------------------------------------------------------\u001b[0m",
      "\u001b[1;31mAttributeError\u001b[0m                            Traceback (most recent call last)",
      "\u001b[1;32m<ipython-input-12-ffa8e5086699>\u001b[0m in \u001b[0;36m<module>\u001b[1;34m()\u001b[0m\n\u001b[0;32m      7\u001b[0m \u001b[0mp\u001b[0m \u001b[1;33m=\u001b[0m \u001b[0mPerson\u001b[0m\u001b[1;33m(\u001b[0m\u001b[1;33m)\u001b[0m\u001b[1;33m\u001b[0m\u001b[0m\n\u001b[0;32m      8\u001b[0m \u001b[0mprint\u001b[0m\u001b[1;33m(\u001b[0m\u001b[0mp\u001b[0m\u001b[1;33m.\u001b[0m\u001b[0mname\u001b[0m\u001b[1;33m)\u001b[0m\u001b[1;33m\u001b[0m\u001b[0m\n\u001b[1;32m----> 9\u001b[1;33m \u001b[0mprint\u001b[0m\u001b[1;33m(\u001b[0m\u001b[0mp\u001b[0m\u001b[1;33m.\u001b[0m\u001b[0m__age\u001b[0m\u001b[1;33m)\u001b[0m\u001b[1;33m\u001b[0m\u001b[0m\n\u001b[0m",
      "\u001b[1;31mAttributeError\u001b[0m: 'Person' object has no attribute '__age'"
     ]
    }
   ],
   "source": [
    "class Person():\n",
    "                #name是共有成员\n",
    "                name = \"doumeng\"\n",
    "                #__age是私有成员\n",
    "                __age = 19\n",
    "                \n",
    "p = Person()\n",
    "print(p.name)\n",
    "#print(p.__age)\n"
   ]
  },
  {
   "cell_type": "code",
   "execution_count": 14,
   "metadata": {
    "scrolled": true
   },
   "outputs": [
    {
     "name": "stdout",
     "output_type": "stream",
     "text": [
      "{'__module__': '__main__', 'name': 'doumeng', '_Person__age': 19, '__dict__': <attribute '__dict__' of 'Person' objects>, '__weakref__': <attribute '__weakref__' of 'Person' objects>, '__doc__': None}\n",
      "19\n"
     ]
    }
   ],
   "source": [
    "print(Person.__dict__)\n",
    "p._Person__age = 19\n",
    "print(p._Person__age)"
   ]
  },
  {
   "cell_type": "code",
   "execution_count": 18,
   "metadata": {
    "scrolled": true
   },
   "outputs": [
    {
     "name": "stdout",
     "output_type": "stream",
     "text": [
      "xiaoyi\n",
      "sec\n"
     ]
    }
   ],
   "source": [
    "# 继承的语法\n",
    "class Person():\n",
    "    name = \"no name\"\n",
    "    age = 0\n",
    "    __score = 0\n",
    "    _petname =\"sec\"\n",
    "    def sleep(self):\n",
    "        print(\"sleeping\")\n",
    "        \n",
    "class Teacher(Person):\n",
    "    name = \"xiaoyi\"\n",
    "    teacher_id = \"9527\"\n",
    "    def make_test(self):\n",
    "        super().sleep()\n",
    "        print(\"make test\")\n",
    "    pass\n",
    "\n",
    "t = Teacher()\n",
    "print(t.name)\n",
    "print(t._petname)"
   ]
  },
  {
   "cell_type": "code",
   "execution_count": 21,
   "metadata": {
    "scrolled": true
   },
   "outputs": [
    {
     "name": "stdout",
     "output_type": "stream",
     "text": [
      "make test\n",
      "make some money\n"
     ]
    }
   ],
   "source": [
    "#子类扩充父类功能\n",
    "class Person():\n",
    "    name = \"no name\"\n",
    "    age = 0\n",
    "    __score = 0\n",
    "    _petname =\"sec\"\n",
    "    def sleep(self):\n",
    "        print(\"sleeping\")\n",
    "    \n",
    "    def work(self):\n",
    "        print(\"make some money\")\n",
    "        \n",
    "class Teacher(Person):\n",
    "    name = \"xiaoyi\"\n",
    "    teacher_id = \"9527\"\n",
    "    def make_test(self):\n",
    "        print(\"make test\")\n",
    "        \n",
    "    def work(self):\n",
    "        self.make_test()\n",
    "        Person.work(self)\n",
    "    pass\n",
    "\n",
    "t = Teacher()\n",
    "t.work()"
   ]
  },
  {
   "cell_type": "code",
   "execution_count": 22,
   "metadata": {
    "scrolled": true
   },
   "outputs": [
    {
     "name": "stdout",
     "output_type": "stream",
     "text": [
      "I am a dog\n"
     ]
    }
   ],
   "source": [
    "#构造函数的概念\n",
    "class Dog():\n",
    "    def __init__(self):\n",
    "        print(\"I am a dog\")\n",
    "        \n",
    "dingding = Dog()"
   ]
  },
  {
   "cell_type": "code",
   "execution_count": 24,
   "metadata": {
    "scrolled": true
   },
   "outputs": [
    {
     "name": "stdout",
     "output_type": "stream",
     "text": [
      "I am a dog\n",
      "paxing de gou ye  shi gou a\n"
     ]
    }
   ],
   "source": [
    "#继承里的构造函数\n",
    "class Animal():\n",
    "    pass\n",
    "\n",
    "class PaXingAnimal(Animal):\n",
    "    def __init__(self):\n",
    "        print(\"paxing de gou ye  shi gou a\")\n",
    "    pass\n",
    "\n",
    "class Dog(PaXingAnimal):\n",
    "    def __init__(self):\n",
    "        print(\"I am a dog\")\n",
    "#实例化的时候，括号内的参数需要和构造函数相匹配\n",
    "dingding = Dog()\n",
    "\n",
    "class Mao(PaXingAnimal):\n",
    "    pass\n",
    "\n",
    "c = Mao()"
   ]
  },
  {
   "cell_type": "code",
   "execution_count": 26,
   "metadata": {
    "scrolled": true
   },
   "outputs": [
    {
     "name": "stdout",
     "output_type": "stream",
     "text": [
      "<class 'type'>\n",
      "Help on class super in module builtins:\n",
      "\n",
      "class super(object)\n",
      " |  super() -> same as super(__class__, <first argument>)\n",
      " |  super(type) -> unbound super object\n",
      " |  super(type, obj) -> bound super object; requires isinstance(obj, type)\n",
      " |  super(type, type2) -> bound super object; requires issubclass(type2, type)\n",
      " |  Typical use to call a cooperative superclass method:\n",
      " |  class C(B):\n",
      " |      def meth(self, arg):\n",
      " |          super().meth(arg)\n",
      " |  This works for class methods too:\n",
      " |  class C(B):\n",
      " |      @classmethod\n",
      " |      def cmeth(cls, arg):\n",
      " |          super().cmeth(arg)\n",
      " |  \n",
      " |  Methods defined here:\n",
      " |  \n",
      " |  __get__(self, instance, owner, /)\n",
      " |      Return an attribute of instance, which is of type owner.\n",
      " |  \n",
      " |  __getattribute__(self, name, /)\n",
      " |      Return getattr(self, name).\n",
      " |  \n",
      " |  __init__(self, /, *args, **kwargs)\n",
      " |      Initialize self.  See help(type(self)) for accurate signature.\n",
      " |  \n",
      " |  __new__(*args, **kwargs) from builtins.type\n",
      " |      Create and return a new object.  See help(type) for accurate signature.\n",
      " |  \n",
      " |  __repr__(self, /)\n",
      " |      Return repr(self).\n",
      " |  \n",
      " |  ----------------------------------------------------------------------\n",
      " |  Data descriptors defined here:\n",
      " |  \n",
      " |  __self__\n",
      " |      the instance invoking super(); may be None\n",
      " |  \n",
      " |  __self_class__\n",
      " |      the type of the instance invoking super(); may be None\n",
      " |  \n",
      " |  __thisclass__\n",
      " |      the class invoking super()\n",
      "\n"
     ]
    }
   ],
   "source": [
    "print(type(super))\n",
    "help(super)"
   ]
  },
  {
   "cell_type": "code",
   "execution_count": 2,
   "metadata": {
    "scrolled": true
   },
   "outputs": [
    {
     "name": "stdout",
     "output_type": "stream",
     "text": [
      "(<class '__main__.A'>, <class 'object'>)\n",
      "(<class '__main__.B'>, <class '__main__.A'>, <class 'object'>)\n"
     ]
    }
   ],
   "source": [
    "##MRO用法\n",
    "\n",
    "class A():\n",
    "    pass\n",
    "\n",
    "class B(A):\n",
    "    pass\n",
    "\n",
    "print(A.__mro__)\n",
    "print(B.__mro__)"
   ]
  },
  {
   "cell_type": "code",
   "execution_count": 4,
   "metadata": {},
   "outputs": [
    {
     "name": "stdout",
     "output_type": "stream",
     "text": [
      "I am flying\n",
      "I am swimming\n"
     ]
    }
   ],
   "source": [
    "#多继承\n",
    "\n",
    "class Fish():\n",
    "    def __init__(self, name):\n",
    "        self.name = name\n",
    "    def swim(self):\n",
    "        print(\"I am swimming\")\n",
    "        \n",
    "class Bird():\n",
    "    def __init__(self, name):\n",
    "        self.name = name\n",
    "    def fly(self):\n",
    "        print(\"I am flying\")\n",
    "        \n",
    "class Person():\n",
    "    def __init__(self, name):\n",
    "        self.name = name\n",
    "    def work(self):\n",
    "        print(\"I am working\")\n",
    "        \n",
    "class SuperMan(Fish, Bird, Person):\n",
    "    def __init__(self, name):\n",
    "        self.name = name\n",
    "    pass\n",
    "\n",
    "s = SuperMan(\"dingding\")\n",
    "s.fly()\n",
    "s.swim()"
   ]
  },
  {
   "cell_type": "code",
   "execution_count": 7,
   "metadata": {},
   "outputs": [
    {
     "name": "stdout",
     "output_type": "stream",
     "text": [
      "True\n",
      "False\n",
      "True\n"
     ]
    }
   ],
   "source": [
    "class A():\n",
    "    pass\n",
    "\n",
    "class B(A):\n",
    "    pass\n",
    "class C():\n",
    "    pass\n",
    "\n",
    "print(issubclass(B,A))\n",
    "print(issubclass(C,A))\n",
    "print(issubclass(B,object))"
   ]
  },
  {
   "cell_type": "code",
   "execution_count": 9,
   "metadata": {
    "scrolled": false
   },
   "outputs": [
    {
     "name": "stdout",
     "output_type": "stream",
     "text": [
      "True\n"
     ]
    }
   ],
   "source": [
    "class A():\n",
    "    pass\n",
    "\n",
    "a = A()\n",
    "\n",
    "print(isinstance(a,A))\n"
   ]
  },
  {
   "cell_type": "code",
   "execution_count": 16,
   "metadata": {
    "scrolled": true
   },
   "outputs": [
    {
     "name": "stdout",
     "output_type": "stream",
     "text": [
      "True\n"
     ]
    },
    {
     "data": {
      "text/plain": [
       "['__class__',\n",
       " '__delattr__',\n",
       " '__dict__',\n",
       " '__dir__',\n",
       " '__doc__',\n",
       " '__eq__',\n",
       " '__format__',\n",
       " '__ge__',\n",
       " '__getattribute__',\n",
       " '__gt__',\n",
       " '__hash__',\n",
       " '__init__',\n",
       " '__init_subclass__',\n",
       " '__le__',\n",
       " '__lt__',\n",
       " '__module__',\n",
       " '__ne__',\n",
       " '__new__',\n",
       " '__reduce__',\n",
       " '__reduce_ex__',\n",
       " '__repr__',\n",
       " '__setattr__',\n",
       " '__sizeof__',\n",
       " '__str__',\n",
       " '__subclasshook__',\n",
       " '__weakref__',\n",
       " 'name']"
      ]
     },
     "execution_count": 16,
     "metadata": {},
     "output_type": "execute_result"
    }
   ],
   "source": [
    "class A():\n",
    "    name = \"xiaoyi\"\n",
    "    \n",
    "a = A()\n",
    "print(hasattr(a, \"name\"))\n",
    "dir(a)"
   ]
  },
  {
   "cell_type": "code",
   "execution_count": 7,
   "metadata": {},
   "outputs": [
    {
     "name": "stdout",
     "output_type": "stream",
     "text": [
      "my name is DINGXIAOYI,i am 19 years old\n",
      "my name is XINXIN,i am 18 years old\n"
     ]
    }
   ],
   "source": [
    "#属性案例\n",
    "\n",
    "class Student():\n",
    "    def __init__(self,name,age):\n",
    "        self.name = name\n",
    "        self.age = age\n",
    "        self.setname(name)\n",
    "        \n",
    "    def intro(self):\n",
    "        print(\"my name is {0},i am {1} years old\".format(self.name,self.age))\n",
    "        \n",
    "    def setname(self, name):\n",
    "        self.name = name.upper()\n",
    "s1 = Student(\"dingxiaoyi\",19)\n",
    "s2 = Student(\"xinxin\",18)\n",
    "\n",
    "s1.intro()\n",
    "s2.intro()"
   ]
  },
  {
   "cell_type": "code",
   "execution_count": 18,
   "metadata": {},
   "outputs": [],
   "source": [
    "#property案例\n",
    "#person类有name，age属性\n",
    "#name用大写保存\n",
    "#age内部用整数保存\n",
    "\n",
    "class Person():\n",
    "    '''\n",
    "    这是类的文档信息\n",
    "    '''\n",
    "    def fget(self):\n",
    "        return self._name*2\n",
    "    def fset(self, name):\n",
    "        self._name = name.upper()\n",
    "    def fdel(self):\n",
    "        self.name = \"NoName\"\n",
    "        \n",
    "    name = property(fget, fset, fdel, \"对name进行标准化操作\")"
   ]
  },
  {
   "cell_type": "code",
   "execution_count": 17,
   "metadata": {
    "scrolled": true
   },
   "outputs": [
    {
     "name": "stdout",
     "output_type": "stream",
     "text": [
      "DOUMENGDOUMENG\n"
     ]
    }
   ],
   "source": [
    "p1 = Person()\n",
    "p1.name = \"doumeng\"\n",
    "print(p1.name)"
   ]
  },
  {
   "cell_type": "code",
   "execution_count": 20,
   "metadata": {
    "scrolled": true
   },
   "outputs": [
    {
     "name": "stdout",
     "output_type": "stream",
     "text": [
      "{'__module__': '__main__', '__doc__': '\\n    这是类的文档信息\\n    ', 'fget': <function Person.fget at 0x0000026398B25400>, 'fset': <function Person.fset at 0x0000026398B25510>, 'fdel': <function Person.fdel at 0x0000026398B25488>, 'name': <property object at 0x0000026398BD9EF8>, '__dict__': <attribute '__dict__' of 'Person' objects>, '__weakref__': <attribute '__weakref__' of 'Person' objects>}\n",
      "\n",
      "    这是类的文档信息\n",
      "    \n",
      "Person\n",
      "(<class 'object'>,)\n"
     ]
    }
   ],
   "source": [
    "print(Person.__dict__)\n",
    "print(Person.__doc__)\n",
    "print(Person.__name__)\n",
    "print(Person.__bases__)"
   ]
  },
  {
   "cell_type": "code",
   "execution_count": 22,
   "metadata": {},
   "outputs": [
    {
     "name": "stdout",
     "output_type": "stream",
     "text": [
      " i am call\n",
      "doumeng\n"
     ]
    }
   ],
   "source": [
    "class A():\n",
    "    def __init__(self, name = 0):\n",
    "        print(\" i am call\")\n",
    "        print(name)\n",
    "\n",
    "a = A(\"doumeng\")"
   ]
  },
  {
   "cell_type": "code",
   "execution_count": 29,
   "metadata": {
    "scrolled": true
   },
   "outputs": [
    {
     "name": "stdout",
     "output_type": "stream",
     "text": [
      " i am call\n",
      "0\n",
      "又被call了\n",
      "A\n"
     ]
    }
   ],
   "source": [
    "#call\n",
    "class A():\n",
    "    def __init__(self, name = 0):\n",
    "        print(\" i am call\")\n",
    "        print(name)\n",
    "    def __call__(self):\n",
    "        print(\"又被call了\")\n",
    "    def __str__(self):\n",
    "        return A.__name__\n",
    "a = A()\n",
    "a()\n",
    "print(a)"
   ]
  },
  {
   "cell_type": "code",
   "execution_count": 33,
   "metadata": {
    "scrolled": true
   },
   "outputs": [
    {
     "name": "stdout",
     "output_type": "stream",
     "text": [
      "no name\n",
      "not find\n",
      "attr\n",
      "None\n"
     ]
    }
   ],
   "source": [
    "#__getattr__\n",
    "class A():\n",
    "    name = \"no name\"\n",
    "    age = 19\n",
    "    def __getattr__(self, attr):\n",
    "        print(\"not find\")\n",
    "        print(attr)\n",
    "a = A()\n",
    "print(a.name)\n",
    "print(a.attr)"
   ]
  },
  {
   "cell_type": "code",
   "execution_count": 35,
   "metadata": {
    "scrolled": true
   },
   "outputs": [
    {
     "name": "stdout",
     "output_type": "stream",
     "text": [
      "{}\n",
      "设置属性：age\n"
     ]
    }
   ],
   "source": [
    "#__setattr__\n",
    "class Person():\n",
    "    def __init__(self):\n",
    "        pass\n",
    "    def __setattr__(self, name, value):\n",
    "        print(\"设置属性：{0}\".format(name))\n",
    "        super().__setattr__(name, value)\n",
    "        \n",
    "p = Person()\n",
    "print(p.__dict__)\n",
    "p.age = 18"
   ]
  },
  {
   "cell_type": "code",
   "execution_count": 38,
   "metadata": {
    "scrolled": true
   },
   "outputs": [
    {
     "name": "stdout",
     "output_type": "stream",
     "text": [
      "one two\n",
      "False\n"
     ]
    }
   ],
   "source": [
    "#__gt__\n",
    "class Student():\n",
    "    def __init__(self, name):\n",
    "        self._name = name\n",
    "    def __gt__(self, obj):\n",
    "        print(self._name, obj._name)\n",
    "        return self._name > obj._name\n",
    "stu1 = Student(\"one\")\n",
    "stu2 = Student(\"two\")\n",
    "\n",
    "print(stu1 > stu2)"
   ]
  },
  {
   "cell_type": "code",
   "execution_count": 5,
   "metadata": {},
   "outputs": [
    {
     "name": "stdout",
     "output_type": "stream",
     "text": [
      "<__main__.Person object at 0x000001E3EAFFB9E8>\n",
      "eating.....\n",
      "<class '__main__.Person'>\n",
      "playing....\n",
      "<class '__main__.Person'>\n",
      "playing....\n",
      "saying....\n",
      "saying....\n"
     ]
    }
   ],
   "source": [
    "#类和对象的三种方法\n",
    "\n",
    "class Person():\n",
    "    #实例方法，第一个参数为self\n",
    "    def eat(self):\n",
    "        print(self)\n",
    "        print(\"eating.....\")\n",
    "    #类方法，第一个参数为cls    \n",
    "    @classmethod\n",
    "    def play(cls):\n",
    "        print(cls)\n",
    "        print(\"playing....\")\n",
    "    #静态方法，不需要参数\n",
    "    @staticmethod\n",
    "    def say():\n",
    "        print(\"saying....\")\n",
    "#实例方法        \n",
    "xinyu = Person()\n",
    "xinyu.eat()\n",
    "#类方法\n",
    "Person.play()\n",
    "\n",
    "xinyu.play()\n",
    "#静态方法\n",
    "Person.say()\n",
    "xinyu.say()\n",
    "\n"
   ]
  }
 ],
 "metadata": {
  "kernelspec": {
   "display_name": "Python 3",
   "language": "python",
   "name": "python3"
  },
  "language_info": {
   "codemirror_mode": {
    "name": "ipython",
    "version": 3
   },
   "file_extension": ".py",
   "mimetype": "text/x-python",
   "name": "python",
   "nbconvert_exporter": "python",
   "pygments_lexer": "ipython3",
   "version": "3.6.4"
  }
 },
 "nbformat": 4,
 "nbformat_minor": 2
}
