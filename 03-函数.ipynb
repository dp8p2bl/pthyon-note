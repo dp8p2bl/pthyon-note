{
 "cells": [
  {
   "cell_type": "markdown",
   "metadata": {},
   "source": [
    "# 函数\n",
    "- 代码的一种组织形式\n",
    "- 一个函数完成一项特定的功能\n",
    "- 函数定义：\n",
    "    - 函数需要先定义\n",
    "    - 使用函数，俗称调用"
   ]
  },
  {
   "cell_type": "code",
   "execution_count": 36,
   "metadata": {},
   "outputs": [
    {
     "name": "stdout",
     "output_type": "stream",
     "text": [
      "bye!!!\n",
      "我是一个函数\n"
     ]
    }
   ],
   "source": [
    "#定义一个函数\n",
    "#def+空格\n",
    "#注意函数命名规则\n",
    "#括号冒号不能省\n",
    "#缩进注意\n",
    "\n",
    "def func():\n",
    "    print(\"我是一个函数\")\n",
    "print(\"bye!!!\")\n",
    "func()"
   ]
  },
  {
   "cell_type": "markdown",
   "metadata": {},
   "source": [
    "## 函数的参数和返回值\n",
    "- 参数：给函数传递必要的数据或者信息\n",
    "    - 形参：定义时用到，没有具体值\n",
    "    - 实参：调用函数时输入的值\n",
    "- 返回值：函数的返回结果\n",
    "    - 使用return返回\n",
    "    - 如果没有return，默认返回None\n",
    "    - 函数一旦执行return，无条件返回，结束函数的执行"
   ]
  },
  {
   "cell_type": "code",
   "execution_count": 37,
   "metadata": {},
   "outputs": [
    {
     "name": "stdout",
     "output_type": "stream",
     "text": [
      "sam,你肿么了\n",
      "sir,嫩不理额额就走类\n",
      "已经和sam打过招呼了，sam不理我\n"
     ]
    }
   ],
   "source": [
    "#参数的使用\n",
    "#参数仅仅是一个符号，仅代表调用的某个数据\n",
    "def hello(person):\n",
    "    print(\"{0},你肿么了\".format(person))\n",
    "    print(\"sir,嫩不理额额就走类\")\n",
    "    return \"已经和{0}打过招呼了，{1}不理我\".format(person,person)\n",
    "\n",
    "rst = hello(\"sam\")\n",
    "print(rst)"
   ]
  },
  {
   "cell_type": "code",
   "execution_count": 38,
   "metadata": {},
   "outputs": [
    {
     "name": "stdout",
     "output_type": "stream",
     "text": [
      "sam,你肿么了\n",
      "hahahahah\n"
     ]
    }
   ],
   "source": [
    "#return案例\n",
    "\n",
    "def hello(person):\n",
    "    print(\"{0},你肿么了\".format(person))\n",
    "    return \"hahahahah\"\n",
    "    print(\"sir,嫩不理额额就走类\")\n",
    "    return \"已经和{0}打过招呼了，{1}不理我\".format(person,person)\n",
    "\n",
    "rst = hello(\"sam\")\n",
    "print(rst)"
   ]
  },
  {
   "cell_type": "code",
   "execution_count": 39,
   "metadata": {},
   "outputs": [
    {
     "name": "stdout",
     "output_type": "stream",
     "text": [
      "1 * 1 = 1  \n",
      "1 * 2 = 2  2 * 2 = 4  \n",
      "1 * 3 = 3  2 * 3 = 6  3 * 3 = 9  \n",
      "1 * 4 = 4  2 * 4 = 8  3 * 4 = 12  4 * 4 = 16  \n",
      "1 * 5 = 5  2 * 5 = 10  3 * 5 = 15  4 * 5 = 20  5 * 5 = 25  \n",
      "1 * 6 = 6  2 * 6 = 12  3 * 6 = 18  4 * 6 = 24  5 * 6 = 30  6 * 6 = 36  \n",
      "1 * 7 = 7  2 * 7 = 14  3 * 7 = 21  4 * 7 = 28  5 * 7 = 35  6 * 7 = 42  7 * 7 = 49  \n",
      "1 * 8 = 8  2 * 8 = 16  3 * 8 = 24  4 * 8 = 32  5 * 8 = 40  6 * 8 = 48  7 * 8 = 56  8 * 8 = 64  \n",
      "1 * 9 = 9  2 * 9 = 18  3 * 9 = 27  4 * 9 = 36  5 * 9 = 45  6 * 9 = 54  7 * 9 = 63  8 * 9 = 72  9 * 9 = 81  \n"
     ]
    }
   ],
   "source": [
    "#九九乘法表\n",
    "#print函数打印完成后立即换行\n",
    "for row in range(1,10):\n",
    "    for col in range(1,row+1):\n",
    "        print(\"{0} * {1} = {2} \".format(col,row,row*col),end = \" \")\n",
    "    print()"
   ]
  },
  {
   "cell_type": "code",
   "execution_count": 40,
   "metadata": {
    "scrolled": true
   },
   "outputs": [
    {
     "name": "stdout",
     "output_type": "stream",
     "text": [
      "Help on built-in function print in module builtins:\n",
      "\n",
      "print(...)\n",
      "    print(value, ..., sep=' ', end='\\n', file=sys.stdout, flush=False)\n",
      "    \n",
      "    Prints the values to a stream, or to sys.stdout by default.\n",
      "    Optional keyword arguments:\n",
      "    file:  a file-like object (stream); defaults to the current sys.stdout.\n",
      "    sep:   string inserted between values, default a space.\n",
      "    end:   string appended after the last value, default a newline.\n",
      "    flush: whether to forcibly flush the stream.\n",
      "\n"
     ]
    }
   ],
   "source": [
    "#help函数\n",
    "\n",
    "help(print)"
   ]
  },
  {
   "cell_type": "code",
   "execution_count": 41,
   "metadata": {},
   "outputs": [
    {
     "name": "stdout",
     "output_type": "stream",
     "text": [
      "1 * 1 = 1  \n",
      "1 * 2 = 2  2 * 2 = 4  \n",
      "1 * 3 = 3  2 * 3 = 6  3 * 3 = 9  \n",
      "1 * 4 = 4  2 * 4 = 8  3 * 4 = 12  4 * 4 = 16  \n",
      "1 * 5 = 5  2 * 5 = 10  3 * 5 = 15  4 * 5 = 20  5 * 5 = 25  \n",
      "1 * 6 = 6  2 * 6 = 12  3 * 6 = 18  4 * 6 = 24  5 * 6 = 30  6 * 6 = 36  \n",
      "1 * 7 = 7  2 * 7 = 14  3 * 7 = 21  4 * 7 = 28  5 * 7 = 35  6 * 7 = 42  7 * 7 = 49  \n",
      "1 * 8 = 8  2 * 8 = 16  3 * 8 = 24  4 * 8 = 32  5 * 8 = 40  6 * 8 = 48  7 * 8 = 56  8 * 8 = 64  \n",
      "1 * 9 = 9  2 * 9 = 18  3 * 9 = 27  4 * 9 = 36  5 * 9 = 45  6 * 9 = 54  7 * 9 = 63  8 * 9 = 72  9 * 9 = 81  \n"
     ]
    }
   ],
   "source": [
    "def print_line(row):\n",
    "    for col in range(1,row+1):\n",
    "        print(\"{0} * {1} = {2} \".format(col,row,row*col),end = \" \")\n",
    "    print()\n",
    "\n",
    "for row in range(1,10):\n",
    "    print_line(row)"
   ]
  },
  {
   "cell_type": "markdown",
   "metadata": {},
   "source": [
    "## 参数详解\n",
    "- 参考资料\n",
    "    - www.cnblogs.com/bingabcd/p/6671368.html\n",
    "    - headfirst python\n",
    "    - 零基础入门学习pthyon（小甲鱼）习题\n",
    "- 参数分类\n",
    "    - 普通参数\n",
    "    - 默认参数\n",
    "    - 关键字参数\n",
    "    - 收集参数\n",
    "\n",
    "    - 普通参数\n",
    "        - 定义直接定义变量名\n",
    "        - 调用时直接传值\n",
    "    \n",
    "            def 函数名(参数1,参数2,......):\n",
    "                函数体\n",
    "        \n",
    "        - 调用\n",
    "            - 函数名(value1,value2,......)\n",
    "            - 只根据位置赋值\n",
    "      \n",
    "    - 默认参数\n",
    "        - 形参带有默认值\n",
    "        - 调用时，如果没有对应形参赋值，则使用默认值\n",
    "        \n",
    "                    def func_name(p1=v1,p2=v2......):\n",
    "                        func_block\n",
    "                    \n",
    "        - 调用\n",
    "                    value1=100\n",
    "                    value2=200\n",
    "                    func_name(value1,value2)\n",
    "                    \n",
    "    - 关键字参数\n",
    "        - 语法\n",
    "                \n",
    "                def func(p1=v1,p2=v2,......)\n",
    "                    func_body\n",
    "                    \n",
    "        - 调用\n",
    "        \n",
    "                func(p1=value1,p2=value2,......)\n",
    "                \n",
    "        - 好处：不容易混淆\n",
    "        \n",
    "    - 收集参数\n",
    "        - 把没有位置，不能和定义时的参数位置相对的参数，放入特定的数据结构中\n",
    "        - 语法：\n",
    "                \n",
    "                def func(*args):\n",
    "                    func_body\n",
    "                    按照list的使用方法访问args传入的参数\n",
    "        - 调用：\n",
    "                \n",
    "                func(p1, p2, p3,.....)\n",
    "        \n",
    "        - args前必须加星号\n",
    "        - 可以和其他参数共存\n",
    "     "
   ]
  },
  {
   "cell_type": "code",
   "execution_count": 42,
   "metadata": {},
   "outputs": [
    {
     "name": "stdout",
     "output_type": "stream",
     "text": [
      "xinyu is 25 years old,she is a good student!\n",
      "doumeng is 25 years old,he is a good student!\n"
     ]
    }
   ],
   "source": [
    "#默认参数示例\n",
    "#报名函数需要知道学生性别\n",
    "#学习pthyon默认是男生\n",
    "\n",
    "def fun_c(name,age,gender=\"male\"):\n",
    "    if gender == \"male\":\n",
    "        print(\"{0} is {1} years old,he is a good student!\".format(name,age,gender))\n",
    "    else:\n",
    "        print(\"{0} is {1} years old,she is a good student!\".format(name,age,gender))\n",
    "\n",
    "fun_c(\"xinyu\",25,\"female\")\n",
    "fun_c(\"doumeng\",25)"
   ]
  },
  {
   "cell_type": "code",
   "execution_count": 43,
   "metadata": {},
   "outputs": [
    {
     "name": "stdout",
     "output_type": "stream",
     "text": [
      "I am a student\n",
      "我叫xinyu,我今年18岁了，我住在聊城市\n",
      "I am a student\n",
      "我叫xinyu,我今年18岁了，我住在聊城市\n"
     ]
    }
   ],
   "source": [
    "#关键字参数\n",
    "\n",
    "def stu(name, age, addr):\n",
    "    print(\"I am a student\")\n",
    "    print(\"我叫{0},我今年{1}岁了，我住在{2}\".format(name,age,addr))\n",
    "\n",
    "n = \"xinyu\"\n",
    "a = 18\n",
    "addr = \"聊城市\"\n",
    "\n",
    "stu(n,a,addr)\n",
    "\n",
    "\n",
    "\n",
    "def stu(name=\"no name\", age=0, addr=\"no addr\"):\n",
    "    print(\"I am a student\")\n",
    "    print(\"我叫{0},我今年{1}岁了，我住在{2}\".format(name,age,addr))\n",
    "\n",
    "n = \"xinyu\"\n",
    "a = 18\n",
    "addr = \"聊城市\"\n",
    "\n",
    "stu(age=a, name = n, addr=addr)"
   ]
  },
  {
   "cell_type": "code",
   "execution_count": 44,
   "metadata": {
    "scrolled": false
   },
   "outputs": [
    {
     "name": "stdout",
     "output_type": "stream",
     "text": [
      "Hello,大家好，我自我介绍下：\n",
      "<class 'tuple'>\n",
      "xinyu\n",
      "18\n",
      "山东省聊城市\n",
      "doumeng\n",
      "single\n",
      "Hello,大家好，我自我介绍下：\n",
      "<class 'tuple'>\n",
      "dingxiaoyi\n"
     ]
    }
   ],
   "source": [
    "#函数模拟一个学生自我介绍，但是具体内容不清楚\n",
    "\n",
    "def stu(*args):\n",
    "    print(\"Hello,大家好，我自我介绍下：\")\n",
    "    #type函数返回检测变量的类型\n",
    "    print(type(args))\n",
    "    for i in args:\n",
    "        print(i)\n",
    "\n",
    "stu(\"xinyu\", 18, \"山东省聊城市\", \"doumeng\", \"single\")\n",
    "\n",
    "stu(\"dingxiaoyi\")"
   ]
  },
  {
   "cell_type": "code",
   "execution_count": 45,
   "metadata": {
    "scrolled": true
   },
   "outputs": [
    {
     "ename": "TypeError",
     "evalue": "stu() got an unexpected keyword argument 'name'",
     "output_type": "error",
     "traceback": [
      "\u001b[1;31m---------------------------------------------------------------------------\u001b[0m",
      "\u001b[1;31mTypeError\u001b[0m                                 Traceback (most recent call last)",
      "\u001b[1;32m<ipython-input-45-4e42169b7f72>\u001b[0m in \u001b[0;36m<module>\u001b[1;34m()\u001b[0m\n\u001b[1;32m----> 1\u001b[1;33m \u001b[0mstu\u001b[0m\u001b[1;33m(\u001b[0m\u001b[0mname\u001b[0m\u001b[1;33m=\u001b[0m\u001b[1;34m\"doumeng\"\u001b[0m\u001b[1;33m)\u001b[0m\u001b[1;33m\u001b[0m\u001b[0m\n\u001b[0m",
      "\u001b[1;31mTypeError\u001b[0m: stu() got an unexpected keyword argument 'name'"
     ]
    }
   ],
   "source": [
    "stu(name=\"doumeng\")"
   ]
  },
  {
   "cell_type": "markdown",
   "metadata": {},
   "source": [
    "### 收集参数之关键字收集参数\n",
    "- 把关键字参数按字典的格式存入收集参数\n",
    "- 语法：\n",
    "        \n",
    "        def func(**kwargs):\n",
    "            func_body\n",
    "            \n",
    "        # 调用\n",
    "        func(p1=v1, p2=v2,......)\n",
    "  \n",
    "- 多余的关键字参数放入kwargs\n",
    "- 按字典格式访问"
   ]
  },
  {
   "cell_type": "code",
   "execution_count": null,
   "metadata": {
    "scrolled": true
   },
   "outputs": [],
   "source": [
    "#调用时需要按照关键字参数调用\n",
    "\n",
    "def stu(**kwargs):\n",
    "    print(\"hello,I want to introduce myself!!\")\n",
    "    print(type(kwargs))\n",
    "    #访问字典\n",
    "    \n",
    "    for k,v in kwargs.items():\n",
    "        print(k, \"------\",v)\n",
    "\n",
    "stu(name=\"doumeng\", age=19, addr=\"山东省滨州市\", lover=\"dingxiaoyi\", work=\"teacher\")\n",
    "\n",
    "print(\"*\" * 20)\n",
    "\n",
    "stu(name=\"doudashen\")"
   ]
  },
  {
   "cell_type": "markdown",
   "metadata": {},
   "source": [
    "### 收集参数混合调用的顺序问题\n",
    "- 收集参数、关键字参数、普通参数可以混合使用\n",
    "- 规则：普通参数和关键字参数优先\n",
    "- 定义时按照：普通参数、关键字参数、收集参数tuple、关键字收集参数dict"
   ]
  },
  {
   "cell_type": "code",
   "execution_count": null,
   "metadata": {},
   "outputs": [],
   "source": [
    "#混合调用的案例\n",
    "#学生的自我介绍\n",
    "\n",
    "def stu(name, age, *args, hobby=\"no hobby\", **kwargs):\n",
    "    print(\"hello, I want to introduce myself!!\")\n",
    "    print(\"我叫{0},今年{1}岁了\".format(name,age))\n",
    "    \n",
    "    if hobby==\"no hobby\":\n",
    "        print(\"我没有hobby，很抱歉\")\n",
    "    else:\n",
    "        print(\"我的爱好是：{0}\".format(hobby))\n",
    "        \n",
    "    print(\"*\" * 20)\n",
    "    \n",
    "    for i in args:\n",
    "        print(i)\n",
    "        \n",
    "    print(\"#\" * 20)\n",
    "    \n",
    "    for k,v in kwargs.items():\n",
    "        print(k,\"====\",v)\n",
    "        \n",
    "#调用\n",
    "name = \"doumeng\"\n",
    "age = 19\n",
    "\n",
    "stu(name, age)\n",
    "\n",
    "stu(name, age, hobby=\"swim\")\n",
    "\n",
    "stu(name, age, \"xinyu\", \"dingxiaoyi\", hobby=\"swim\", hobby2=\"和小姐姐聊天\", hobby3=\"吃好吃的\")"
   ]
  },
  {
   "cell_type": "markdown",
   "metadata": {},
   "source": [
    "### 收集参数的解包问题\n",
    "- 把参数放入list或者字典中，然后把list/dict直接放入收集参数"
   ]
  },
  {
   "cell_type": "code",
   "execution_count": null,
   "metadata": {
    "scrolled": true
   },
   "outputs": [],
   "source": [
    "#案例\n",
    "\n",
    "\n",
    "def stu(*args):\n",
    "    print(\"xi xi xi xi\")\n",
    "    \n",
    "    n = 0\n",
    "    for i in args:\n",
    "        #print(n)\n",
    "        #print(type(i))\n",
    "        print(i)\n",
    "        n += 1\n",
    "        \n",
    "\n",
    "#stu(\"doumeng\", \"19\", \"dingxiaoyi\")\n",
    "\n",
    "l = [\"doudou\", 19, 23, \"dingding\"]\n",
    "\n",
    "#直接传l并不可行，是把list当作dict的一个元素\n",
    "#此时需要解包符号*\n",
    "stu(*l)"
   ]
  },
  {
   "cell_type": "markdown",
   "metadata": {},
   "source": [
    "## 返回值\n",
    "- 函数与过程的区别\n",
    "    - 有无返回值\n",
    "\n",
    "- 需要用return显示返回内容\n",
    "- 如果没有返回，默认返回None\n",
    "- 推荐函数最后都是以return结束，无论是否有返回值"
   ]
  },
  {
   "cell_type": "markdown",
   "metadata": {},
   "source": [
    "# 函数文档\n",
    "- 写法\n",
    "    - 函数内部开始第一行使用三字符串定义符\n",
    "    - 一般具有特定格式\n",
    "    - 参看案例\n",
    "    \n",
    "- 文档查看\n",
    "    - 使用help函数，形如help(func)\n",
    "    - 使用doc"
   ]
  },
  {
   "cell_type": "code",
   "execution_count": null,
   "metadata": {},
   "outputs": [],
   "source": [
    "#文档案例\n",
    "\n",
    "def stu(name, age, *args):\n",
    "    '''\n",
    "    这是第一行\n",
    "    这是第二行\n",
    "    '''\n",
    "    print(\"this is hanshu stu\")"
   ]
  },
  {
   "cell_type": "code",
   "execution_count": null,
   "metadata": {},
   "outputs": [],
   "source": [
    "#查看函数文档\n",
    "help(stu)\n",
    "stu.__doc__"
   ]
  },
  {
   "cell_type": "markdown",
   "metadata": {},
   "source": [
    "# 变量的作用域\n",
    "- 分类\n",
    "    - 全局(global)：在函数外定义\n",
    "    - 局部(local)：在函数内部定义\n",
    "- 作用范围\n",
    "    - 全局：全局范围内都有效，在函数内部可以使用\n",
    "    - 局部：只在定义范围内有效\n",
    "- LEGB原则：\n",
    "    - L：局部作用域\n",
    "    - E：外部嵌套函数作用域\n",
    "    - G：函数定义所在模块作用域\n",
    "    - B：pthyon内置模块作用域\n",
    "- 提升局部变量为全局变量\n",
    "    - 使用global\n",
    "    - 通过globals和locals显示出局部变量和全局变量"
   ]
  },
  {
   "cell_type": "code",
   "execution_count": null,
   "metadata": {},
   "outputs": [],
   "source": [
    "a1 = 100;\n",
    "\n",
    "def fun():\n",
    "    print(a1)\n",
    "    print(\"I am in fun\")\n",
    "    a2 = 99\n",
    "    print(a2)\n",
    "    \n",
    "print(a1)\n",
    "fun()\n",
    "#print(a2)"
   ]
  },
  {
   "cell_type": "code",
   "execution_count": null,
   "metadata": {},
   "outputs": [],
   "source": [
    "#提升作用域示例\n",
    "\n",
    "def fun():\n",
    "    b1 = 100\n",
    "    print(b1)\n",
    "    print(\"I am in fun\")\n",
    "    global b2  \n",
    "    b2 = 99\n",
    "    print(b2)\n",
    "    print(\"locals={0}\".format(locals()))\n",
    "    \n",
    "fun()    \n",
    "print(b1)\n",
    "print(b2)\n",
    "\n",
    "#print(a2)"
   ]
  },
  {
   "cell_type": "markdown",
   "metadata": {},
   "source": [
    "# eval()函数\n",
    "- 把一个字符串当成函数来执行，返回表达式执行后的结果\n",
    "- 语法：\n",
    "\n",
    "        eval(string=code, globals=None, locals=None)\n",
    "\n",
    "- exec()函数功能类似，但是不返回结果\n",
    "        语法：\n",
    "        exec(string=code, globals=None, locals=None)"
   ]
  },
  {
   "cell_type": "code",
   "execution_count": null,
   "metadata": {},
   "outputs": [],
   "source": [
    "x = 100\n",
    "y = 200\n",
    "\n",
    "z1 = x + y\n",
    "z2 = exec(\"print('x + y:',x+y)\")\n",
    "print(z1)\n",
    "print(z2)"
   ]
  },
  {
   "cell_type": "markdown",
   "metadata": {},
   "source": [
    "# 递归函数\n",
    "- 函数直接或者简介调用自身\n",
    "- 优点：简洁，理解容易\n",
    "- 缺点：对递归深度有限制，消耗资源大\n",
    "- 一定注意结束条件"
   ]
  },
  {
   "cell_type": "code",
   "execution_count": null,
   "metadata": {},
   "outputs": [],
   "source": [
    "#递归深度限制代码\n",
    "\n",
    "x = 0\n",
    "\n",
    "def fun():\n",
    "    global x\n",
    "    x += 1\n",
    "    print(x)\n",
    "    #调用自身\n",
    "    fun()\n",
    "    \n",
    "fun()"
   ]
  },
  {
   "cell_type": "code",
   "execution_count": 54,
   "metadata": {
    "scrolled": false
   },
   "outputs": [
    {
     "name": "stdout",
     "output_type": "stream",
     "text": [
      "55\n"
     ]
    }
   ],
   "source": [
    "#费波拉契数列\n",
    "\n",
    "def fib(n):\n",
    "    if n == 1:\n",
    "        return 1\n",
    "    if n == 2:\n",
    "        return 1\n",
    "    \n",
    "    return fib(n-1) + fib(n-2)\n",
    "\n",
    "print(fib(10))"
   ]
  },
  {
   "cell_type": "code",
   "execution_count": 75,
   "metadata": {},
   "outputs": [
    {
     "name": "stdout",
     "output_type": "stream",
     "text": [
      "A -----> C\n",
      "A -----> B\n",
      "C -----> B\n",
      "A -----> C\n",
      "B -----> A\n",
      "B -----> C\n",
      "A -----> C\n"
     ]
    }
   ],
   "source": [
    "#汉诺塔\n",
    "#规则：每次移动一个盘子；小盘子始终在上棉\n",
    "#方法：\n",
    "#1.n=1,A->C\n",
    "#2.n=2,A->B,A->C,B->C\n",
    "#3.n=3,A上的两个盘子移到B上，A->C,B->C\n",
    "\n",
    "def hanotower(n, a, b, c):\n",
    "    '''\n",
    "    汉诺塔的递归实现\n",
    "    n:代表塔的层数\n",
    "    a:第一个塔\n",
    "    b:第二个塔\n",
    "    c:第三个塔\n",
    "    '''\n",
    "    \n",
    "    if n == 1:\n",
    "        print(a, \"----->\", c)\n",
    "        return \n",
    "    '''\n",
    "    if n == 2:\n",
    "        print(a, \"----->\", b)\n",
    "        print(a, \"----->\", c)\n",
    "        print(b, \"----->\", c)\n",
    "        return\n",
    "    \n",
    "    '''\n",
    "    hanotower(n-1, a, c, b)\n",
    "    print(a, \"----->\", c)\n",
    "    hanotower(n-1, b, a, c)\n",
    "\n",
    "hanotower(3, \"A\", \"B\", \"C\")"
   ]
  }
 ],
 "metadata": {
  "kernelspec": {
   "display_name": "Python 3",
   "language": "python",
   "name": "python3"
  },
  "language_info": {
   "codemirror_mode": {
    "name": "ipython",
    "version": 3
   },
   "file_extension": ".py",
   "mimetype": "text/x-python",
   "name": "python",
   "nbconvert_exporter": "python",
   "pygments_lexer": "ipython3",
   "version": "3.6.4"
  }
 },
 "nbformat": 4,
 "nbformat_minor": 2
}
