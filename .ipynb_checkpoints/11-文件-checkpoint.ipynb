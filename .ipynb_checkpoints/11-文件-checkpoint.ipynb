{
 "cells": [
  {
   "cell_type": "markdown",
   "metadata": {},
   "source": [
    "# 文件\n",
    "- 长久保存信息的一种数据信息的集合\n",
    "- 常用操作\n",
    "    - 打开关闭（文件一旦打开，需要关闭操作）\n",
    "    - 读写内容\n",
    "    - 查找"
   ]
  },
  {
   "cell_type": "markdown",
   "metadata": {},
   "source": [
    "## open函数\n",
    "- 负责打开文件，带有很多参数\n",
    "- 第一个参数必须有，文件的路径和名称\n",
    "- mode：表明文件的打开方式\n",
    "    - r：只读方式打开\n",
    "    - w：写方式打开，会覆盖以前的内容，文件不存在，就创建一个文件\n",
    "    - x：创建方式打开，如果文件已经存在，报错\n",
    "    - a：append方式，追加方式写入\n",
    "    - b：binary方式，二进制方式写入\n",
    "    - t：文本方式打开\n",
    "    - +：可读写"
   ]
  },
  {
   "cell_type": "code",
   "execution_count": 1,
   "metadata": {},
   "outputs": [],
   "source": [
    "#打开文件，写的方式\n",
    "#f成为文件句柄\n",
    "#r表示后面字符串不需要转义\n",
    "f = open(\"test01.txt\", 'w')\n",
    "#打开关闭相对应\n",
    "f.close()"
   ]
  },
  {
   "cell_type": "markdown",
   "metadata": {},
   "source": [
    "## with语句\n",
    "- 一种成为上下文管理协议的技术\n",
    "- 自动判断文件的作用域，自动关闭不再使用的文件句柄"
   ]
  },
  {
   "cell_type": "code",
   "execution_count": 3,
   "metadata": {},
   "outputs": [],
   "source": [
    "#with案例\n",
    "with open(r\"test01.txt\", 'r')as f:\n",
    "    pass\n",
    "#下面的语句开始对文件进行操作\n",
    "#该模块不需要close句柄"
   ]
  },
  {
   "cell_type": "code",
   "execution_count": 27,
   "metadata": {
    "scrolled": false
   },
   "outputs": [
    {
     "name": "stdout",
     "output_type": "stream",
     "text": [
      "白茶清欢无别事\n",
      "\n",
      "我在等风也等你\n",
      "\n",
      "人生若只如初见\n",
      "\n",
      "何事秋风悲画扇\n"
     ]
    }
   ],
   "source": [
    "#with案例\n",
    "with open(r'test01.txt', 'r', encoding='utf-8') as f:\n",
    "    strline = f.readline()\n",
    "    \n",
    "    while strline:\n",
    "        print(strline)\n",
    "        strline = f.readline()"
   ]
  },
  {
   "cell_type": "code",
   "execution_count": 26,
   "metadata": {
    "scrolled": true
   },
   "outputs": [
    {
     "name": "stdout",
     "output_type": "stream",
     "text": [
      "白茶清欢无别事\n",
      "\n",
      "我在等风也等你\n",
      "\n",
      "人生若只如初见\n",
      "\n",
      "何事秋风悲画扇\n"
     ]
    }
   ],
   "source": [
    "with open(r'test01.txt', 'r', encoding='utf-8') as f:\n",
    "    l = list(f)\n",
    "    \n",
    "    for line in l:\n",
    "        print(line)"
   ]
  },
  {
   "cell_type": "code",
   "execution_count": 25,
   "metadata": {
    "scrolled": true
   },
   "outputs": [
    {
     "name": "stdout",
     "output_type": "stream",
     "text": [
      "1\n",
      "白\n"
     ]
    }
   ],
   "source": [
    "#read是按字符读取文件内容\n",
    "#允许输入参数决定读取几个字符，如果没有制定，默认从当前位置读到结尾\n",
    "#否则读取指定个数字符\n",
    "\n",
    "with open(r'test01.txt', 'r', encoding='utf-8') as f:\n",
    "    strchar = f.read(1)\n",
    "    print(len(strchar))\n",
    "    print(strchar)\n",
    "    "
   ]
  },
  {
   "cell_type": "markdown",
   "metadata": {},
   "source": [
    "## seek(offset, from)\n",
    "- 移动文件的读取位置，也叫读取指针\n",
    "- from的取值范围：\n",
    "    - 0：从文件头开始偏移\n",
    "    - 1：从文件当前位置开始偏移\n",
    "    - 2：从文件末尾开始偏移\n",
    "- 移动的单位是字节（byte）\n",
    "- 一个汉字由若干个字节组成"
   ]
  },
  {
   "cell_type": "code",
   "execution_count": 24,
   "metadata": {
    "scrolled": true
   },
   "outputs": [
    {
     "name": "stdout",
     "output_type": "stream",
     "text": [
      "茶清欢无别事\n",
      "我在等风也等你\n",
      "人生若只如初见\n",
      "何事秋风悲画扇\n"
     ]
    }
   ],
   "source": [
    "#seek案例\n",
    "#打开文件后，从第5个字节处开始读取\n",
    "#打开读写指针在0处，即文件开头\n",
    "\n",
    "with open(r'test01.txt', 'r', encoding='utf-8') as f:\n",
    "    f.seek(3, 0)\n",
    "    strchar = f.read()\n",
    "    print(strchar)"
   ]
  },
  {
   "cell_type": "code",
   "execution_count": 22,
   "metadata": {},
   "outputs": [
    {
     "name": "stdout",
     "output_type": "stream",
     "text": [
      "白茶清欢\n",
      "无别事\n",
      "\n",
      "我在\n",
      "等风也\n",
      "等你\n",
      "\n",
      "人生若\n",
      "只如初\n",
      "见\n",
      "何\n",
      "事秋风\n",
      "悲画扇\n"
     ]
    }
   ],
   "source": [
    "#关于读取文件的练习\n",
    "#打开文件，三个字符一组读出内容，显示在屏幕上\n",
    "#每读一次，休息1s\n",
    "\n",
    "import time\n",
    "\n",
    "with open(r\"test01.txt\", 'r', encoding='utf-8') as f:\n",
    "    strchar = f.read(4)\n",
    "    \n",
    "    while strchar:\n",
    "        print(strchar)\n",
    "        time.sleep(1)\n",
    "        strchar = f.read(3)\n",
    "        "
   ]
  }
 ],
 "metadata": {
  "kernelspec": {
   "display_name": "Python 3",
   "language": "python",
   "name": "python3"
  },
  "language_info": {
   "codemirror_mode": {
    "name": "ipython",
    "version": 3
   },
   "file_extension": ".py",
   "mimetype": "text/x-python",
   "name": "python",
   "nbconvert_exporter": "python",
   "pygments_lexer": "ipython3",
   "version": "3.6.4"
  }
 },
 "nbformat": 4,
 "nbformat_minor": 2
}
