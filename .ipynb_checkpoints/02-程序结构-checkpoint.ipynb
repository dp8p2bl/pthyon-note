{
 "cells": [
  {
   "cell_type": "markdown",
   "metadata": {},
   "source": [
    "# 程序结构\n",
    "- 顺序\n",
    "- 分支\n",
    "- 循环"
   ]
  },
  {
   "cell_type": "markdown",
   "metadata": {},
   "source": [
    "## 分支\n",
    "### 单项分支\n",
    "- 基本语法：\n",
    "        if 条件表达式：\n",
    "            语句1\n",
    "            语句2\n",
    "            ......\n",
    "- 条件表达式就是计算结果必须为bool的表达式\n",
    "- 表达式后面的冒号不能少\n",
    "- 注意if后面的语句，同一个if的语句必须缩进同一个等级"
   ]
  },
  {
   "cell_type": "code",
   "execution_count": 1,
   "metadata": {},
   "outputs": [
    {
     "name": "stdout",
     "output_type": "stream",
     "text": [
      "去叫家长\n",
      "我们不带他玩\n",
      "滚球！！！\n"
     ]
    }
   ],
   "source": [
    "#if语句联系\n",
    "#如果年龄小于18，打印去叫家长\n",
    "\n",
    "age = 17\n",
    "if age < 18:\n",
    "    print(\"去叫家长\")\n",
    "    print(\"我们不带他玩\")\n",
    "    print(\"滚球！！！\")"
   ]
  },
  {
   "cell_type": "code",
   "execution_count": 1,
   "metadata": {},
   "outputs": [
    {
     "name": "stdout",
     "output_type": "stream",
     "text": [
      "上车了，老司机们！！！\n"
     ]
    }
   ],
   "source": [
    "#if语句联系\n",
    "#如果年龄不小于18，打印上车\n",
    "\n",
    "age = 19\n",
    "if age < 18:\n",
    "    print(\"去叫家长\")\n",
    "    print(\"我们不带他玩\")\n",
    "    print(\"滚球！！！\")\n",
    "    \n",
    "print(\"上车了，老司机们！！！\")"
   ]
  },
  {
   "cell_type": "markdown",
   "metadata": {},
   "source": [
    "### 双向分支\n",
    "- if...else..语句基本语法\n",
    "\n",
    "        if 条件表达式:\n",
    "            语句1\n",
    "            语句2\n",
    "            ....\n",
    "        else:\n",
    "            语句1\n",
    "            语句2\n",
    "            ....\n",
    "- 一定会执行一个语句块\n",
    "- 缩进问题注意"
   ]
  },
  {
   "cell_type": "code",
   "execution_count": null,
   "metadata": {},
   "outputs": [],
   "source": [
    "#input pthyon系统函数\n",
    "#在屏幕上输出语句，同时接受屏幕输入\n",
    "#返回内容为字符串类型\n",
    "gender = input(\"请输入你的性别：\")\n",
    "print(\"你输入的性别为：{0}\".format(gender))\n",
    "\n",
    "if gender == \"nan\":\n",
    "    print(\"我是男人！！！\")\n",
    "else:\n",
    "    print(\"我是女人！！！\")\n",
    "        \n",
    "print(\"上课了？？？\")"
   ]
  },
  {
   "cell_type": "markdown",
   "metadata": {},
   "source": [
    "### 多路分支 \n",
    "- 基本语法\n",
    "\n",
    "    if 条件表达式：\n",
    "        语句1\n",
    "        ....\n",
    "    elif 条件表达式：\n",
    "        语句2\n",
    "        ....\n",
    "    elif 条件表达式：\n",
    "        语句2\n",
    "        ....\n",
    "        \n",
    "- 只会选择一个分支执行\n",
    "- pthyon没有switch-case语句"
   ]
  },
  {
   "cell_type": "code",
   "execution_count": 4,
   "metadata": {},
   "outputs": [
    {
     "name": "stdout",
     "output_type": "stream",
     "text": [
      "please input your score:34\n",
      "FUCK OFF!!!\n"
     ]
    }
   ],
   "source": [
    "score = input(\"please input your score:\")\n",
    "#int()强制类型转换\n",
    "score = int(score)\n",
    "\n",
    "if score >= 90:\n",
    "    print(\"A\")\n",
    "elif score >= 80:\n",
    "    print(\"B\")\n",
    "elif score >= 70:\n",
    "    print(\"C\")\n",
    "elif score >= 60:\n",
    "    print(\"D\")\n",
    "else:\n",
    "    print(\"FUCK OFF!!!\")"
   ]
  },
  {
   "cell_type": "markdown",
   "metadata": {},
   "source": [
    "## 循环\n",
    "### for循环\n",
    "- 基本语法\n",
    "\n",
    "        for 变量 in 序列：\n",
    "            语句1\n",
    "            语句2\n",
    "            ....\n",
    "-"
   ]
  },
  {
   "cell_type": "code",
   "execution_count": 6,
   "metadata": {},
   "outputs": [
    {
     "name": "stdout",
     "output_type": "stream",
     "text": [
      "zhangsan\n",
      "lisi\n",
      "zhaoliu\n",
      "xinyu\n"
     ]
    }
   ],
   "source": [
    "#序列 用中括号表示的一列数字或者其他值\n",
    "#for example['zhangsan','lisi','zhaoliu','xinyu']\n",
    "#打印列表\n",
    "\n",
    "for name in ['zhangsan','lisi','zhaoliu','xinyu']:\n",
    "    print(name)"
   ]
  },
  {
   "cell_type": "code",
   "execution_count": 8,
   "metadata": {},
   "outputs": [
    {
     "name": "stdout",
     "output_type": "stream",
     "text": [
      "zhangsan\n",
      "fuck off\n",
      "lisi\n",
      "fuck off\n",
      "zhaoliu\n",
      "fuck off\n",
      "xinyu\n",
      "xinyu my love\n"
     ]
    }
   ],
   "source": [
    "#打印列表\n",
    "#如果是xinyu，我的最爱\n",
    "#其他人，随便\n",
    "\n",
    "for name in ['zhangsan','lisi','zhaoliu','xinyu']:\n",
    "    print(name)\n",
    "    if name == 'xinyu':\n",
    "        print(\"{0} my love\".format(name))\n",
    "    else:\n",
    "        print(\"fuck off\")"
   ]
  }
 ],
 "metadata": {
  "kernelspec": {
   "display_name": "Python 3",
   "language": "python",
   "name": "python3"
  },
  "language_info": {
   "codemirror_mode": {
    "name": "ipython",
    "version": 3
   },
   "file_extension": ".py",
   "mimetype": "text/x-python",
   "name": "python",
   "nbconvert_exporter": "python",
   "pygments_lexer": "ipython3",
   "version": "3.6.4"
  }
 },
 "nbformat": 4,
 "nbformat_minor": 2
}
