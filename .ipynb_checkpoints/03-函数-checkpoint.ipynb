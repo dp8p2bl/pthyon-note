{
 "cells": [
  {
   "cell_type": "markdown",
   "metadata": {},
   "source": [
    "# 函数\n",
    "- 代码的一种组织形式\n",
    "- 一个函数完成一项特定的功能\n",
    "- 函数定义：\n",
    "    - 函数需要先定义\n",
    "    - 使用函数，俗称调用"
   ]
  },
  {
   "cell_type": "code",
   "execution_count": 7,
   "metadata": {},
   "outputs": [
    {
     "name": "stdout",
     "output_type": "stream",
     "text": [
      "bye!!!\n",
      "我是一个函数\n"
     ]
    }
   ],
   "source": [
    "#定义一个函数\n",
    "#def+空格\n",
    "#注意函数命名规则\n",
    "#括号冒号不能省\n",
    "#缩进注意\n",
    "\n",
    "def func():\n",
    "    print(\"我是一个函数\")\n",
    "print(\"bye!!!\")\n",
    "func()"
   ]
  },
  {
   "cell_type": "markdown",
   "metadata": {},
   "source": [
    "## 函数的参数和返回值\n",
    "- 参数：给函数传递必要的数据或者信息\n",
    "    - 形参：定义时用到，没有具体值\n",
    "    - 实参：调用函数时输入的值\n",
    "- 返回值：函数的返回结果\n",
    "    - 使用return返回\n",
    "    - 如果没有return，默认返回None\n",
    "    - 函数一旦执行return，无条件返回，结束函数的执行"
   ]
  },
  {
   "cell_type": "code",
   "execution_count": 11,
   "metadata": {},
   "outputs": [
    {
     "name": "stdout",
     "output_type": "stream",
     "text": [
      "sam,你肿么了\n",
      "sir,嫩不理额额就走类\n",
      "已经和sam打过招呼了，sam不理我\n"
     ]
    }
   ],
   "source": [
    "#参数的使用\n",
    "#参数仅仅是一个符号，仅代表调用的某个数据\n",
    "def hello(person):\n",
    "    print(\"{0},你肿么了\".format(person))\n",
    "    print(\"sir,嫩不理额额就走类\")\n",
    "    return \"已经和{0}打过招呼了，{1}不理我\".format(person,person)\n",
    "\n",
    "rst = hello(\"sam\")\n",
    "print(rst)"
   ]
  },
  {
   "cell_type": "code",
   "execution_count": 12,
   "metadata": {},
   "outputs": [
    {
     "name": "stdout",
     "output_type": "stream",
     "text": [
      "sam,你肿么了\n",
      "hahahahah\n"
     ]
    }
   ],
   "source": [
    "#return案例\n",
    "\n",
    "def hello(person):\n",
    "    print(\"{0},你肿么了\".format(person))\n",
    "    return \"hahahahah\"\n",
    "    print(\"sir,嫩不理额额就走类\")\n",
    "    return \"已经和{0}打过招呼了，{1}不理我\".format(person,person)\n",
    "\n",
    "rst = hello(\"sam\")\n",
    "print(rst)"
   ]
  },
  {
   "cell_type": "code",
   "execution_count": 18,
   "metadata": {},
   "outputs": [
    {
     "name": "stdout",
     "output_type": "stream",
     "text": [
      "1 * 1 = 1  \n",
      "1 * 2 = 2  2 * 2 = 4  \n",
      "1 * 3 = 3  2 * 3 = 6  3 * 3 = 9  \n",
      "1 * 4 = 4  2 * 4 = 8  3 * 4 = 12  4 * 4 = 16  \n",
      "1 * 5 = 5  2 * 5 = 10  3 * 5 = 15  4 * 5 = 20  5 * 5 = 25  \n",
      "1 * 6 = 6  2 * 6 = 12  3 * 6 = 18  4 * 6 = 24  5 * 6 = 30  6 * 6 = 36  \n",
      "1 * 7 = 7  2 * 7 = 14  3 * 7 = 21  4 * 7 = 28  5 * 7 = 35  6 * 7 = 42  7 * 7 = 49  \n",
      "1 * 8 = 8  2 * 8 = 16  3 * 8 = 24  4 * 8 = 32  5 * 8 = 40  6 * 8 = 48  7 * 8 = 56  8 * 8 = 64  \n",
      "1 * 9 = 9  2 * 9 = 18  3 * 9 = 27  4 * 9 = 36  5 * 9 = 45  6 * 9 = 54  7 * 9 = 63  8 * 9 = 72  9 * 9 = 81  \n"
     ]
    }
   ],
   "source": [
    "#九九乘法表\n",
    "#print函数打印完成后立即换行\n",
    "for row in range(1,10):\n",
    "    for col in range(1,row+1):\n",
    "        print(\"{0} * {1} = {2} \".format(col,row,row*col),end = \" \")\n",
    "    print()"
   ]
  },
  {
   "cell_type": "code",
   "execution_count": 13,
   "metadata": {
    "scrolled": true
   },
   "outputs": [
    {
     "name": "stdout",
     "output_type": "stream",
     "text": [
      "Help on built-in function print in module builtins:\n",
      "\n",
      "print(...)\n",
      "    print(value, ..., sep=' ', end='\\n', file=sys.stdout, flush=False)\n",
      "    \n",
      "    Prints the values to a stream, or to sys.stdout by default.\n",
      "    Optional keyword arguments:\n",
      "    file:  a file-like object (stream); defaults to the current sys.stdout.\n",
      "    sep:   string inserted between values, default a space.\n",
      "    end:   string appended after the last value, default a newline.\n",
      "    flush: whether to forcibly flush the stream.\n",
      "\n"
     ]
    }
   ],
   "source": [
    "#help函数\n",
    "\n",
    "help(print)"
   ]
  },
  {
   "cell_type": "code",
   "execution_count": 19,
   "metadata": {},
   "outputs": [
    {
     "name": "stdout",
     "output_type": "stream",
     "text": [
      "1 * 1 = 1  \n",
      "1 * 2 = 2  2 * 2 = 4  \n",
      "1 * 3 = 3  2 * 3 = 6  3 * 3 = 9  \n",
      "1 * 4 = 4  2 * 4 = 8  3 * 4 = 12  4 * 4 = 16  \n",
      "1 * 5 = 5  2 * 5 = 10  3 * 5 = 15  4 * 5 = 20  5 * 5 = 25  \n",
      "1 * 6 = 6  2 * 6 = 12  3 * 6 = 18  4 * 6 = 24  5 * 6 = 30  6 * 6 = 36  \n",
      "1 * 7 = 7  2 * 7 = 14  3 * 7 = 21  4 * 7 = 28  5 * 7 = 35  6 * 7 = 42  7 * 7 = 49  \n",
      "1 * 8 = 8  2 * 8 = 16  3 * 8 = 24  4 * 8 = 32  5 * 8 = 40  6 * 8 = 48  7 * 8 = 56  8 * 8 = 64  \n",
      "1 * 9 = 9  2 * 9 = 18  3 * 9 = 27  4 * 9 = 36  5 * 9 = 45  6 * 9 = 54  7 * 9 = 63  8 * 9 = 72  9 * 9 = 81  \n"
     ]
    }
   ],
   "source": [
    "def print_line(row):\n",
    "    for col in range(1,row+1):\n",
    "        print(\"{0} * {1} = {2} \".format(col,row,row*col),end = \" \")\n",
    "    print()\n",
    "\n",
    "for row in range(1,10):\n",
    "    print_line(row)"
   ]
  },
  {
   "cell_type": "markdown",
   "metadata": {},
   "source": [
    "## 参数详解\n",
    "- 参考资料\n",
    "    - www.cnblogs.com/bingabcd/p/6671368.html\n",
    "    - headfirst python\n",
    "    - 零基础入门学习pthyon（小甲鱼）习题\n",
    "- 参数分类\n",
    "    - 普通参数\n",
    "    - 默认参数\n",
    "    - 关键字参数\n",
    "    - 收集参数\n",
    "\n",
    "    - 普通参数\n",
    "        - 定义直接定义变量名\n",
    "        - 调用时直接传值\n",
    "    \n",
    "            def 函数名(参数1,参数2,......):\n",
    "                函数体\n",
    "        \n",
    "        - 调用\n",
    "            - 函数名(value1,value2,......)\n",
    "            - 只根据位置赋值\n",
    "      \n",
    "    - 默认参数\n",
    "        - 形参带有默认值\n",
    "        - 调用时，如果没有对应形参赋值，则使用默认值\n",
    "        \n",
    "                    def func_name(p1=v1,p2=v2......):\n",
    "                        func_block\n",
    "                    \n",
    "        - 调用\n",
    "                    value1=100\n",
    "                    value2=200\n",
    "                    func_name(value1,value2)"
   ]
  },
  {
   "cell_type": "code",
   "execution_count": 21,
   "metadata": {},
   "outputs": [
    {
     "name": "stdout",
     "output_type": "stream",
     "text": [
      "xinyu is 25 years old,she is a good student!\n",
      "doumeng is 25 years old,he is a good student!\n"
     ]
    }
   ],
   "source": [
    "#默认参数示例\n",
    "#报名函数需要知道学生性别\n",
    "#学习pthyon默认是男生\n",
    "\n",
    "def fun_c(name,age,gender=\"male\"):\n",
    "    if gender == \"male\":\n",
    "        print(\"{0} is {1} years old,he is a good student!\".format(name,age,gender))\n",
    "    else:\n",
    "        print(\"{0} is {1} years old,she is a good student!\".format(name,age,gender))\n",
    "\n",
    "fun_c(\"xinyu\",25,\"female\")\n",
    "fun_c(\"doumeng\",25)"
   ]
  }
 ],
 "metadata": {
  "kernelspec": {
   "display_name": "Python 3",
   "language": "python",
   "name": "python3"
  },
  "language_info": {
   "codemirror_mode": {
    "name": "ipython",
    "version": 3
   },
   "file_extension": ".py",
   "mimetype": "text/x-python",
   "name": "python",
   "nbconvert_exporter": "python",
   "pygments_lexer": "ipython3",
   "version": "3.6.4"
  }
 },
 "nbformat": 4,
 "nbformat_minor": 2
}
