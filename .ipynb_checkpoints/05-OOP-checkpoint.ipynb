{
 "cells": [
  {
   "cell_type": "code",
   "execution_count": 2,
   "metadata": {},
   "outputs": [
    {
     "data": {
      "text/plain": [
       "{}"
      ]
     },
     "execution_count": 2,
     "metadata": {},
     "output_type": "execute_result"
    }
   ],
   "source": [
    "class Student():\n",
    "    name = \"dandan\"\n",
    "    age = 18\n",
    "\n",
    "yiyi = Student()\n",
    "yiyi.__dict__"
   ]
  },
  {
   "cell_type": "code",
   "execution_count": 4,
   "metadata": {},
   "outputs": [
    {
     "name": "stdout",
     "output_type": "stream",
     "text": [
      "xiaoyi\n",
      "18\n",
      "--------------------\n",
      "2758286129672\n",
      "1819897856\n",
      "--------------------\n",
      "xixi\n",
      "19\n",
      "--------------------\n",
      "2758286236728\n",
      "1819897888\n"
     ]
    }
   ],
   "source": [
    "class A():\n",
    "    name = \"xiaoyi\"\n",
    "    age = 18\n",
    "    \n",
    "    def say(self):\n",
    "        self.name = \"aaaa\"\n",
    "        age = 200\n",
    "#A为类实例      \n",
    "print(A.name)\n",
    "print(A.age)\n",
    "\n",
    "print(\"-\" * 20)\n",
    "\n",
    "print(id(A.name))\n",
    "print(id(A.age))\n",
    "\n",
    "print(\"-\" * 20)\n",
    "\n",
    "a = A()\n",
    "a.name = \"xixi\"\n",
    "a.age = 19\n",
    "\n",
    "print(a.name)\n",
    "print(a.age)\n",
    "\n",
    "print(\"-\" * 20)\n",
    "\n",
    "print(id(a.name))\n",
    "print(id(a.age))"
   ]
  },
  {
   "cell_type": "code",
   "execution_count": 6,
   "metadata": {},
   "outputs": [
    {
     "name": "stdout",
     "output_type": "stream",
     "text": [
      "my name is aaaa,I am 200 years old\n"
     ]
    }
   ],
   "source": [
    "class Student():\n",
    "    name = \"xiaoyi\"\n",
    "    age = 18\n",
    "    \n",
    "    def say(self):\n",
    "        self.name = \"aaaa\"\n",
    "        self.age = 200\n",
    "        print(\"my name is {0},I am {1} years old\".format(self.name,self.age))\n",
    "        \n",
    "yiyi = Student()\n",
    "yiyi.say()"
   ]
  },
  {
   "cell_type": "code",
   "execution_count": 5,
   "metadata": {
    "scrolled": true
   },
   "outputs": [
    {
     "name": "stdout",
     "output_type": "stream",
     "text": [
      "my name is xixi,I am 25 years old\n",
      "doudou\n",
      "25\n",
      "hello, nice to see you again!!\n"
     ]
    }
   ],
   "source": [
    "class Teacher():\n",
    "    name = \"doudou\"\n",
    "    age = 25\n",
    "    \n",
    "    def say(self):\n",
    "        self.name = \"xixi\"\n",
    "        self.age = 200\n",
    "        print(\"my name is {0},I am {1} years old\".format(self.name,__class__.age))\n",
    "        \n",
    "    def sayagain():\n",
    "        print(__class__.name)\n",
    "        print(__class__.age)\n",
    "        print(\"hello, nice to see you again!!\")\n",
    "        \n",
    "t = Teacher()\n",
    "\n",
    "t.say()\n",
    "\n",
    "Teacher.sayagain()"
   ]
  },
  {
   "cell_type": "code",
   "execution_count": 10,
   "metadata": {
    "scrolled": true
   },
   "outputs": [
    {
     "name": "stdout",
     "output_type": "stream",
     "text": [
      "aaaa\n",
      "200\n",
      "aaaa\n",
      "200\n",
      "xinxin\n",
      "18\n",
      "bbbb\n",
      "100\n"
     ]
    }
   ],
   "source": [
    "#关于self的案例\n",
    "\n",
    "class A():\n",
    "    name = \"xinxin\"\n",
    "    age = 18\n",
    "    \n",
    "    def __init__(self):\n",
    "        self.name = \"aaaa\"\n",
    "        self.age = \"200\"\n",
    "        \n",
    "    def say(self):\n",
    "        print(self.name)\n",
    "        print(self.age)\n",
    "        \n",
    "class B():\n",
    "    name = \"bbbb\"\n",
    "    age = 100\n",
    "    \n",
    "a = A()\n",
    "a.say()\n",
    "#此时，系统会默认把a作为第一个参数传入函数\n",
    "A.say(a)\n",
    "A.say(A)\n",
    "#此时传入类实例\n",
    "A.say(B)\n",
    "\n",
    "#以上代码实现了鸭子模型"
   ]
  },
  {
   "cell_type": "code",
   "execution_count": 12,
   "metadata": {
    "scrolled": true
   },
   "outputs": [
    {
     "name": "stdout",
     "output_type": "stream",
     "text": [
      "doumeng\n"
     ]
    },
    {
     "ename": "AttributeError",
     "evalue": "'Person' object has no attribute '__age'",
     "output_type": "error",
     "traceback": [
      "\u001b[1;31m---------------------------------------------------------------------------\u001b[0m",
      "\u001b[1;31mAttributeError\u001b[0m                            Traceback (most recent call last)",
      "\u001b[1;32m<ipython-input-12-ffa8e5086699>\u001b[0m in \u001b[0;36m<module>\u001b[1;34m()\u001b[0m\n\u001b[0;32m      7\u001b[0m \u001b[0mp\u001b[0m \u001b[1;33m=\u001b[0m \u001b[0mPerson\u001b[0m\u001b[1;33m(\u001b[0m\u001b[1;33m)\u001b[0m\u001b[1;33m\u001b[0m\u001b[0m\n\u001b[0;32m      8\u001b[0m \u001b[0mprint\u001b[0m\u001b[1;33m(\u001b[0m\u001b[0mp\u001b[0m\u001b[1;33m.\u001b[0m\u001b[0mname\u001b[0m\u001b[1;33m)\u001b[0m\u001b[1;33m\u001b[0m\u001b[0m\n\u001b[1;32m----> 9\u001b[1;33m \u001b[0mprint\u001b[0m\u001b[1;33m(\u001b[0m\u001b[0mp\u001b[0m\u001b[1;33m.\u001b[0m\u001b[0m__age\u001b[0m\u001b[1;33m)\u001b[0m\u001b[1;33m\u001b[0m\u001b[0m\n\u001b[0m",
      "\u001b[1;31mAttributeError\u001b[0m: 'Person' object has no attribute '__age'"
     ]
    }
   ],
   "source": [
    "class Person():\n",
    "                #name是共有成员\n",
    "                name = \"doumeng\"\n",
    "                #__age是私有成员\n",
    "                __age = 19\n",
    "                \n",
    "p = Person()\n",
    "print(p.name)\n",
    "#print(p.__age)\n"
   ]
  },
  {
   "cell_type": "code",
   "execution_count": 14,
   "metadata": {
    "scrolled": true
   },
   "outputs": [
    {
     "name": "stdout",
     "output_type": "stream",
     "text": [
      "{'__module__': '__main__', 'name': 'doumeng', '_Person__age': 19, '__dict__': <attribute '__dict__' of 'Person' objects>, '__weakref__': <attribute '__weakref__' of 'Person' objects>, '__doc__': None}\n",
      "19\n"
     ]
    }
   ],
   "source": [
    "print(Person.__dict__)\n",
    "p._Person__age = 19\n",
    "print(p._Person__age)"
   ]
  },
  {
   "cell_type": "code",
   "execution_count": 18,
   "metadata": {
    "scrolled": true
   },
   "outputs": [
    {
     "name": "stdout",
     "output_type": "stream",
     "text": [
      "xiaoyi\n",
      "sec\n"
     ]
    }
   ],
   "source": [
    "# 继承的语法\n",
    "class Person():\n",
    "    name = \"no name\"\n",
    "    age = 0\n",
    "    __score = 0\n",
    "    _petname =\"sec\"\n",
    "    def sleep(self):\n",
    "        print(\"sleeping\")\n",
    "        \n",
    "class Teacher(Person):\n",
    "    name = \"xiaoyi\"\n",
    "    teacher_id = \"9527\"\n",
    "    def make_test(self):\n",
    "        super().sleep()\n",
    "        print(\"make test\")\n",
    "    pass\n",
    "\n",
    "t = Teacher()\n",
    "print(t.name)\n",
    "print(t._petname)"
   ]
  },
  {
   "cell_type": "code",
   "execution_count": 21,
   "metadata": {
    "scrolled": true
   },
   "outputs": [
    {
     "name": "stdout",
     "output_type": "stream",
     "text": [
      "make test\n",
      "make some money\n"
     ]
    }
   ],
   "source": [
    "#子类扩充父类功能\n",
    "class Person():\n",
    "    name = \"no name\"\n",
    "    age = 0\n",
    "    __score = 0\n",
    "    _petname =\"sec\"\n",
    "    def sleep(self):\n",
    "        print(\"sleeping\")\n",
    "    \n",
    "    def work(self):\n",
    "        print(\"make some money\")\n",
    "        \n",
    "class Teacher(Person):\n",
    "    name = \"xiaoyi\"\n",
    "    teacher_id = \"9527\"\n",
    "    def make_test(self):\n",
    "        print(\"make test\")\n",
    "        \n",
    "    def work(self):\n",
    "        self.make_test()\n",
    "        Person.work(self)\n",
    "    pass\n",
    "\n",
    "t = Teacher()\n",
    "t.work()"
   ]
  },
  {
   "cell_type": "code",
   "execution_count": 22,
   "metadata": {
    "scrolled": true
   },
   "outputs": [
    {
     "name": "stdout",
     "output_type": "stream",
     "text": [
      "I am a dog\n"
     ]
    }
   ],
   "source": [
    "#构造函数的概念\n",
    "class Dog():\n",
    "    def __init__(self):\n",
    "        print(\"I am a dog\")\n",
    "        \n",
    "dingding = Dog()"
   ]
  },
  {
   "cell_type": "code",
   "execution_count": 24,
   "metadata": {
    "scrolled": true
   },
   "outputs": [
    {
     "name": "stdout",
     "output_type": "stream",
     "text": [
      "I am a dog\n",
      "paxing de gou ye  shi gou a\n"
     ]
    }
   ],
   "source": [
    "#继承里的构造函数\n",
    "class Animal():\n",
    "    pass\n",
    "\n",
    "class PaXingAnimal(Animal):\n",
    "    def __init__(self):\n",
    "        print(\"paxing de gou ye  shi gou a\")\n",
    "    pass\n",
    "\n",
    "class Dog(PaXingAnimal):\n",
    "    def __init__(self):\n",
    "        print(\"I am a dog\")\n",
    "#实例化的时候，括号内的参数需要和构造函数相匹配\n",
    "dingding = Dog()\n",
    "\n",
    "class Mao(PaXingAnimal):\n",
    "    pass\n",
    "\n",
    "c = Mao()"
   ]
  },
  {
   "cell_type": "code",
   "execution_count": 26,
   "metadata": {},
   "outputs": [
    {
     "name": "stdout",
     "output_type": "stream",
     "text": [
      "<class 'type'>\n",
      "Help on class super in module builtins:\n",
      "\n",
      "class super(object)\n",
      " |  super() -> same as super(__class__, <first argument>)\n",
      " |  super(type) -> unbound super object\n",
      " |  super(type, obj) -> bound super object; requires isinstance(obj, type)\n",
      " |  super(type, type2) -> bound super object; requires issubclass(type2, type)\n",
      " |  Typical use to call a cooperative superclass method:\n",
      " |  class C(B):\n",
      " |      def meth(self, arg):\n",
      " |          super().meth(arg)\n",
      " |  This works for class methods too:\n",
      " |  class C(B):\n",
      " |      @classmethod\n",
      " |      def cmeth(cls, arg):\n",
      " |          super().cmeth(arg)\n",
      " |  \n",
      " |  Methods defined here:\n",
      " |  \n",
      " |  __get__(self, instance, owner, /)\n",
      " |      Return an attribute of instance, which is of type owner.\n",
      " |  \n",
      " |  __getattribute__(self, name, /)\n",
      " |      Return getattr(self, name).\n",
      " |  \n",
      " |  __init__(self, /, *args, **kwargs)\n",
      " |      Initialize self.  See help(type(self)) for accurate signature.\n",
      " |  \n",
      " |  __new__(*args, **kwargs) from builtins.type\n",
      " |      Create and return a new object.  See help(type) for accurate signature.\n",
      " |  \n",
      " |  __repr__(self, /)\n",
      " |      Return repr(self).\n",
      " |  \n",
      " |  ----------------------------------------------------------------------\n",
      " |  Data descriptors defined here:\n",
      " |  \n",
      " |  __self__\n",
      " |      the instance invoking super(); may be None\n",
      " |  \n",
      " |  __self_class__\n",
      " |      the type of the instance invoking super(); may be None\n",
      " |  \n",
      " |  __thisclass__\n",
      " |      the class invoking super()\n",
      "\n"
     ]
    }
   ],
   "source": [
    "print(type(super))\n",
    "help(super)"
   ]
  }
 ],
 "metadata": {
  "kernelspec": {
   "display_name": "Python 3",
   "language": "python",
   "name": "python3"
  },
  "language_info": {
   "codemirror_mode": {
    "name": "ipython",
    "version": 3
   },
   "file_extension": ".py",
   "mimetype": "text/x-python",
   "name": "python",
   "nbconvert_exporter": "python",
   "pygments_lexer": "ipython3",
   "version": "3.6.4"
  }
 },
 "nbformat": 4,
 "nbformat_minor": 2
}
