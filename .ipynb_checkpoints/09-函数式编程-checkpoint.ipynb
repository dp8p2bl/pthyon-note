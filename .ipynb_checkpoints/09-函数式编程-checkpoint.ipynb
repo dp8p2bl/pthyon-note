{
 "cells": [
  {
   "cell_type": "markdown",
   "metadata": {},
   "source": [
    "# python语言的高级特性 "
   ]
  },
  {
   "cell_type": "markdown",
   "metadata": {},
   "source": [
    "## 函数式编程（FunctionalProgramming）\n",
    "- 基于lambda演算的一种编程方式\n",
    "    - 程序中只有函数\n",
    "    - 函数可以作为参数和返回值\n",
    "- python只是借鉴函数式编程的一些特点\n",
    "    - 高阶函数\n",
    "    - 返回函数\n",
    "    - 匿名函数\n",
    "    - 装饰器\n",
    "    - 偏函数"
   ]
  },
  {
   "cell_type": "markdown",
   "metadata": {},
   "source": [
    "### lambda表达式\n",
    "- 函数：最大程度复用代码\n",
    "    - 问题：如果函数很小，反而会很麻烦；造成阅读的中断\n",
    "    \n",
    "- lambda表达式：又叫匿名函数\n",
    "    - 仅仅是一个表达式\n",
    "    - 可以有参数，多个参数用“，”隔开"
   ]
  },
  {
   "cell_type": "code",
   "execution_count": 1,
   "metadata": {},
   "outputs": [
    {
     "name": "stdout",
     "output_type": "stream",
     "text": [
      "aaaaaaaaa\n"
     ]
    }
   ],
   "source": [
    "#举例\n",
    "def printA():\n",
    "    print(\"aaaaaaaaa\")\n",
    "    \n",
    "printA()"
   ]
  },
  {
   "cell_type": "code",
   "execution_count": 2,
   "metadata": {},
   "outputs": [
    {
     "data": {
      "text/plain": [
       "8900"
      ]
     },
     "execution_count": 2,
     "metadata": {},
     "output_type": "execute_result"
    }
   ],
   "source": [
    "#lambda表达式用法\n",
    "#1.以lambda开头\n",
    "#2.紧跟一定的参数\n",
    "#3.参数后用冒号将表达式和主体隔开\n",
    "#4.没有return\n",
    "#计算一个数字的100倍\n",
    "stm = lambda x: 100 * x\n",
    "stm(89)"
   ]
  },
  {
   "cell_type": "code",
   "execution_count": 3,
   "metadata": {},
   "outputs": [
    {
     "data": {
      "text/plain": [
       "7"
      ]
     },
     "execution_count": 3,
     "metadata": {},
     "output_type": "execute_result"
    }
   ],
   "source": [
    "stm2 = lambda x,y,z: x+y*z\n",
    "stm2(1, 2, 3)"
   ]
  },
  {
   "cell_type": "markdown",
   "metadata": {},
   "source": [
    "### 高阶函数\n",
    "- 把函数作为参数使用的函数叫做高阶函数\n",
    "- 函数名称确实是变量\n",
    "- 也就可以被当作参数传入另一个参数"
   ]
  },
  {
   "cell_type": "code",
   "execution_count": 5,
   "metadata": {},
   "outputs": [
    {
     "name": "stdout",
     "output_type": "stream",
     "text": [
      "2400\n",
      "2700\n"
     ]
    }
   ],
   "source": [
    "def funa(n):\n",
    "    return n*100\n",
    "\n",
    "def funb(n):\n",
    "    return funa(n)*3\n",
    "\n",
    "print(funb(8))\n",
    "\n",
    "#高阶函数表示\n",
    "def func(n,f):\n",
    "    return f(n)*3\n",
    "\n",
    "print(func(9,funa))"
   ]
  },
  {
   "cell_type": "markdown",
   "metadata": {},
   "source": [
    "### 常用系统高阶函数\n",
    "- map：\n",
    "    - 映射，把集合和列表的元素，每个元素都按照一定的规则进行操作，生成一个新的集合或者列表\n",
    "    - map函数就是系统提供的具有映射功能的函数，返回值是一个迭代对象\n",
    "- reduce:\n",
    "    - 把一个可迭代的对象最后归并成一个结果\n",
    "    - 对于函数参数有要求：必须有两个参数，必须有返回结果\n",
    "    - reduce需要导入functools包\n",
    "- filter函数：\n",
    "    - 对一组数据进行过滤，符合条件的数据会生成一个新的列表返回\n",
    "    - 写法：\n",
    "        - 利用给定函数判断\n",
    "        - 返回一个布尔值\n",
    "        - 格式：filter(fun, data)\n",
    "- list函数：\n",
    "    - 把一个序列按照给定算法进行排序\n",
    "    - key：对每一个元素在排序前进行key函数运算"
   ]
  },
  {
   "cell_type": "code",
   "execution_count": 10,
   "metadata": {
    "scrolled": true
   },
   "outputs": [
    {
     "name": "stdout",
     "output_type": "stream",
     "text": [
      "[0, 1, 2, 3, 4, 5, 6, 7, 8, 9]\n",
      "[0, 10, 20, 30, 40, 50, 60, 70, 80, 90]\n",
      "0 10 20 30 40 50 60 70 80 90 "
     ]
    }
   ],
   "source": [
    "l1 = [i for i in range(10)]\n",
    "print(l1)\n",
    "l2 = []\n",
    "for i in l1:\n",
    "    l2.append(i * 10)\n",
    "print(l2)\n",
    "\n",
    "#利用map实现\n",
    "def multen(n):\n",
    "    return n * 10\n",
    "\n",
    "l3 = map(multen, l1)\n",
    "\n",
    "for i in l3:\n",
    "    print(i, end = \" \")"
   ]
  },
  {
   "cell_type": "code",
   "execution_count": 11,
   "metadata": {},
   "outputs": [
    {
     "name": "stdout",
     "output_type": "stream",
     "text": [
      "21\n"
     ]
    }
   ],
   "source": [
    "from functools import reduce\n",
    "#定义一个操作函数\n",
    "\n",
    "def myadd(x, y):\n",
    "    return x+y\n",
    "#对列表执行myadd的reduce操作\n",
    "rst = reduce(myadd, [1,2,3,4,5,6])\n",
    "print(rst)"
   ]
  },
  {
   "cell_type": "code",
   "execution_count": 14,
   "metadata": {
    "scrolled": true
   },
   "outputs": [
    {
     "name": "stdout",
     "output_type": "stream",
     "text": [
      "0\n",
      "2\n",
      "4\n",
      "6\n",
      "8\n",
      "10\n",
      "12\n",
      "14\n",
      "16\n"
     ]
    }
   ],
   "source": [
    "#filter()案例\n",
    "#过滤函数\n",
    "def iseven(a):\n",
    "    if a % 2 == 0:\n",
    "        return True\n",
    "    else:\n",
    "        return False\n",
    "    \n",
    "l1 = [i for i in range(18)]\n",
    "\n",
    "rst = filter(iseven , l1)\n",
    "for i in rst:\n",
    "    print(i)"
   ]
  },
  {
   "cell_type": "code",
   "execution_count": 16,
   "metadata": {
    "scrolled": false
   },
   "outputs": [
    {
     "name": "stdout",
     "output_type": "stream",
     "text": [
      "[90, 43, 42, 42, 32, 8, 6, 5, 5, 3, 2, 2, 1, 1]\n"
     ]
    }
   ],
   "source": [
    "#排序的案例\n",
    "a = [1,3,42,32,42,1,2,43,5,2,5,6,8,90]\n",
    "\n",
    "rst = sorted(a, reverse = True)\n",
    "print(rst)"
   ]
  },
  {
   "cell_type": "code",
   "execution_count": 19,
   "metadata": {
    "scrolled": true
   },
   "outputs": [
    {
     "name": "stdout",
     "output_type": "stream",
     "text": [
      "[-32, -23, -21, 0, 3, 4, 4, 23, 76]\n"
     ]
    }
   ],
   "source": [
    "#排序案例2\n",
    "a = [-21,-23,3,4,23,-32,4,76,0]\n",
    "#按照绝对值进行排序\n",
    "#abs绝对值的意思\n",
    "#按照绝对值得倒序进行排序\n",
    "\n",
    "al = sorted(a)\n",
    "print(al)"
   ]
  },
  {
   "cell_type": "code",
   "execution_count": 21,
   "metadata": {
    "scrolled": true
   },
   "outputs": [
    {
     "name": "stdout",
     "output_type": "stream",
     "text": [
      "['dingding', 'doudou', 'uu', 'xinxin']\n",
      "['dingding', 'doudou', 'uu', 'xinxin']\n"
     ]
    }
   ],
   "source": [
    "#str排序\n",
    "\n",
    "astr = [\"xinxin\", \"doudou\", \"dingding\", \"uu\"]\n",
    "\n",
    "str1 = sorted(astr)\n",
    "print(str1)\n",
    "\n",
    "str2 = sorted(astr, key=str.lower)\n",
    "print(str2)"
   ]
  },
  {
   "cell_type": "markdown",
   "metadata": {},
   "source": [
    "### 返回函数"
   ]
  }
 ],
 "metadata": {
  "kernelspec": {
   "display_name": "Python 3",
   "language": "python",
   "name": "python3"
  },
  "language_info": {
   "codemirror_mode": {
    "name": "ipython",
    "version": 3
   },
   "file_extension": ".py",
   "mimetype": "text/x-python",
   "name": "python",
   "nbconvert_exporter": "python",
   "pygments_lexer": "ipython3",
   "version": "3.6.4"
  }
 },
 "nbformat": 4,
 "nbformat_minor": 2
}
