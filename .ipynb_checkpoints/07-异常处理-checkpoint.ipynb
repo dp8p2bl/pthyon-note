{
 "cells": [
  {
   "cell_type": "markdown",
   "metadata": {},
   "source": [
    "# 异常处理\n",
    "- 广义上的错误分为错误和异常\n",
    "- 错误是可以认为避免的\n",
    "- 异常时指在语法逻辑正确的前提下，出现的问题\n",
    "- 在python里异常是一个类，可以处理和使用"
   ]
  },
  {
   "cell_type": "markdown",
   "metadata": {},
   "source": [
    "# 异常的分类\n",
    "- AssertError 断言语句（assert）失败\n",
    "- AttributeError 尝试访问未知的对象属性\n",
    "- EOFError 用户输入文件末尾标志EOF（Ctrl+d）\n",
    "- FloatingPointError 浮点计算错误\n",
    "- GeneratorExit generator.close()方法被调用的时候\n",
    "- ImportError 导入模块失败的时候\n",
    "- IndexError 索引超出序列的范围\n",
    "- KeyError 字典中查找一个不存在的关键字\n",
    "- KeyboardInterrupt 用户输入中断键（Ctrl+c）\n",
    "- MemoryError 内存溢出（可通过删除对象释放内存）\n",
    "- NameError 尝试访问一个不存在的变量\n",
    "- NotImplementedError 尚未实现的方法\n",
    "- OSError 操作系统产生的异常（例如打开一个不存在的文件）\n",
    "- OverflowError 数值运算超出最大限制\n",
    "- ReferenceError 弱引用（weak reference）试图访问一个已经被垃圾回收机制回收了的对象\n",
    "- RuntimeError 一般的运行时错误\n",
    "- StopIteration 迭代器没有更多的值\n",
    "- SyntaxError Python的语法错误\n",
    "- IndentationError 缩进错误\n",
    "- TabError Tab和空格混合使用\n",
    "- SystemError Python编译器系统错误\n",
    "- SystemExit Python编译器进程被关闭\n",
    "- TypeError 不同类型间的无效操作\n",
    "- UnboundLocalError 访问一个未初始化的本地变量（NameError的子类）\n",
    "- UnicodeError Unicode相关的错误（ValueError的子类）\n",
    "- UnicodeEncodeError Unicode编码时的错误（UnicodeError的子类）\n",
    "- UnicodeDecodeError Unicode解码时的错误（UnicodeError的子类）\n",
    "- UnicodeTranslateError Unicode转换时的错误（UnicodeError的子类）\n",
    "- ValueError 传入无效的参数\n",
    "- ZeroDivisionError 除数为零"
   ]
  },
  {
   "cell_type": "code",
   "execution_count": 4,
   "metadata": {
    "scrolled": true
   },
   "outputs": [
    {
     "name": "stdout",
     "output_type": "stream",
     "text": [
      "plz input your num:0\n"
     ]
    },
    {
     "ename": "ZeroDivisionError",
     "evalue": "division by zero",
     "output_type": "error",
     "traceback": [
      "\u001b[1;31m---------------------------------------------------------------------------\u001b[0m",
      "\u001b[1;31mZeroDivisionError\u001b[0m                         Traceback (most recent call last)",
      "\u001b[1;32m<ipython-input-4-124720c923dd>\u001b[0m in \u001b[0;36m<module>\u001b[1;34m()\u001b[0m\n\u001b[0;32m      1\u001b[0m \u001b[0ml\u001b[0m \u001b[1;33m=\u001b[0m \u001b[1;33m[\u001b[0m\u001b[1;36m1\u001b[0m\u001b[1;33m,\u001b[0m\u001b[1;36m2\u001b[0m\u001b[1;33m,\u001b[0m\u001b[1;36m3\u001b[0m\u001b[1;33m,\u001b[0m\u001b[1;36m4\u001b[0m\u001b[1;33m,\u001b[0m\u001b[1;36m5\u001b[0m\u001b[1;33m]\u001b[0m\u001b[1;33m\u001b[0m\u001b[0m\n\u001b[0;32m      2\u001b[0m \u001b[0mnum\u001b[0m \u001b[1;33m=\u001b[0m \u001b[0mint\u001b[0m\u001b[1;33m(\u001b[0m\u001b[0minput\u001b[0m\u001b[1;33m(\u001b[0m\u001b[1;34m\"plz input your num:\"\u001b[0m\u001b[1;33m)\u001b[0m\u001b[1;33m)\u001b[0m\u001b[1;33m\u001b[0m\u001b[0m\n\u001b[1;32m----> 3\u001b[1;33m \u001b[0mprint\u001b[0m\u001b[1;33m(\u001b[0m\u001b[1;36m100\u001b[0m\u001b[1;33m/\u001b[0m\u001b[0mnum\u001b[0m\u001b[1;33m)\u001b[0m\u001b[1;33m\u001b[0m\u001b[0m\n\u001b[0m",
      "\u001b[1;31mZeroDivisionError\u001b[0m: division by zero"
     ]
    }
   ],
   "source": [
    "l = [1,2,3,4,5]\n",
    "num = int(input(\"plz input your num:\"))\n",
    "print(100/num)"
   ]
  },
  {
   "cell_type": "markdown",
   "metadata": {},
   "source": [
    "# 异常处理的语法\n",
    "- python的异常处理模块全部语法为：\n",
    "        try:\n",
    "          尝试实现某个操作，\n",
    "          如果没出现异常，任务就可以完成\n",
    "          如果出现异常，将异常从当前代码块扔出去尝试解决异常\n",
    "\n",
    "          except 异常类型1:\n",
    "              解决方案1：用于尝试在此处处理异常解决问题\n",
    "\n",
    "          except 异常类型2：\n",
    "              解决方案2：用于尝试在此处处理异常解决问题\n",
    "\n",
    "          except (异常类型1,异常类型2...)\n",
    "              解决方案：针对多个异常使用相同的处理方式\n",
    "\n",
    "          excpet:\n",
    "              解决方案：所有异常的解决方案\n",
    "\n",
    "          else:\n",
    "              如果没有出现任何异常，将会执行此处代码\n",
    "\n",
    "          finally:\n",
    "              管你有没有异常都要执行的代码\n",
    "- 流程：\n",
    "    1.执行try下面的语句\n",
    "    2.出现异常，在except里面查找对应的异常\n",
    "    3.没有异常执行else语句\n",
    "    4.最后都要执行finally语句\n",
    "- 除except（最少一个外），else和finally都是可选的"
   ]
  },
  {
   "cell_type": "code",
   "execution_count": 4,
   "metadata": {
    "scrolled": true
   },
   "outputs": [
    {
     "name": "stdout",
     "output_type": "stream",
     "text": [
      "plz input your num:0\n",
      "出数不能为0\n"
     ]
    }
   ],
   "source": [
    "#简单异常案例\n",
    "try:\n",
    "    num = int(input(\"plz input your num:\"))\n",
    "    rst = 100/num\n",
    "    print(\"结果是：{0}\".format(rst))\n",
    "except:\n",
    "    print(\"出数不能为0\")\n",
    "    exit()"
   ]
  },
  {
   "cell_type": "code",
   "execution_count": 2,
   "metadata": {},
   "outputs": [
    {
     "name": "stdout",
     "output_type": "stream",
     "text": [
      "plz input your num:fasdff\n",
      "未知错误\n",
      "invalid literal for int() with base 10: 'fasdff'\n"
     ]
    }
   ],
   "source": [
    "#简单异常案例\n",
    "try:\n",
    "    num = int(input(\"plz input your num:\"))\n",
    "    rst = 100/num\n",
    "    pritn(\"结果是：{0}\".format(rst))\n",
    "#捕获异常后，把异常实例化，出错信息显示在实例\n",
    "#注意写法\n",
    "#越具体的错误越靠前\n",
    "#处理异常时，一旦拦截到某个异常，直接跳过其余异常，执行下一个语句块\n",
    "except ZeroDivisionError as e:\n",
    "    print(\"出数不能为0\")\n",
    "    print(e)\n",
    "    exit()\n",
    "\n",
    "except NameError as e:\n",
    "    print(\"关键字错误\")\n",
    "    print(e)\n",
    "    exit()\n",
    "    \n",
    "except AttributeError as e:\n",
    "    print(\"属性错误\")\n",
    "    print(e)\n",
    "    exit()\n",
    "#所有的异常都是继承自Exception\n",
    "except Exception as e:\n",
    "    print(\"未知错误\")\n",
    "    print(e)\n",
    "    exit()"
   ]
  },
  {
   "cell_type": "code",
   "execution_count": 6,
   "metadata": {
    "scrolled": true
   },
   "outputs": [
    {
     "name": "stdout",
     "output_type": "stream",
     "text": [
      "Help on class ZeroDivisionError in module builtins:\n",
      "\n",
      "class ZeroDivisionError(ArithmeticError)\n",
      " |  Second argument to a division or modulo operation was zero.\n",
      " |  \n",
      " |  Method resolution order:\n",
      " |      ZeroDivisionError\n",
      " |      ArithmeticError\n",
      " |      Exception\n",
      " |      BaseException\n",
      " |      object\n",
      " |  \n",
      " |  Methods defined here:\n",
      " |  \n",
      " |  __init__(self, /, *args, **kwargs)\n",
      " |      Initialize self.  See help(type(self)) for accurate signature.\n",
      " |  \n",
      " |  __new__(*args, **kwargs) from builtins.type\n",
      " |      Create and return a new object.  See help(type) for accurate signature.\n",
      " |  \n",
      " |  ----------------------------------------------------------------------\n",
      " |  Methods inherited from BaseException:\n",
      " |  \n",
      " |  __delattr__(self, name, /)\n",
      " |      Implement delattr(self, name).\n",
      " |  \n",
      " |  __getattribute__(self, name, /)\n",
      " |      Return getattr(self, name).\n",
      " |  \n",
      " |  __reduce__(...)\n",
      " |      helper for pickle\n",
      " |  \n",
      " |  __repr__(self, /)\n",
      " |      Return repr(self).\n",
      " |  \n",
      " |  __setattr__(self, name, value, /)\n",
      " |      Implement setattr(self, name, value).\n",
      " |  \n",
      " |  __setstate__(...)\n",
      " |  \n",
      " |  __str__(self, /)\n",
      " |      Return str(self).\n",
      " |  \n",
      " |  with_traceback(...)\n",
      " |      Exception.with_traceback(tb) --\n",
      " |      set self.__traceback__ to tb and return self.\n",
      " |  \n",
      " |  ----------------------------------------------------------------------\n",
      " |  Data descriptors inherited from BaseException:\n",
      " |  \n",
      " |  __cause__\n",
      " |      exception cause\n",
      " |  \n",
      " |  __context__\n",
      " |      exception context\n",
      " |  \n",
      " |  __dict__\n",
      " |  \n",
      " |  __suppress_context__\n",
      " |  \n",
      " |  __traceback__\n",
      " |  \n",
      " |  args\n",
      "\n"
     ]
    }
   ],
   "source": [
    "help(ZeroDivisionError)"
   ]
  },
  {
   "cell_type": "markdown",
   "metadata": {},
   "source": [
    "# 用户手动引发异常\n",
    "- 某些情况，用户希望自己引发一个异常\n",
    "- 用raise关键字来引发"
   ]
  },
  {
   "cell_type": "code",
   "execution_count": 8,
   "metadata": {},
   "outputs": [
    {
     "name": "stdout",
     "output_type": "stream",
     "text": [
      "i love uu\n",
      "edg never ace\n",
      "efgerror\n",
      ".......\n"
     ]
    }
   ],
   "source": [
    "#raise案例\n",
    "#需要注意：自定义异常必须是系统异常的子类\n",
    "class efgError(ValueError):\n",
    "    pass\n",
    "try:\n",
    "    print(\"i love uu\")\n",
    "    print(\"edg never ace\")\n",
    "    #手动引发异常\n",
    "    raise efgError\n",
    "    print(\"xixixiix\")\n",
    "    \n",
    "except NameError as e:\n",
    "    print(\"nameerror\")\n",
    "\n",
    "except efgError as e:\n",
    "    print(\"efgerror\")\n",
    "    \n",
    "except Exception as e:\n",
    "    print(\"you sha yi chang\")\n",
    "    \n",
    "finally:\n",
    "    print(\".......\")"
   ]
  },
  {
   "cell_type": "code",
   "execution_count": 10,
   "metadata": {
    "scrolled": true
   },
   "outputs": [
    {
     "name": "stdout",
     "output_type": "stream",
     "text": [
      "plz input your num:9\n",
      "结果是：11.11111111111111\n",
      "no Exception\n",
      "被执行了\n"
     ]
    }
   ],
   "source": [
    "#else语句案例\n",
    "try:\n",
    "    num = int(input(\"plz input your num:\"))\n",
    "    rst = 100/num\n",
    "    print(\"结果是：{0}\".format(rst))\n",
    "    \n",
    "except Exception as e:\n",
    "    print(\"Exception\")\n",
    "    \n",
    "else:\n",
    "    print(\"no Exception\")\n",
    "    \n",
    "finally:\n",
    "    print(\"被执行了\")"
   ]
  },
  {
   "cell_type": "markdown",
   "metadata": {},
   "source": [
    "# 关于自定义异常\n",
    "- 只要是raise异常，推荐自定义异常\n",
    "- 通常包含下面的内容\n",
    "    - 自定义发生异常的异常代码\n",
    "    - 问题提示\n",
    "    - 发生异常的行数\n",
    "- 最终目的是，快速定位错误现场"
   ]
  }
 ],
 "metadata": {
  "kernelspec": {
   "display_name": "Python 3",
   "language": "python",
   "name": "python3"
  },
  "language_info": {
   "codemirror_mode": {
    "name": "ipython",
    "version": 3
   },
   "file_extension": ".py",
   "mimetype": "text/x-python",
   "name": "python",
   "nbconvert_exporter": "python",
   "pygments_lexer": "ipython3",
   "version": "3.6.4"
  }
 },
 "nbformat": 4,
 "nbformat_minor": 2
}
