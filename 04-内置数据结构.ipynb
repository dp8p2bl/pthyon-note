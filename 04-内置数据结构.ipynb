{
 "cells": [
  {
   "cell_type": "markdown",
   "metadata": {},
   "source": [
    "# 内置数据结构\n",
    "- list\n",
    "- set\n",
    "- dict\n",
    "- tuple"
   ]
  },
  {
   "cell_type": "markdown",
   "metadata": {},
   "source": [
    "## list\n",
    "- 一组顺序的数据的组合\n",
    "- 创建列表"
   ]
  },
  {
   "cell_type": "code",
   "execution_count": 60,
   "metadata": {},
   "outputs": [
    {
     "name": "stdout",
     "output_type": "stream",
     "text": [
      "<class 'list'>\n",
      "<class 'list'>\n",
      "[100]\n",
      "<class 'list'>\n",
      "[1, 2, 3, 4, 5, 6, 7]\n",
      "<class 'list'>\n",
      "[]\n"
     ]
    }
   ],
   "source": [
    "#创建空列表\n",
    "\n",
    "l1 = []\n",
    "print(type(l1))\n",
    "\n",
    "l2 = [100]\n",
    "print(type(l2))\n",
    "print(l2)\n",
    "\n",
    "l3 = [1,2,3,4,5,6,7]\n",
    "print(type(l3))\n",
    "print(l3)\n",
    "\n",
    "l4 = list()\n",
    "print(type(l4))\n",
    "print(l4)"
   ]
  },
  {
   "cell_type": "markdown",
   "metadata": {},
   "source": [
    "### 常用列表操作\n",
    "- 访问\n",
    "    - 使用下标操作（索引）\n",
    "    - 列表位置从0开始\n",
    "- 分片\n",
    "    - 对列表进行任意一段的截取\n",
    "    - l[m:n]\n",
    "    - 是生成一个新的list\n",
    "        - 内置函数id，负责显示数据的唯一编号"
   ]
  },
  {
   "cell_type": "code",
   "execution_count": 61,
   "metadata": {},
   "outputs": [
    {
     "name": "stdout",
     "output_type": "stream",
     "text": [
      "1\n"
     ]
    }
   ],
   "source": [
    "#使用下标访问列表\n",
    "l = [3,2,1,7,6,5,9,0]\n",
    "\n",
    "print(l[2])"
   ]
  },
  {
   "cell_type": "code",
   "execution_count": 62,
   "metadata": {
    "scrolled": true
   },
   "outputs": [
    {
     "name": "stdout",
     "output_type": "stream",
     "text": [
      "[2, 1, 7]\n",
      "[3, 2, 1]\n"
     ]
    }
   ],
   "source": [
    "#分片操作\n",
    "print(l[1:4])\n",
    "\n",
    "#上、下标值可以为空，默认取开始或者结尾\n",
    "print(l[:3])\n"
   ]
  },
  {
   "cell_type": "code",
   "execution_count": 63,
   "metadata": {},
   "outputs": [
    {
     "name": "stdout",
     "output_type": "stream",
     "text": [
      "[3, 2, 1, 7, 6, 5, 9, 0]\n",
      "[2, 7, 5]\n",
      "[9, 5]\n"
     ]
    }
   ],
   "source": [
    "#分片可以控制增长幅度\n",
    "print(l)\n",
    "print(l[1:6:2])\n",
    "\n",
    "#负数下标,一定要保证上标小于下标\n",
    "print(l[-2:-4:-1])"
   ]
  },
  {
   "cell_type": "code",
   "execution_count": 64,
   "metadata": {},
   "outputs": [
    {
     "name": "stdout",
     "output_type": "stream",
     "text": [
      "2001631808\n",
      "2001635008\n",
      "2001631808\n",
      "101\n",
      "100\n",
      "2001631840\n",
      "2001631808\n"
     ]
    }
   ],
   "source": [
    "#id函数详解\n",
    "a = 100\n",
    "b = 200\n",
    "print(id(a))\n",
    "print(id(b))\n",
    "\n",
    "c = a\n",
    "print(id(c))\n",
    "\n",
    "a = 101\n",
    "print(a)\n",
    "print(c)\n",
    "print(id(a))\n",
    "print(id(c))"
   ]
  },
  {
   "cell_type": "code",
   "execution_count": 65,
   "metadata": {},
   "outputs": [
    {
     "name": "stdout",
     "output_type": "stream",
     "text": [
      "2297313655816\n",
      "2297313753096\n",
      "[1, 100, 3, 4, 5, 7, 8, 9]\n",
      "[1, 2, 3, 4, 5, 7, 8, 9]\n",
      "[1, 100, 3, 4, 5, 7, 8, 9]\n",
      "[1, 100, 3, 4, 5, 7, 8, 9]\n"
     ]
    }
   ],
   "source": [
    "l = [1,2,3,4,5,7,8,9]\n",
    "ll = l[:]\n",
    "lll = ll\n",
    "print(id(l))\n",
    "print(id(ll))\n",
    "\n",
    "l[1]=100\n",
    "print(l)\n",
    "print(ll)\n",
    "\n",
    "ll[1] = 100\n",
    "print(ll)\n",
    "print(lll)"
   ]
  },
  {
   "cell_type": "markdown",
   "metadata": {},
   "source": [
    "### 删除操作\n",
    "- del删除命令"
   ]
  },
  {
   "cell_type": "code",
   "execution_count": 66,
   "metadata": {
    "scrolled": true
   },
   "outputs": [
    {
     "name": "stdout",
     "output_type": "stream",
     "text": [
      "[1, 2, 4, 5, 6]\n"
     ]
    }
   ],
   "source": [
    "#del命令\n",
    "\n",
    "a = [1,2,3,4,5,6]\n",
    "del a[2]\n",
    "print(a)"
   ]
  },
  {
   "cell_type": "code",
   "execution_count": 67,
   "metadata": {},
   "outputs": [
    {
     "name": "stdout",
     "output_type": "stream",
     "text": [
      "2297313656648\n",
      "2297313656648\n",
      "[1, 2, 4, 5, 6]\n"
     ]
    }
   ],
   "source": [
    "#del命令\n",
    "\n",
    "a = [1,2,3,4,5,6]\n",
    "print(id(a))\n",
    "del a[2]\n",
    "print(id(a))\n",
    "print(a)"
   ]
  },
  {
   "cell_type": "markdown",
   "metadata": {},
   "source": [
    "### 列表相加\n",
    "- 使用加号链接两个链表"
   ]
  },
  {
   "cell_type": "code",
   "execution_count": 68,
   "metadata": {},
   "outputs": [
    {
     "name": "stdout",
     "output_type": "stream",
     "text": [
      "[1, 2, 3, 4, 5, 'a', 'b', 'c']\n",
      "[1, 2, 3, 4, 5, 1, 2, 3, 4, 5, 1, 2, 3, 4, 5]\n"
     ]
    }
   ],
   "source": [
    "#加法\n",
    "a = [1,2,3,4,5]\n",
    "b = ['a','b','c']\n",
    "\n",
    "c = a + b\n",
    "print(c)\n",
    "\n",
    "#乘法\n",
    "d = a * 3\n",
    "print(d)"
   ]
  },
  {
   "cell_type": "markdown",
   "metadata": {},
   "source": [
    "### 成员资格运算\n",
    "- 判断一个元素是在list中\n",
    "- 用in/not in判断"
   ]
  },
  {
   "cell_type": "code",
   "execution_count": 69,
   "metadata": {},
   "outputs": [
    {
     "name": "stdout",
     "output_type": "stream",
     "text": [
      "False\n",
      "True\n"
     ]
    }
   ],
   "source": [
    "a = [1,2,3,4,5,6]\n",
    "b = 9\n",
    "d = 5\n",
    "\n",
    "c = b in a\n",
    "print(c)\n",
    "\n",
    "print(d in a)"
   ]
  },
  {
   "cell_type": "markdown",
   "metadata": {},
   "source": [
    "### list的遍历\n",
    "- for遍历\n",
    "- while遍历"
   ]
  },
  {
   "cell_type": "code",
   "execution_count": 70,
   "metadata": {},
   "outputs": [
    {
     "name": "stdout",
     "output_type": "stream",
     "text": [
      "1\n",
      "2\n",
      "3\n",
      "4\n",
      "5\n"
     ]
    }
   ],
   "source": [
    "#for遍历\n",
    "a = [1,2,3,4,5]\n",
    "\n",
    "for i in a:\n",
    "    print(i)"
   ]
  },
  {
   "cell_type": "code",
   "execution_count": 71,
   "metadata": {},
   "outputs": [
    {
     "name": "stdout",
     "output_type": "stream",
     "text": [
      "1\n",
      "2\n",
      "3\n",
      "4\n",
      "5\n"
     ]
    }
   ],
   "source": [
    "#while遍历\n",
    "#一般不用\n",
    "\n",
    "a = [1,2,3,4,5]\n",
    "length = len(a)\n",
    "index = 0\n",
    "while index <length:\n",
    "    print(a[index])\n",
    "    index += 1"
   ]
  },
  {
   "cell_type": "code",
   "execution_count": 72,
   "metadata": {},
   "outputs": [
    {
     "name": "stdout",
     "output_type": "stream",
     "text": [
      "one ===== 1\n",
      "two ===== 2\n",
      "three ===== 3\n"
     ]
    }
   ],
   "source": [
    "#双层列表循环\n",
    "#非典型\n",
    "\n",
    "a = [[\"one\",1],[\"two\",2],[\"three\",3]]\n",
    "\n",
    "for k,v in a:\n",
    "    print(k, \"=====\", v)"
   ]
  },
  {
   "cell_type": "code",
   "execution_count": 73,
   "metadata": {},
   "outputs": [
    {
     "ename": "ValueError",
     "evalue": "too many values to unpack (expected 2)",
     "output_type": "error",
     "traceback": [
      "\u001b[1;31m---------------------------------------------------------------------------\u001b[0m",
      "\u001b[1;31mValueError\u001b[0m                                Traceback (most recent call last)",
      "\u001b[1;32m<ipython-input-73-cdcffc8ffd42>\u001b[0m in \u001b[0;36m<module>\u001b[1;34m()\u001b[0m\n\u001b[0;32m      3\u001b[0m \u001b[0ma\u001b[0m \u001b[1;33m=\u001b[0m \u001b[1;33m[\u001b[0m\u001b[1;33m[\u001b[0m\u001b[1;34m\"one\"\u001b[0m\u001b[1;33m,\u001b[0m\u001b[1;36m1\u001b[0m\u001b[1;33m,\u001b[0m\u001b[1;34m\"eins\"\u001b[0m\u001b[1;33m]\u001b[0m\u001b[1;33m,\u001b[0m\u001b[1;33m[\u001b[0m\u001b[1;34m\"two\"\u001b[0m\u001b[1;33m,\u001b[0m\u001b[1;36m2\u001b[0m\u001b[1;33m]\u001b[0m\u001b[1;33m,\u001b[0m\u001b[1;33m[\u001b[0m\u001b[1;34m\"three\"\u001b[0m\u001b[1;33m,\u001b[0m\u001b[1;36m3\u001b[0m\u001b[1;33m,\u001b[0m\u001b[1;36m4\u001b[0m\u001b[1;33m,\u001b[0m\u001b[1;36m5\u001b[0m\u001b[1;33m,\u001b[0m\u001b[1;36m6\u001b[0m\u001b[1;33m,\u001b[0m\u001b[1;36m7\u001b[0m\u001b[1;33m]\u001b[0m\u001b[1;33m]\u001b[0m\u001b[1;33m\u001b[0m\u001b[0m\n\u001b[0;32m      4\u001b[0m \u001b[1;33m\u001b[0m\u001b[0m\n\u001b[1;32m----> 5\u001b[1;33m \u001b[1;32mfor\u001b[0m \u001b[0mk\u001b[0m\u001b[1;33m,\u001b[0m\u001b[0mv\u001b[0m \u001b[1;32min\u001b[0m \u001b[0ma\u001b[0m\u001b[1;33m:\u001b[0m\u001b[1;33m\u001b[0m\u001b[0m\n\u001b[0m\u001b[0;32m      6\u001b[0m     \u001b[0mprint\u001b[0m\u001b[1;33m(\u001b[0m\u001b[0mk\u001b[0m\u001b[1;33m,\u001b[0m \u001b[1;34m\"=====\"\u001b[0m\u001b[1;33m,\u001b[0m \u001b[0mv\u001b[0m\u001b[1;33m)\u001b[0m\u001b[1;33m\u001b[0m\u001b[0m\n",
      "\u001b[1;31mValueError\u001b[0m: too many values to unpack (expected 2)"
     ]
    }
   ],
   "source": [
    "#双层列表循环变异\n",
    "\n",
    "a = [[\"one\",1,\"eins\"],[\"two\",2],[\"three\",3,4,5,6,7]]\n",
    "\n",
    "for k,v in a:\n",
    "    print(k, \"=====\", v)"
   ]
  },
  {
   "cell_type": "markdown",
   "metadata": {},
   "source": [
    "### 列表内涵：list content\n",
    "- 通过简单方法创建列表"
   ]
  },
  {
   "cell_type": "code",
   "execution_count": null,
   "metadata": {},
   "outputs": [],
   "source": [
    "#for 创建\n",
    "#a中每个元素乘以10形成新的列表\n",
    "a = ['a', 'b', 'c']\n",
    "\n",
    "b = [i*10 for i in a]\n",
    "\n",
    "print(b)"
   ]
  },
  {
   "cell_type": "code",
   "execution_count": null,
   "metadata": {},
   "outputs": [],
   "source": [
    "a = [x for x in range(1,5)]\n",
    "\n",
    "b = [m for m in a if m % 2 == 0]\n",
    "print (b)\n",
    "\n",
    "c = [m+n for m in a for n in b]\n",
    "print(c)"
   ]
  },
  {
   "cell_type": "markdown",
   "metadata": {},
   "source": [
    "### 关于列表的常用函数\n",
    "- 求列表长度len()\n",
    "- 求最大值max()\n",
    "- 求最小值min()\n",
    "- 转换为list()\n",
    "- 追加一个元素append()\n",
    "- 指定位置插入insert(position,data)(此类操作消耗资源较大，不常用)\n",
    "- 删除del()/pop()删除并返回最后一个元素\n",
    "- remove()删除指定的值的元素\n",
    "- clear()清空列表\n",
    "- reverse()原地反转函数\n",
    "- extend()扩展列表，将一个拼接到另一个列表\n",
    "- count()查找指定元素的个数\n",
    "- copy()浅拷贝,只能单层拷贝"
   ]
  },
  {
   "cell_type": "code",
   "execution_count": null,
   "metadata": {},
   "outputs": [],
   "source": [
    "#len()运算\n",
    "a = [x for x in range(1,100)]\n",
    "print(len(a))\n",
    "\n",
    "#max()运算\n",
    "#min()运算\n",
    "print(max(a))\n",
    "print(min(a))"
   ]
  },
  {
   "cell_type": "code",
   "execution_count": null,
   "metadata": {},
   "outputs": [],
   "source": [
    "#list\n",
    "\n",
    "s = \"i love dingxiaoyi\"\n",
    "print(list(s))\n",
    "\n",
    "print(list(range(12,18)))"
   ]
  },
  {
   "cell_type": "code",
   "execution_count": null,
   "metadata": {},
   "outputs": [],
   "source": [
    "#append函数\n",
    "a = [i for i in  range(1,10)]\n",
    "print(a)\n",
    "\n",
    "a.append(100)\n",
    "print(a)\n",
    "\n",
    "#insert函数\n",
    "a.insert(3,666)\n",
    "print(a)\n",
    "\n",
    "#pop操作\n",
    "last_ele = a.pop()\n",
    "print(last_ele)\n",
    "print(a)"
   ]
  },
  {
   "cell_type": "code",
   "execution_count": null,
   "metadata": {
    "scrolled": true
   },
   "outputs": [],
   "source": [
    "#remove操作\n",
    "\n",
    "a.remove(5)\n",
    "print(a)\n",
    "\n",
    "print(id(a))\n",
    "a.clear()\n",
    "print(a)\n",
    "print(id(a))"
   ]
  },
  {
   "cell_type": "code",
   "execution_count": null,
   "metadata": {
    "scrolled": true
   },
   "outputs": [],
   "source": [
    "#reverse原地反转\n",
    "a = [i for i in range(1,13)]\n",
    "print(a)\n",
    "print(id(a))\n",
    "\n",
    "a.reverse()\n",
    "print(a)\n",
    "print(id(a))"
   ]
  },
  {
   "cell_type": "code",
   "execution_count": null,
   "metadata": {},
   "outputs": [],
   "source": [
    "#extend\n",
    "a = [1,2,3,4,5]\n",
    "b = [6,7,8,9,0]\n",
    "\n",
    "b.extend(a)\n",
    "print(b)\n",
    "\n",
    "#count\n",
    "b.insert(5,6)\n",
    "print(b)\n",
    "b_len = b.count(6)\n",
    "print(b_len)"
   ]
  },
  {
   "cell_type": "code",
   "execution_count": null,
   "metadata": {},
   "outputs": [],
   "source": [
    "#copy\n",
    "\n",
    "a = [1,2,3,[4,5,6]]\n",
    "b = a.copy()\n",
    "print(id(a))\n",
    "print(id(b))\n",
    "print(id(a[3]))\n",
    "print(id(b[3]))\n",
    "a[3][2] = 777\n",
    "print(a)\n",
    "print(b)"
   ]
  },
  {
   "cell_type": "markdown",
   "metadata": {},
   "source": [
    "## 元组-tuple\n",
    "- 可以看作不可以更改的list"
   ]
  },
  {
   "cell_type": "markdown",
   "metadata": {},
   "source": [
    "### 元组创建"
   ]
  },
  {
   "cell_type": "code",
   "execution_count": null,
   "metadata": {
    "scrolled": true
   },
   "outputs": [],
   "source": [
    "#创建空元组\n",
    "t = ()\n",
    "print(type(t))\n",
    "\n",
    "#创建只有一个值的元组\n",
    "t = (1,)\n",
    "print(type(t))\n",
    "print(t)\n",
    "\n",
    "#创建多个值的元组\n",
    "t = 1,2,3,4,5\n",
    "print(type(t))\n",
    "print(t)\n",
    "t = (1,2,3,4,5)\n",
    "print(type(t))\n",
    "print(t)\n",
    "\n",
    "#使用其他结构创建\n",
    "l = [1,2,3,4,5]\n",
    "t = tuple(l)\n",
    "print(type(t))\n",
    "print(t)"
   ]
  },
  {
   "cell_type": "markdown",
   "metadata": {},
   "source": [
    "### 元组的特性\n",
    "- 有序列表\n",
    "- 元组数据值可以访问，不能修改\n",
    "- 元组数据可以是任意类型\n",
    "- 除了不能够修改，其余功能都具有"
   ]
  },
  {
   "cell_type": "code",
   "execution_count": null,
   "metadata": {},
   "outputs": [],
   "source": [
    "t = (1,2,3,4,5,6)\n",
    "t1 = t[1::2]\n",
    "print(id(t))\n",
    "print(id(t1))\n",
    "print(t1)"
   ]
  },
  {
   "cell_type": "code",
   "execution_count": null,
   "metadata": {
    "scrolled": true
   },
   "outputs": [],
   "source": [
    "#元组相加\n",
    "t1 = (1,2,3)\n",
    "t2 = (4,5,6)\n",
    "print(t1)\n",
    "print(id(t1))\n",
    "t1 += t2\n",
    "print(t1)\n",
    "print(id(t1))\n",
    "\n",
    "#元组相乘\n",
    "t1 *= 3\n",
    "print(t1)\n",
    "print(id(t1))"
   ]
  },
  {
   "cell_type": "code",
   "execution_count": null,
   "metadata": {},
   "outputs": [],
   "source": [
    "#成员检测\n",
    "t = 1,2,3\n",
    "if 2 in t:\n",
    "    print(\"yes\")\n",
    "else:\n",
    "    print(\"no\")"
   ]
  },
  {
   "cell_type": "code",
   "execution_count": null,
   "metadata": {
    "scrolled": true
   },
   "outputs": [],
   "source": [
    "#元组遍历，一般用for\n",
    "#单层元组遍历\n",
    "\n",
    "t = (1,2,3,\"dingxiaoyi\",\"i\",\"love\")\n",
    "for i in  t:\n",
    "    print(i, end=\" \")"
   ]
  },
  {
   "cell_type": "code",
   "execution_count": null,
   "metadata": {
    "scrolled": false
   },
   "outputs": [],
   "source": [
    "#双层元组遍历\n",
    "\n",
    "t = ((1,2,3),(\"dingxiaoyi\",\"i\",\"love\"))\n",
    "for i in t:\n",
    "    print(i)\n",
    "for k,m,n in t:\n",
    "    print(k, '---', m, '---', n)"
   ]
  },
  {
   "cell_type": "markdown",
   "metadata": {},
   "source": [
    "### 关于元组的函数\n",
    "- len()\n",
    "- max()\n",
    "- min()"
   ]
  },
  {
   "cell_type": "code",
   "execution_count": null,
   "metadata": {
    "scrolled": true
   },
   "outputs": [],
   "source": [
    "t = (1,2,3,4,5)\n",
    "print(len(t))\n",
    "\n",
    "print(max(t))\n",
    "print(min(t))"
   ]
  },
  {
   "cell_type": "markdown",
   "metadata": {},
   "source": [
    "### 元组的函数\n",
    "- 基本和list通用\n",
    "- count()统计指定数据的出现次数\n",
    "- index()指定元素在元组中的出现位置"
   ]
  },
  {
   "cell_type": "code",
   "execution_count": null,
   "metadata": {
    "scrolled": false
   },
   "outputs": [],
   "source": [
    "#count\n",
    "t = (1,2,3,4,5,6,7,6,6,7)\n",
    "\n",
    "print(t.count(6))\n",
    "\n",
    "print(t.index(6))"
   ]
  },
  {
   "cell_type": "markdown",
   "metadata": {},
   "source": [
    "### 元组的变量交换法\n",
    "- 两个变量交换值"
   ]
  },
  {
   "cell_type": "code",
   "execution_count": null,
   "metadata": {
    "scrolled": true
   },
   "outputs": [],
   "source": [
    "a = 1\n",
    "b = 2\n",
    "a,b = b,a\n",
    "print(a)\n",
    "print(b)"
   ]
  },
  {
   "cell_type": "markdown",
   "metadata": {},
   "source": [
    "## 集合-set\n",
    "- 一堆确定的无序的唯一的数据，每一个数据成为一个元素"
   ]
  },
  {
   "cell_type": "code",
   "execution_count": null,
   "metadata": {},
   "outputs": [],
   "source": [
    "#集合的定义\n",
    "S = set()\n",
    "print(type(S))\n",
    "print(S)\n",
    "#大括号为空定义出dict\n",
    "d ={}\n",
    "print(type(d))\n",
    "#不为空定义出set\n",
    "s = {1,2,3,4,5}\n",
    "print(type(s))"
   ]
  },
  {
   "cell_type": "markdown",
   "metadata": {},
   "source": [
    "### 集合的特征\n",
    "- 集合内数据无序，无法使用索引或者分片\n",
    "- 集合内部的数据元素有唯一性，可以用来排除重复数据"
   ]
  },
  {
   "cell_type": "markdown",
   "metadata": {},
   "source": [
    "### 集合的操作\n",
    "- in/not in成员检测操作"
   ]
  },
  {
   "cell_type": "code",
   "execution_count": null,
   "metadata": {},
   "outputs": [],
   "source": [
    "#成员检测\n",
    "s = {4,5,\"i\",\"love\",\"xinyu\"}\n",
    "print(s)\n",
    "\n",
    "if \"love\" in s:\n",
    "    print(\"爱呀\")\n",
    "if \"love\" not in s:\n",
    "    print(\"爱个吉儿\")"
   ]
  },
  {
   "cell_type": "markdown",
   "metadata": {},
   "source": [
    "### 集合的遍历操作"
   ]
  },
  {
   "cell_type": "code",
   "execution_count": null,
   "metadata": {},
   "outputs": [],
   "source": [
    "s = {4,5,\"i\",\"love\",\"xinyu\"}\n",
    "for i in s:\n",
    "    print(i, end=\" \")"
   ]
  },
  {
   "cell_type": "code",
   "execution_count": null,
   "metadata": {},
   "outputs": [],
   "source": [
    "s = {(1,2,3), (4,5,6), (\"i\",\"love\",\"xinyu\")}\n",
    "\n",
    "for k,m,n in s:\n",
    "    print(k, \"----\", m, \"----\", n)"
   ]
  },
  {
   "cell_type": "markdown",
   "metadata": {},
   "source": [
    "### 集合的内涵"
   ]
  },
  {
   "cell_type": "code",
   "execution_count": null,
   "metadata": {},
   "outputs": [],
   "source": [
    "#普通集合内涵\n",
    "\n",
    "s = {23, 223, 545, 3, 1, 2, 3, 4, 3, 2, 3, 1, 2, 4, 5}\n",
    "print(s)\n",
    "\n",
    "\n",
    "ss = {i for i in s if i < 100}\n",
    "print(ss)"
   ]
  },
  {
   "cell_type": "code",
   "execution_count": null,
   "metadata": {},
   "outputs": [],
   "source": [
    "#多循环集合的内涵\n",
    "\n",
    "s1 = {1, 2, 3}\n",
    "s2 = {\"i\", \"love\", \"xinxin\"}\n",
    "\n",
    "s = {m*n for n in s2 for m in s1  if m == 2}\n",
    "print(s)"
   ]
  },
  {
   "cell_type": "markdown",
   "metadata": {},
   "source": [
    "### 集合的函数\n",
    "- len()\n",
    "- max()\n",
    "- min()\n",
    "- add()向集合里添加一个元素\n",
    "- clear()清空，仍然是一个集合\n",
    "- copy()拷贝\n",
    "- remove()移除指定的值，报错\n",
    "- discard()移除指定的值,不报错\n",
    "- pop()随机删除一个元素"
   ]
  },
  {
   "cell_type": "code",
   "execution_count": null,
   "metadata": {},
   "outputs": [],
   "source": [
    "#使用set生成一个集合\n",
    "l = [1,2,3,4,5]\n",
    "s = set(l)\n",
    "print(s)"
   ]
  },
  {
   "cell_type": "code",
   "execution_count": null,
   "metadata": {},
   "outputs": [],
   "source": [
    "s = {1}\n",
    "s.add(4)\n",
    "print(s)"
   ]
  },
  {
   "cell_type": "code",
   "execution_count": null,
   "metadata": {},
   "outputs": [],
   "source": [
    "s = {1,2,3,4,45,6,7,8}\n",
    "s.remove(1)\n",
    "print(s)\n",
    "\n",
    "s.discard(2)\n",
    "print(s)\n",
    "\n",
    "s.discard(12)\n",
    "print(s)\n",
    "\n",
    "s.remove(45)\n",
    "print(s)"
   ]
  },
  {
   "cell_type": "code",
   "execution_count": null,
   "metadata": {},
   "outputs": [],
   "source": [
    "s = {1,2,3,4,45,6,7,8}\n",
    "d = s.pop()\n",
    "print(d)\n",
    "print(s)"
   ]
  },
  {
   "cell_type": "markdown",
   "metadata": {},
   "source": [
    "### 集合特有函数\n",
    "- differerce：差集\n",
    "- union：并集\n",
    "- intersection：交集\n",
    "- issubset:是否为子集\n",
    "- issuperset：是否为超集"
   ]
  },
  {
   "cell_type": "code",
   "execution_count": null,
   "metadata": {
    "scrolled": true
   },
   "outputs": [],
   "source": [
    "s1 = {1,2,3,4,5,6,7}\n",
    "s2 = {5,6,7,8,9}\n",
    "\n",
    "s_1 = s1.intersection(s2)\n",
    "print(s_1)\n",
    "\n",
    "s_2 = s1.union(s2)\n",
    "print(s_2)\n",
    "\n",
    "s_3 = s1.difference(s2)\n",
    "print(s_3)\n",
    "\n",
    "s_4 = s2.difference(s1)\n",
    "print(s_4)\n",
    "\n",
    "s_5 = s1.issubset(s2)\n",
    "print(s_5)\n",
    "\n",
    "s = s_1 + s_2\n",
    "print(s)"
   ]
  },
  {
   "cell_type": "markdown",
   "metadata": {},
   "source": [
    "### 集合数学操作\n",
    "- +/-操作"
   ]
  },
  {
   "cell_type": "markdown",
   "metadata": {},
   "source": [
    "### frozen set：冰冻集合\n",
    "- 不能进行任何修改的集合"
   ]
  },
  {
   "cell_type": "code",
   "execution_count": null,
   "metadata": {
    "scrolled": true
   },
   "outputs": [],
   "source": [
    "s = frozenset()\n",
    "print(type(s))\n",
    "print(s)"
   ]
  },
  {
   "cell_type": "markdown",
   "metadata": {},
   "source": [
    "## dict字典\n",
    "- 一种组合数据，没有顺序的组合数据，数据已键值形式出现"
   ]
  },
  {
   "cell_type": "code",
   "execution_count": null,
   "metadata": {
    "scrolled": true
   },
   "outputs": [],
   "source": [
    "#字典的创建\n",
    "d = {}\n",
    "print(d)\n",
    "\n",
    "d = dict()\n",
    "print(d)\n",
    "\n",
    "d = {\"one\":1,\"two\":2,\"three\":3}\n",
    "print(d)\n",
    "\n",
    "d = dict({\"one\":1,\"two\":2,\"three\":3})\n",
    "print(d)\n",
    "\n",
    "d = dict(one=1,two=2,three=3)\n",
    "print(d)\n",
    "\n",
    "d = dict([{\"one\",1},{\"two\",2},{\"three\",3}])\n",
    "print(d)"
   ]
  },
  {
   "cell_type": "markdown",
   "metadata": {},
   "source": [
    "### 字典的特征\n",
    "- 无序序列，无分片和索引\n",
    "- 每个数据都有键值对组成 key:value\n",
    "    - key:必须可哈希\n",
    "    - value：无要求"
   ]
  },
  {
   "cell_type": "markdown",
   "metadata": {},
   "source": [
    "### 字典常见操作\n",
    "- 访问\n",
    "- 删除\n",
    "- in/not in:成员检测,只检测key\n",
    "- 循环使用key值进行"
   ]
  },
  {
   "cell_type": "code",
   "execution_count": null,
   "metadata": {
    "scrolled": true
   },
   "outputs": [],
   "source": [
    "#引号内为键值\n",
    "d = {\"one\":1,\"two\":2,\"three\":3}\n",
    "\n",
    "print(d[\"one\"])\n",
    "\n",
    "d[\"one\"] = \"sb\"\n",
    "print(d)\n",
    "\n",
    "del d[\"one\"]\n",
    "print(d)"
   ]
  },
  {
   "cell_type": "code",
   "execution_count": 1,
   "metadata": {},
   "outputs": [
    {
     "name": "stdout",
     "output_type": "stream",
     "text": [
      "key\n"
     ]
    }
   ],
   "source": [
    "d = {\"one\":1,\"two\":2,\"three\":3}\n",
    "\n",
    "if 2 in d:\n",
    "    print(\"value\")\n",
    "if \"two\" in d:\n",
    "    print(\"key\")\n",
    "if (\"two\",2) in d:\n",
    "    print(\"kv\")"
   ]
  },
  {
   "cell_type": "code",
   "execution_count": null,
   "metadata": {},
   "outputs": [],
   "source": [
    "d = {\"one\":1,\"two\":2,\"three\":3}\n",
    "for i in d:\n",
    "    print(i,d[i])\n",
    "#推荐如下写法\n",
    "for i in d.keys():\n",
    "    print(i,d[i])\n",
    "    \n",
    "#只访问字典的值\n",
    "for v in d.values():\n",
    "    print(v)\n",
    "    \n",
    "for k,v in d.items():\n",
    "    print(k, \"----\", v)"
   ]
  },
  {
   "cell_type": "markdown",
   "metadata": {},
   "source": [
    "### 字典的生成式"
   ]
  },
  {
   "cell_type": "code",
   "execution_count": null,
   "metadata": {},
   "outputs": [],
   "source": [
    "d = {\"one\":1,\"two\":2,\"three\":3}\n",
    "\n",
    "#常规字典生成式\n",
    "dd = {k:v for k,v in d.items()}\n",
    "print(dd)\n",
    "\n",
    "#加限制条件的字典生成式\n",
    "dd = {k:v for k,v in d.items() if v%2==1}\n",
    "print(dd)"
   ]
  },
  {
   "cell_type": "markdown",
   "metadata": {},
   "source": [
    "### 字典的相关函数\n",
    "- 通用函数：len、max、min、dict\n",
    "- str：返回字典的字符串格式\n",
    "- clear：清空字典\n",
    "- items：返回字典的键值对组成的元组格式\n",
    "- keys：返回字典的键组成的结构\n",
    "- values：返回字典的值组成的结构\n",
    "- get：根据指定值返回对应值，好处是可以设定默认值\n",
    "- fromkeys：使用指定的序列作为键，使用一个值作为字典所有键的值"
   ]
  },
  {
   "cell_type": "code",
   "execution_count": null,
   "metadata": {
    "scrolled": true
   },
   "outputs": [],
   "source": [
    "#str items\n",
    "d = {\"one\":1,\"two\":2,\"three\":3}\n",
    "print(str(d))\n",
    "print(type(str(d)))\n",
    "\n",
    "print(type(d.items()))\n",
    "print(d.items())"
   ]
  },
  {
   "cell_type": "code",
   "execution_count": null,
   "metadata": {},
   "outputs": [],
   "source": [
    "#keys values\n",
    "d = {\"one\":1,\"two\":2,\"three\":3}\n",
    "k = d.keys()\n",
    "print(type(k))\n",
    "print(k)\n",
    "\n",
    "v = d.values()\n",
    "print(type(v))\n",
    "print(v)"
   ]
  },
  {
   "cell_type": "code",
   "execution_count": null,
   "metadata": {},
   "outputs": [],
   "source": [
    "#get\n",
    "d = {\"one\":1,\"two\":2,\"three\":3}\n",
    "print(d.get(\"four\"))\n",
    "\n",
    "print(d.get(\"one\",100))\n",
    "print(d.get(\"four\",100))"
   ]
  },
  {
   "cell_type": "code",
   "execution_count": null,
   "metadata": {},
   "outputs": [],
   "source": [
    "#fromkeys\n",
    "l = [\"one\",\"two\",\"three\"]\n",
    "d = dict.fromkeys(l,\"hahahah\")\n",
    "print(d)"
   ]
  }
 ],
 "metadata": {
  "kernelspec": {
   "display_name": "Python 3",
   "language": "python",
   "name": "python3"
  },
  "language_info": {
   "codemirror_mode": {
    "name": "ipython",
    "version": 3
   },
   "file_extension": ".py",
   "mimetype": "text/x-python",
   "name": "python",
   "nbconvert_exporter": "python",
   "pygments_lexer": "ipython3",
   "version": "3.6.4"
  }
 },
 "nbformat": 4,
 "nbformat_minor": 2
}
