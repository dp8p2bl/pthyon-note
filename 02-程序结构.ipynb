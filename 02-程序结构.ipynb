{
 "cells": [
  {
   "cell_type": "markdown",
   "metadata": {},
   "source": [
    "# 程序结构\n",
    "- 顺序\n",
    "- 分支\n",
    "- 循环"
   ]
  },
  {
   "cell_type": "markdown",
   "metadata": {},
   "source": [
    "## 分支\n",
    "### 单项分支\n",
    "- 基本语法：\n",
    "        if 条件表达式：\n",
    "            语句1\n",
    "            语句2\n",
    "            ......\n",
    "- 条件表达式就是计算结果必须为bool的表达式\n",
    "- 表达式后面的冒号不能少\n",
    "- 注意if后面的语句，同一个if的语句必须缩进同一个等级"
   ]
  },
  {
   "cell_type": "code",
   "execution_count": 1,
   "metadata": {},
   "outputs": [
    {
     "name": "stdout",
     "output_type": "stream",
     "text": [
      "去叫家长\n",
      "我们不带他玩\n",
      "滚球！！！\n"
     ]
    }
   ],
   "source": [
    "#if语句联系\n",
    "#如果年龄小于18，打印去叫家长\n",
    "\n",
    "age = 17\n",
    "if age < 18:\n",
    "    print(\"去叫家长\")\n",
    "    print(\"我们不带他玩\")\n",
    "    print(\"滚球！！！\")"
   ]
  },
  {
   "cell_type": "code",
   "execution_count": 1,
   "metadata": {},
   "outputs": [
    {
     "name": "stdout",
     "output_type": "stream",
     "text": [
      "上车了，老司机们！！！\n"
     ]
    }
   ],
   "source": [
    "#if语句联系\n",
    "#如果年龄不小于18，打印上车\n",
    "\n",
    "age = 19\n",
    "if age < 18:\n",
    "    print(\"去叫家长\")\n",
    "    print(\"我们不带他玩\")\n",
    "    print(\"滚球！！！\")\n",
    "    \n",
    "print(\"上车了，老司机们！！！\")"
   ]
  },
  {
   "cell_type": "markdown",
   "metadata": {},
   "source": [
    "### 双向分支\n",
    "- if...else..语句基本语法\n",
    "\n",
    "        if 条件表达式:\n",
    "            语句1\n",
    "            语句2\n",
    "            ....\n",
    "        else:\n",
    "            语句1\n",
    "            语句2\n",
    "            ....\n",
    "- 一定会执行一个语句块\n",
    "- 缩进问题注意"
   ]
  },
  {
   "cell_type": "code",
   "execution_count": null,
   "metadata": {},
   "outputs": [],
   "source": [
    "#input pthyon系统函数\n",
    "#在屏幕上输出语句，同时接受屏幕输入\n",
    "#返回内容为字符串类型\n",
    "gender = input(\"请输入你的性别：\")\n",
    "print(\"你输入的性别为：{0}\".format(gender))\n",
    "\n",
    "if gender == \"nan\":\n",
    "    print(\"我是男人！！！\")\n",
    "else:\n",
    "    print(\"我是女人！！！\")\n",
    "        \n",
    "print(\"上课了？？？\")"
   ]
  },
  {
   "cell_type": "markdown",
   "metadata": {},
   "source": [
    "### 多路分支 \n",
    "- 基本语法\n",
    "\n",
    "    if 条件表达式：\n",
    "        语句1\n",
    "        ....\n",
    "    elif 条件表达式：\n",
    "        语句2\n",
    "        ....\n",
    "    elif 条件表达式：\n",
    "        语句2\n",
    "        ....\n",
    "        \n",
    "- 只会选择一个分支执行\n",
    "- pthyon没有switch-case语句"
   ]
  },
  {
   "cell_type": "code",
   "execution_count": 4,
   "metadata": {},
   "outputs": [
    {
     "name": "stdout",
     "output_type": "stream",
     "text": [
      "please input your score:34\n",
      "FUCK OFF!!!\n"
     ]
    }
   ],
   "source": [
    "score = input(\"please input your score:\")\n",
    "#int()强制类型转换\n",
    "score = int(score)\n",
    "\n",
    "if score >= 90:\n",
    "    print(\"A\")\n",
    "elif score >= 80:\n",
    "    print(\"B\")\n",
    "elif score >= 70:\n",
    "    print(\"C\")\n",
    "elif score >= 60:\n",
    "    print(\"D\")\n",
    "else:\n",
    "    print(\"FUCK OFF!!!\")"
   ]
  },
  {
   "cell_type": "markdown",
   "metadata": {},
   "source": [
    "## 循环\n",
    "### for循环\n",
    "- 基本语法\n",
    "\n",
    "        for 变量 in 序列：\n",
    "            语句1\n",
    "            语句2\n",
    "            ....\n",
    "-"
   ]
  },
  {
   "cell_type": "code",
   "execution_count": 6,
   "metadata": {},
   "outputs": [
    {
     "name": "stdout",
     "output_type": "stream",
     "text": [
      "zhangsan\n",
      "lisi\n",
      "zhaoliu\n",
      "xinyu\n"
     ]
    }
   ],
   "source": [
    "#序列 用中括号表示的一列数字或者其他值\n",
    "#for example['zhangsan','lisi','zhaoliu','xinyu']\n",
    "#打印列表\n",
    "\n",
    "for name in ['zhangsan','lisi','zhaoliu','xinyu']:\n",
    "    print(name)"
   ]
  },
  {
   "cell_type": "code",
   "execution_count": 8,
   "metadata": {},
   "outputs": [
    {
     "name": "stdout",
     "output_type": "stream",
     "text": [
      "zhangsan\n",
      "fuck off\n",
      "lisi\n",
      "fuck off\n",
      "zhaoliu\n",
      "fuck off\n",
      "xinyu\n",
      "xinyu my love\n"
     ]
    }
   ],
   "source": [
    "#打印列表\n",
    "#如果是xinyu，我的最爱\n",
    "#其他人，随便\n",
    "\n",
    "for name in ['zhangsan','lisi','zhaoliu','xinyu']:\n",
    "    print(name)\n",
    "    if name == 'xinyu':\n",
    "        print(\"{0} my love\".format(name))\n",
    "    else:\n",
    "        print(\"fuck off\")"
   ]
  },
  {
   "cell_type": "markdown",
   "metadata": {},
   "source": [
    "### range介绍\n",
    "- 生成一个数字序列\n",
    "- 具体范围可以设定"
   ]
  },
  {
   "cell_type": "code",
   "execution_count": 14,
   "metadata": {},
   "outputs": [
    {
     "name": "stdout",
     "output_type": "stream",
     "text": [
      "1\n",
      "2\n",
      "3\n",
      "4\n",
      "5\n",
      "6\n",
      "7\n",
      "8\n",
      "9\n",
      "10\n"
     ]
    }
   ],
   "source": [
    "#range练习\n",
    "#pthyon中表示数字范围的两个数一般是包含左边不包含右边\n",
    "#在2和3中有严重区别\n",
    "\n",
    "for i in range(1,11):\n",
    "    print(i)"
   ]
  },
  {
   "cell_type": "markdown",
   "metadata": {},
   "source": [
    "### for-else语句\n",
    "- for循环语句结束时执行else语句\n",
    "- else可选"
   ]
  },
  {
   "cell_type": "code",
   "execution_count": 4,
   "metadata": {},
   "outputs": [
    {
     "name": "stdout",
     "output_type": "stream",
     "text": [
      "zhangsan\n",
      "fuck off\n",
      "lisi\n",
      "fuck off\n",
      "zhaoliu\n",
      "fuck off\n",
      "xinyu\n",
      "xinyu my love\n",
      "不会爱了\n"
     ]
    }
   ],
   "source": [
    "#for-else语句\n",
    "#打印列表中的同学\n",
    "#如果没有在列表中，或者列表结束了打印else\n",
    "\n",
    "for name in ['zhangsan','lisi','zhaoliu','xinyu']:\n",
    "    print(name)\n",
    "    if name == 'xinyu':\n",
    "        print(\"{0} my love\".format(name))\n",
    "    else:\n",
    "        print(\"fuck off\")\n",
    "else:\n",
    "    print(\"不会爱了\")"
   ]
  },
  {
   "cell_type": "markdown",
   "metadata": {},
   "source": [
    "### 循环结束：break、continue、pass\n",
    "- break：无条件结束整个循环\n",
    "- continue：无条件技术本次循环，进入下次循环\n",
    "- pass：略过"
   ]
  },
  {
   "cell_type": "code",
   "execution_count": 7,
   "metadata": {},
   "outputs": [
    {
     "name": "stdout",
     "output_type": "stream",
     "text": [
      "1\n",
      "2\n",
      "3\n",
      "4\n",
      "5\n",
      "6\n",
      "我找到了\n"
     ]
    }
   ],
   "source": [
    "#1-10的数字中，寻找数字7，找到打印，其余不做动作\n",
    "#break\n",
    "for i in range(1,11):\n",
    "    if i == 7:\n",
    "        print(\"我找到了\")\n",
    "        break\n",
    "    else:\n",
    "        print(i)"
   ]
  },
  {
   "cell_type": "code",
   "execution_count": 10,
   "metadata": {},
   "outputs": [
    {
     "name": "stdout",
     "output_type": "stream",
     "text": [
      "2是偶数\n",
      "4是偶数\n",
      "6是偶数\n",
      "8是偶数\n",
      "10是偶数\n"
     ]
    }
   ],
   "source": [
    "#1-10的数字中，寻找偶数，找到打印，其余不做动作\n",
    "#continue\n",
    "for i in range(1,11):\n",
    "    if i%2 == 0:\n",
    "        print(\"{0}是偶数\".format(i))\n",
    "    else:\n",
    "        continue"
   ]
  },
  {
   "cell_type": "code",
   "execution_count": 13,
   "metadata": {},
   "outputs": [],
   "source": [
    "#pass例子用于站位\n",
    "\n",
    "for i in range(1,10):\n",
    "    pass"
   ]
  },
  {
   "cell_type": "markdown",
   "metadata": {},
   "source": [
    "### while循环\n",
    "- 表示当某条件成立时，就循环\n",
    "- 基本语法\n",
    "        while 条件表达式：\n",
    "            语句块\n",
    "            .....\n",
    "        \n",
    "        另一种表达方法\n",
    "        while 条件表达式：\n",
    "            语句块1\n",
    "        else：\n",
    "            语句块2"
   ]
  },
  {
   "cell_type": "code",
   "execution_count": 16,
   "metadata": {},
   "outputs": [
    {
     "name": "stdout",
     "output_type": "stream",
     "text": [
      "第1年的本息为106700.0元钱\n",
      "第2年的本息为113848.9元钱\n",
      "第3年的本息为121476.77629999998元钱\n",
      "第4年的本息为129615.72031209998元钱\n",
      "第5年的本息为138299.97357301068元钱\n",
      "第6年的本息为147566.07180240238元钱\n",
      "第7年的本息为157452.99861316333元钱\n",
      "第8年的本息为168002.34952024528元钱\n",
      "第9年的本息为179258.5069381017元钱\n",
      "第10年的本息为191268.8269029545元钱\n",
      "第11年的本息为204083.83830545243元钱\n",
      "终于翻倍了！！\n"
     ]
    }
   ],
   "source": [
    "#年利率为6.7%，本利为每年翻滚，则多少年后本钱翻倍\n",
    "#翻倍庆祝一下\n",
    "benqian = 100000\n",
    "year = 0\n",
    "while benqian < 200000:\n",
    "    benqian = benqian*(1+0.067)\n",
    "    year += 1\n",
    "    print(\"第{0}年的本息为{1}元钱\".format(year,benqian))\n",
    "else:\n",
    "    print(\"终于翻倍了！！\")"
   ]
  }
 ],
 "metadata": {
  "kernelspec": {
   "display_name": "Python 3",
   "language": "python",
   "name": "python3"
  },
  "language_info": {
   "codemirror_mode": {
    "name": "ipython",
    "version": 3
   },
   "file_extension": ".py",
   "mimetype": "text/x-python",
   "name": "python",
   "nbconvert_exporter": "python",
   "pygments_lexer": "ipython3",
   "version": "3.6.4"
  }
 },
 "nbformat": 4,
 "nbformat_minor": 2
}
