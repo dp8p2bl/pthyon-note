{
 "cells": [
  {
   "cell_type": "markdown",
   "metadata": {},
   "source": [
    "# python语言的高级特性 "
   ]
  },
  {
   "cell_type": "markdown",
   "metadata": {},
   "source": [
    "## 函数式编程（FunctionalProgramming）\n",
    "- 基于lambda演算的一种编程方式\n",
    "    - 程序中只有函数\n",
    "    - 函数可以作为参数和返回值\n",
    "- python只是借鉴函数式编程的一些特点\n",
    "    - 高阶函数\n",
    "    - 返回函数\n",
    "    - 匿名函数\n",
    "    - 装饰器\n",
    "    - 偏函数"
   ]
  },
  {
   "cell_type": "markdown",
   "metadata": {},
   "source": [
    "### lambda表达式\n",
    "- 函数：最大程度复用代码\n",
    "    - 问题：如果函数很小，反而会很麻烦；造成阅读的中断\n",
    "    \n",
    "- lambda表达式：又叫匿名函数\n",
    "    - 仅仅是一个表达式\n",
    "    - 可以有参数，多个参数用“，”隔开"
   ]
  },
  {
   "cell_type": "code",
   "execution_count": 1,
   "metadata": {},
   "outputs": [
    {
     "name": "stdout",
     "output_type": "stream",
     "text": [
      "aaaaaaaaa\n"
     ]
    }
   ],
   "source": [
    "#举例\n",
    "def printA():\n",
    "    print(\"aaaaaaaaa\")\n",
    "    \n",
    "printA()"
   ]
  },
  {
   "cell_type": "code",
   "execution_count": 2,
   "metadata": {},
   "outputs": [
    {
     "data": {
      "text/plain": [
       "8900"
      ]
     },
     "execution_count": 2,
     "metadata": {},
     "output_type": "execute_result"
    }
   ],
   "source": [
    "#lambda表达式用法\n",
    "#1.以lambda开头\n",
    "#2.紧跟一定的参数\n",
    "#3.参数后用冒号将表达式和主体隔开\n",
    "#4.没有return\n",
    "#计算一个数字的100倍\n",
    "stm = lambda x: 100 * x\n",
    "stm(89)"
   ]
  },
  {
   "cell_type": "code",
   "execution_count": 3,
   "metadata": {},
   "outputs": [
    {
     "data": {
      "text/plain": [
       "7"
      ]
     },
     "execution_count": 3,
     "metadata": {},
     "output_type": "execute_result"
    }
   ],
   "source": [
    "stm2 = lambda x,y,z: x+y*z\n",
    "stm2(1, 2, 3)"
   ]
  },
  {
   "cell_type": "markdown",
   "metadata": {},
   "source": [
    "### 高阶函数\n",
    "- 把函数作为参数使用的函数叫做高阶函数\n",
    "- 函数名称确实是变量\n",
    "- 也就可以被当作参数传入另一个参数"
   ]
  },
  {
   "cell_type": "code",
   "execution_count": 5,
   "metadata": {},
   "outputs": [
    {
     "name": "stdout",
     "output_type": "stream",
     "text": [
      "2400\n",
      "2700\n"
     ]
    }
   ],
   "source": [
    "def funa(n):\n",
    "    return n*100\n",
    "\n",
    "def funb(n):\n",
    "    return funa(n)*3\n",
    "\n",
    "print(funb(8))\n",
    "\n",
    "#高阶函数表示\n",
    "def func(n,f):\n",
    "    return f(n)*3\n",
    "\n",
    "print(func(9,funa))"
   ]
  },
  {
   "cell_type": "markdown",
   "metadata": {},
   "source": [
    "### 常用系统高阶函数\n",
    "- map()：\n",
    "    - 映射，把集合和列表的元素，每个元素都按照一定的规则进行操作，生成一个新的集合或者列表\n",
    "    - map函数就是系统提供的具有映射功能的函数，返回值是一个迭代对象\n",
    "- reduce():\n",
    "    - 把一个可迭代的对象最后归并成一个结果\n",
    "    - 对于函数参数有要求：必须有两个参数，必须有返回结果\n",
    "    - reduce需要导入functools包\n",
    "- filter()函数：\n",
    "    - 对一组数据进行过滤，符合条件的数据会生成一个新的列表返回\n",
    "    - 写法：\n",
    "        - 利用给定函数判断\n",
    "        - 返回一个布尔值\n",
    "        - 格式：filter(fun, data)\n",
    "- sorted()函数：\n",
    "    - 把一个序列按照给定算法进行排序\n",
    "    - key：对每一个元素在排序前进行key函数运算"
   ]
  },
  {
   "cell_type": "code",
   "execution_count": 10,
   "metadata": {
    "scrolled": true
   },
   "outputs": [
    {
     "name": "stdout",
     "output_type": "stream",
     "text": [
      "[0, 1, 2, 3, 4, 5, 6, 7, 8, 9]\n",
      "[0, 10, 20, 30, 40, 50, 60, 70, 80, 90]\n",
      "0 10 20 30 40 50 60 70 80 90 "
     ]
    }
   ],
   "source": [
    "l1 = [i for i in range(10)]\n",
    "print(l1)\n",
    "l2 = []\n",
    "for i in l1:\n",
    "    l2.append(i * 10)\n",
    "print(l2)\n",
    "\n",
    "#利用map实现\n",
    "def multen(n):\n",
    "    return n * 10\n",
    "\n",
    "l3 = map(multen, l1)\n",
    "\n",
    "for i in l3:\n",
    "    print(i, end = \" \")"
   ]
  },
  {
   "cell_type": "code",
   "execution_count": 11,
   "metadata": {},
   "outputs": [
    {
     "name": "stdout",
     "output_type": "stream",
     "text": [
      "21\n"
     ]
    }
   ],
   "source": [
    "from functools import reduce\n",
    "#定义一个操作函数\n",
    "\n",
    "def myadd(x, y):\n",
    "    return x+y\n",
    "#对列表执行myadd的reduce操作\n",
    "rst = reduce(myadd, [1,2,3,4,5,6])\n",
    "print(rst)"
   ]
  },
  {
   "cell_type": "code",
   "execution_count": 14,
   "metadata": {
    "scrolled": true
   },
   "outputs": [
    {
     "name": "stdout",
     "output_type": "stream",
     "text": [
      "0\n",
      "2\n",
      "4\n",
      "6\n",
      "8\n",
      "10\n",
      "12\n",
      "14\n",
      "16\n"
     ]
    }
   ],
   "source": [
    "#filter()案例\n",
    "#过滤函数\n",
    "def iseven(a):\n",
    "    if a % 2 == 0:\n",
    "        return True\n",
    "    else:\n",
    "        return False\n",
    "    \n",
    "l1 = [i for i in range(18)]\n",
    "\n",
    "rst = filter(iseven , l1)\n",
    "for i in rst:\n",
    "    print(i)"
   ]
  },
  {
   "cell_type": "code",
   "execution_count": 16,
   "metadata": {
    "scrolled": false
   },
   "outputs": [
    {
     "name": "stdout",
     "output_type": "stream",
     "text": [
      "[90, 43, 42, 42, 32, 8, 6, 5, 5, 3, 2, 2, 1, 1]\n"
     ]
    }
   ],
   "source": [
    "#排序的案例\n",
    "a = [1,3,42,32,42,1,2,43,5,2,5,6,8,90]\n",
    "\n",
    "rst = sorted(a, reverse = True)\n",
    "print(rst)"
   ]
  },
  {
   "cell_type": "code",
   "execution_count": 19,
   "metadata": {
    "scrolled": true
   },
   "outputs": [
    {
     "name": "stdout",
     "output_type": "stream",
     "text": [
      "[-32, -23, -21, 0, 3, 4, 4, 23, 76]\n"
     ]
    }
   ],
   "source": [
    "#排序案例2\n",
    "a = [-21,-23,3,4,23,-32,4,76,0]\n",
    "#按照绝对值进行排序\n",
    "#abs绝对值的意思\n",
    "#按照绝对值得倒序进行排序\n",
    "\n",
    "al = sorted(a)\n",
    "print(al)"
   ]
  },
  {
   "cell_type": "code",
   "execution_count": 21,
   "metadata": {
    "scrolled": true
   },
   "outputs": [
    {
     "name": "stdout",
     "output_type": "stream",
     "text": [
      "['dingding', 'doudou', 'uu', 'xinxin']\n",
      "['dingding', 'doudou', 'uu', 'xinxin']\n"
     ]
    }
   ],
   "source": [
    "#str排序\n",
    "\n",
    "astr = [\"xinxin\", \"doudou\", \"dingding\", \"uu\"]\n",
    "\n",
    "str1 = sorted(astr)\n",
    "print(str1)\n",
    "\n",
    "str2 = sorted(astr, key=str.lower)\n",
    "print(str2)"
   ]
  },
  {
   "cell_type": "markdown",
   "metadata": {},
   "source": [
    "### 返回函数"
   ]
  },
  {
   "cell_type": "code",
   "execution_count": 1,
   "metadata": {},
   "outputs": [],
   "source": [
    "#把函数作为返回值返回，被返回函数在函数体内定义\n",
    "\n",
    "def fun_1():\n",
    "    def fun_2():\n",
    "        print(\"in fun_2\")\n",
    "        return 2\n",
    "    \n",
    "    return fun_2"
   ]
  },
  {
   "cell_type": "code",
   "execution_count": 3,
   "metadata": {
    "scrolled": true
   },
   "outputs": [
    {
     "name": "stdout",
     "output_type": "stream",
     "text": [
      "<class 'function'>\n",
      "<function fun_1.<locals>.fun_2 at 0x000002BD302CF7B8>\n",
      "in fun_2\n"
     ]
    },
    {
     "data": {
      "text/plain": [
       "2"
      ]
     },
     "execution_count": 3,
     "metadata": {},
     "output_type": "execute_result"
    }
   ],
   "source": [
    "f2 = fun_1()\n",
    "print(type(f2))\n",
    "print(f2)\n",
    "f2()"
   ]
  },
  {
   "cell_type": "code",
   "execution_count": 9,
   "metadata": {},
   "outputs": [],
   "source": [
    "#有参数列表的返回参数的例子\n",
    "\n",
    "def func_3(*args):\n",
    "    def func_4():\n",
    "        rst = 0\n",
    "        for n in args:\n",
    "            rst += n\n",
    "        return rst\n",
    "    return func_4"
   ]
  },
  {
   "cell_type": "code",
   "execution_count": 10,
   "metadata": {
    "scrolled": true
   },
   "outputs": [
    {
     "data": {
      "text/plain": [
       "45"
      ]
     },
     "execution_count": 10,
     "metadata": {},
     "output_type": "execute_result"
    }
   ],
   "source": [
    "f5 = func_3(1,2,3,4,5,6,7,8,9)\n",
    "f5()"
   ]
  },
  {
   "cell_type": "markdown",
   "metadata": {},
   "source": [
    "### 闭包（closure）\n",
    "- 当一个函数在内部定义函数，并且内部函数应用了外部函数的参数或者局部变量，当内部函数被当作返回值的时候，相关参数和变量保存在返回的函数中，这种结果叫闭包\n",
    "- 上述func_3是一个标准的闭包结构\n",
    "- 返回闭包时，返回函数不能引用任何循环变量"
   ]
  },
  {
   "cell_type": "code",
   "execution_count": 13,
   "metadata": {
    "scrolled": false
   },
   "outputs": [
    {
     "name": "stdout",
     "output_type": "stream",
     "text": [
      "1\n",
      "4\n",
      "9\n"
     ]
    }
   ],
   "source": [
    "def count():\n",
    "    def g(j):\n",
    "        def f():\n",
    "            return j * j\n",
    "        return f\n",
    "    fs = []\n",
    "    for i in range(1,4):\n",
    "        fs.append(g(i))\n",
    "    return fs\n",
    "\n",
    "f1,f2,f3 = count()\n",
    "print(f1())\n",
    "print(f2())\n",
    "print(f3())"
   ]
  },
  {
   "cell_type": "markdown",
   "metadata": {},
   "source": [
    "### 装饰器\n",
    "- 在不改动函数代码的基础上无限扩展函数功能的一种机制，本质上是一个返回函数的高阶函数\n",
    "- 用法：使用@语法，在每次要扩展的函数定义前使用@+函数名\n",
    "- 好处是：一点定义，可以装饰任意函数"
   ]
  },
  {
   "cell_type": "code",
   "execution_count": 18,
   "metadata": {},
   "outputs": [],
   "source": [
    "import time\n",
    "\n",
    "def printtime(f):\n",
    "    def wrapper(*args, **kwargs):\n",
    "        print(\"time:\",time.ctime())\n",
    "        return f(*args, **kwargs)\n",
    "    return wrapper"
   ]
  },
  {
   "cell_type": "code",
   "execution_count": 19,
   "metadata": {
    "scrolled": true
   },
   "outputs": [
    {
     "name": "stdout",
     "output_type": "stream",
     "text": [
      "time: Wed May  2 11:02:07 2018\n",
      "hello world\n"
     ]
    }
   ],
   "source": [
    "@printtime\n",
    "def hello():\n",
    "    print(\"hello world\")\n",
    "    \n",
    "hello()"
   ]
  },
  {
   "cell_type": "code",
   "execution_count": 21,
   "metadata": {},
   "outputs": [
    {
     "name": "stdout",
     "output_type": "stream",
     "text": [
      "time: Wed May  2 11:17:06 2018\n",
      "手动执行\n"
     ]
    }
   ],
   "source": [
    "#手动执行装饰器\n",
    "def hello_2():\n",
    "    print(\"手动执行\")\n",
    "    \n",
    "dec = printtime(hello_2)\n",
    "dec()"
   ]
  },
  {
   "cell_type": "markdown",
   "metadata": {},
   "source": [
    "### 偏函数\n",
    "- 参数固定的函数，相当于一个有特定参数的函数体\n",
    "- functools.partial的作用是，把一个函数的某些参数固定，返回一个新函数"
   ]
  },
  {
   "cell_type": "code",
   "execution_count": 22,
   "metadata": {},
   "outputs": [
    {
     "data": {
      "text/plain": [
       "74565"
      ]
     },
     "execution_count": 22,
     "metadata": {},
     "output_type": "execute_result"
    }
   ],
   "source": [
    "#新建一个函数，输入一个16进制字符串返回十进制数字\n",
    "import functools\n",
    "\n",
    "int16 = functools.partial(int, base=16)\n",
    "\n",
    "int16(\"12345\")"
   ]
  }
 ],
 "metadata": {
  "kernelspec": {
   "display_name": "Python 3",
   "language": "python",
   "name": "python3"
  },
  "language_info": {
   "codemirror_mode": {
    "name": "ipython",
    "version": 3
   },
   "file_extension": ".py",
   "mimetype": "text/x-python",
   "name": "python",
   "nbconvert_exporter": "python",
   "pygments_lexer": "ipython3",
   "version": "3.6.4"
  }
 },
 "nbformat": 4,
 "nbformat_minor": 2
}
