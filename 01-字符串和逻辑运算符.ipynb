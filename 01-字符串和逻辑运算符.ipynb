{
 "cells": [
  {
   "cell_type": "markdown",
   "metadata": {},
   "source": [
    "s = \"i ove xiaojing\"\n",
    "print(s)"
   ]
  },
  {
   "cell_type": "markdown",
   "metadata": {},
   "source": [
    "# 转义字符及换行  \"\\\""
   ]
  },
  {
   "cell_type": "code",
   "execution_count": 6,
   "metadata": {
    "scrolled": false
   },
   "outputs": [
    {
     "name": "stdout",
     "output_type": "stream",
     "text": [
      "let's go\n",
      "let's go\n",
      "c:\\user\n"
     ]
    }
   ],
   "source": [
    "ss = \"let's go\"\n",
    "print(ss)\n",
    "# \\' == '\n",
    "sss = 'let\\'s go'\n",
    "print(sss)\n",
    "#  \\\\ == \\\n",
    "ssss=\"c:\\\\user\"\n",
    "print(ssss)"
   ]
  },
  {
   "cell_type": "markdown",
   "metadata": {},
   "source": [
    "# 字符串的格式化 - 字符串按照一定格式填充\n",
    "- 百分号\n",
    "- format"
   ]
  },
  {
   "cell_type": "markdown",
   "metadata": {},
   "source": [
    "## 使用百分号初始化"
   ]
  },
  {
   "cell_type": "code",
   "execution_count": 14,
   "metadata": {},
   "outputs": [
    {
     "name": "stdout",
     "output_type": "stream",
     "text": [
      "i am doumeng，i am 18 years old\n"
     ]
    }
   ],
   "source": [
    "#用百分号\n",
    "#%d 放入整数\n",
    "#%s 放入一个字符串\n",
    "\n",
    "s = \"i am %s，i am %d years old\"\n",
    "print(s%(\"doumeng\",18))"
   ]
  },
  {
   "cell_type": "code",
   "execution_count": 12,
   "metadata": {},
   "outputs": [
    {
     "name": "stdout",
     "output_type": "stream",
     "text": [
      "i love wngxiaojing\n"
     ]
    }
   ],
   "source": [
    "print(s%\"wngxiaojing\")"
   ]
  },
  {
   "cell_type": "markdown",
   "metadata": {},
   "source": [
    "## 使用format函数\n",
    "- 直接用format函数\n",
    "- 以{}和：代替%，后面用format带参数完成"
   ]
  },
  {
   "cell_type": "code",
   "execution_count": 26,
   "metadata": {},
   "outputs": [
    {
     "name": "stdout",
     "output_type": "stream",
     "text": [
      "I love lixiaojing\n",
      "i love xinyu ,i am 18 years old\n"
     ]
    }
   ],
   "source": [
    "s = \"I love {}\".format(\"lixiaojing\")\n",
    "print(s)\n",
    "s = \"i love {0} ,i am {1} years old\".format(\"xinyu\",18)\n",
    "print(s)"
   ]
  },
  {
   "cell_type": "markdown",
   "metadata": {},
   "source": [
    "# None\n",
    "- 表示什么都没有\n",
    "- 表示函数没有返回值，可以返回None\n",
    "- 用来解除变量绑定"
   ]
  },
  {
   "cell_type": "markdown",
   "metadata": {},
   "source": [
    "# 表达式\n",
    "- 变量或者运算符组合成的代码\n",
    "- 返回结果\n",
    "# 运算符\n",
    "- 用于运算的符号\n",
    "- 运算符分类\n",
    "    - 算数运算符\n",
    "    - 比较或者关系运算符\n",
    "    - 赋值\n",
    "    - 逻辑\n",
    "    - 位运算\n",
    "    - 成员运算符\n",
    "    - 身份运算符"
   ]
  },
  {
   "cell_type": "markdown",
   "metadata": {},
   "source": [
    "## 算数运算符\n",
    "- 算术运算的符号\n",
    "- 注意pthyon没有自增减运算符"
   ]
  },
  {
   "cell_type": "code",
   "execution_count": 32,
   "metadata": {},
   "outputs": [
    {
     "name": "stdout",
     "output_type": "stream",
     "text": [
      "7\n",
      "2.25\n",
      "1\n",
      "2\n",
      "6561\n"
     ]
    }
   ],
   "source": [
    "a = 9 - 5 + 3\n",
    "print(a)\n",
    "\n",
    "#pthyon2中和pthyon3中 /不一样\n",
    "a = 9/4\n",
    "print(a)\n",
    "\n",
    "#取余运算\n",
    "a = 9%2\n",
    "print(a)\n",
    "\n",
    "#//取整运算，也叫地板除\n",
    "\n",
    "a = 9//4\n",
    "print(a)\n",
    "\n",
    "# **表示幂运算\n",
    "a = 9**4\n",
    "print(a)"
   ]
  },
  {
   "cell_type": "markdown",
   "metadata": {},
   "source": [
    "## 比较运算符\n",
    "- 对两个变量进行比较\n",
    "- 返回值为bool值，即true/false"
   ]
  },
  {
   "cell_type": "code",
   "execution_count": 34,
   "metadata": {},
   "outputs": [
    {
     "name": "stdout",
     "output_type": "stream",
     "text": [
      "False\n",
      "True\n"
     ]
    }
   ],
   "source": [
    "# ==，等于号\n",
    "a = 3**4\n",
    "b = a == 80\n",
    "print(b)\n",
    "\n",
    "# !=,不等于\n",
    "print( 9!= 8)\n",
    "\n",
    "# >,<,>=,<="
   ]
  },
  {
   "cell_type": "markdown",
   "metadata": {},
   "source": [
    "## 赋值运算符"
   ]
  },
  {
   "cell_type": "code",
   "execution_count": 35,
   "metadata": {},
   "outputs": [
    {
     "name": "stdout",
     "output_type": "stream",
     "text": [
      "7\n"
     ]
    }
   ],
   "source": [
    "# =\n",
    "a = 0\n",
    "c = a = 4\n",
    "\n",
    "# +=,是缩写\n",
    "a = 0\n",
    "a += 7 #a = a + 7\n",
    "print(a)\n",
    "\n",
    "# 所有数学运算符都有缩写形式\n",
    "# -=， *=， /=， //="
   ]
  },
  {
   "cell_type": "markdown",
   "metadata": {},
   "source": [
    "## 逻辑运算符\n",
    "- 对bool进行运算的符号\n",
    "- and逻辑与 or逻辑或 not逻辑非\n",
    "- pthyon中没有异或运算\n",
    "- 运算规则：\n",
    "    - and看作乘法，or看做加法\n",
    "    - true看作1，false看作0\n",
    "    - 结果为0为false，否则为true\n",
    "- 逻辑运算的短路问题\n",
    "    - 按照一定的运算可以确定整个式子的值，则不再进行计算，直接返回"
   ]
  },
  {
   "cell_type": "code",
   "execution_count": 38,
   "metadata": {},
   "outputs": [
    {
     "name": "stdout",
     "output_type": "stream",
     "text": [
      "True\n",
      "True\n"
     ]
    }
   ],
   "source": [
    "#逻辑运算符\n",
    "\n",
    "a = True\n",
    "b = False\n",
    "c = True\n",
    "d = a and b or c\n",
    "print(d)\n",
    "\n",
    "d = a or b and a\n",
    "print(d)"
   ]
  },
  {
   "cell_type": "code",
   "execution_count": 41,
   "metadata": {},
   "outputs": [
    {
     "ename": "SyntaxError",
     "evalue": "invalid syntax (<ipython-input-41-606707ff6be9>, line 5)",
     "output_type": "error",
     "traceback": [
      "\u001b[1;36m  File \u001b[1;32m\"<ipython-input-41-606707ff6be9>\"\u001b[1;36m, line \u001b[1;32m5\u001b[0m\n\u001b[1;33m    a = a or {b=9} and 6\u001b[0m\n\u001b[1;37m               ^\u001b[0m\n\u001b[1;31mSyntaxError\u001b[0m\u001b[1;31m:\u001b[0m invalid syntax\n"
     ]
    }
   ],
   "source": [
    "#短路的例子\n",
    "a = True or xxxxxx\n",
    "#如果xxxxx中包含赋值运算\n",
    "b = 9\n",
    "a = a or {b=9} and 6\n",
    "print(a)\n",
    "print(b)"
   ]
  },
  {
   "cell_type": "markdown",
   "metadata": {},
   "source": [
    "## 成员运算符\n",
    "- 检测一个变量是否为另一个变量的成员\n",
    "- in\n",
    "- not in"
   ]
  },
  {
   "cell_type": "code",
   "execution_count": 43,
   "metadata": {},
   "outputs": [
    {
     "name": "stdout",
     "output_type": "stream",
     "text": [
      "False\n",
      "False\n"
     ]
    }
   ],
   "source": [
    "l = {1,2,3,4,5}\n",
    "a = 7\n",
    "# in\n",
    "b = a in l\n",
    "# not in\n",
    "a = 4\n",
    "print(b)\n",
    "print(a not in l)"
   ]
  },
  {
   "cell_type": "markdown",
   "metadata": {},
   "source": [
    "## 身份运算符\n",
    "- is用来检测两个变量是否为同一个变量\n",
    "    - 格式为 var1 is var2\n",
    "- is not 两个变量不是同一个变量"
   ]
  },
  {
   "cell_type": "code",
   "execution_count": 44,
   "metadata": {},
   "outputs": [
    {
     "name": "stdout",
     "output_type": "stream",
     "text": [
      "True\n",
      "True\n"
     ]
    }
   ],
   "source": [
    "a = 9\n",
    "b = 9\n",
    "print(a is b)\n",
    "\n",
    "a = \"i love xinyu\"\n",
    "b = \"i love xinyu\"\n",
    "print(a is not b)"
   ]
  },
  {
   "cell_type": "markdown",
   "metadata": {},
   "source": [
    "## 运算符的优先级问题\n",
    "- 括号具有最高优先级\n",
    "- 优先级表格\n",
    "        ** 指数（优先级最高）\n",
    "        ~ + - 按位取反、一元加号、一员减号（其次）\n",
    "        * / % // 乘、除、模、整除（其次）\n",
    "        + - 加法、减法（其次）\n",
    "        >>  << 右移、左移（其次）\n",
    "        & 位and（其次）\n",
    "        | 位运算（其次）\n",
    "        > < >= <= 比较运算符\n",
    "        == != 等于运算符\n",
    "        赋值运算符\n",
    "        身份运算符\n",
    "        成员运算符\n",
    "        逻辑运算符\n",
    "        "
   ]
  },
  {
   "cell_type": "code",
   "execution_count": null,
   "metadata": {},
   "outputs": [],
   "source": []
  }
 ],
 "metadata": {
  "kernelspec": {
   "display_name": "Python 3",
   "language": "python",
   "name": "python3"
  },
  "language_info": {
   "codemirror_mode": {
    "name": "ipython",
    "version": 3
   },
   "file_extension": ".py",
   "mimetype": "text/x-python",
   "name": "python",
   "nbconvert_exporter": "python",
   "pygments_lexer": "ipython3",
   "version": "3.6.4"
  }
 },
 "nbformat": 4,
 "nbformat_minor": 2
}
