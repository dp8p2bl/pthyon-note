{
 "cells": [
  {
   "cell_type": "code",
   "execution_count": 5,
   "metadata": {},
   "outputs": [],
   "source": [
    "class Solution:\n",
    "    def addTwoNumbers(self, l1, l2):\n",
    "        \"\"\"\n",
    "        :type l1: ListNode\n",
    "        :type l2: ListNode\n",
    "        :rtype: ListNode\n",
    "        \"\"\"\n",
    "        flag  = false\n",
    "        l_front = ListNode(0)\n",
    "        l_first = l_front\n",
    "        while (l1 != None)and(l2 != None):\n",
    "            if flag == false:\n",
    "                temp = l1.val + l2.val\n",
    "            else:\n",
    "                temp = l1.val + l2.val + 1\n",
    "                \n",
    "            if temp >= 10:\n",
    "                temp %= 10\n",
    "                flag = true\n",
    "            \n",
    "            l_temp = ListNode(temp)\n",
    "            l_front.next = l_temp\n",
    "            l_front = l_temp\n",
    "            \n",
    "            l1 = l1.next\n",
    "            l2 = l2.next\n",
    "            \n",
    "        if l1 != NULL:\n",
    "            l_front.next = l1\n",
    "        if l2 != NULL:\n",
    "            l_front.next = l2\n",
    "        \n",
    "        return l_first.next"
   ]
  }
 ],
 "metadata": {
  "kernelspec": {
   "display_name": "Python 3",
   "language": "python",
   "name": "python3"
  },
  "language_info": {
   "codemirror_mode": {
    "name": "ipython",
    "version": 3
   },
   "file_extension": ".py",
   "mimetype": "text/x-python",
   "name": "python",
   "nbconvert_exporter": "python",
   "pygments_lexer": "ipython3",
   "version": "3.6.4"
  }
 },
 "nbformat": 4,
 "nbformat_minor": 2
}
