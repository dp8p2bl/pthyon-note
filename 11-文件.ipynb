{
 "cells": [
  {
   "cell_type": "markdown",
   "metadata": {},
   "source": [
    "# 文件\n",
    "- 长久保存信息的一种数据信息的集合\n",
    "- 常用操作\n",
    "    - 打开关闭（文件一旦打开，需要关闭操作）\n",
    "    - 读写内容\n",
    "    - 查找"
   ]
  },
  {
   "cell_type": "markdown",
   "metadata": {},
   "source": [
    "## open函数\n",
    "- 负责打开文件，带有很多参数\n",
    "- 第一个参数必须有，文件的路径和名称\n",
    "- mode：表明文件的打开方式\n",
    "    - r：只读方式打开\n",
    "    - w：写方式打开，会覆盖以前的内容，文件不存在，就创建一个文件\n",
    "    - x：创建方式打开，如果文件已经存在，报错\n",
    "    - a：append方式，追加方式写入\n",
    "    - b：binary方式，二进制方式写入\n",
    "    - t：文本方式打开\n",
    "    - +：可读写"
   ]
  },
  {
   "cell_type": "code",
   "execution_count": 1,
   "metadata": {},
   "outputs": [],
   "source": [
    "#打开文件，写的方式\n",
    "#f成为文件句柄\n",
    "#r表示后面字符串不需要转义\n",
    "f = open(\"test01.txt\", 'w')\n",
    "#打开关闭相对应\n",
    "f.close()"
   ]
  },
  {
   "cell_type": "markdown",
   "metadata": {},
   "source": [
    "## with语句\n",
    "- 一种成为上下文管理协议的技术\n",
    "- 自动判断文件的作用域，自动关闭不再使用的文件句柄"
   ]
  },
  {
   "cell_type": "code",
   "execution_count": 3,
   "metadata": {},
   "outputs": [],
   "source": [
    "#with案例\n",
    "with open(r\"test01.txt\", 'r')as f:\n",
    "    pass\n",
    "#下面的语句开始对文件进行操作\n",
    "#该模块不需要close句柄"
   ]
  },
  {
   "cell_type": "markdown",
   "metadata": {},
   "source": [
    "## read函数\n",
    "- read\n",
    "- readline"
   ]
  },
  {
   "cell_type": "code",
   "execution_count": 6,
   "metadata": {
    "scrolled": false
   },
   "outputs": [
    {
     "name": "stdout",
     "output_type": "stream",
     "text": [
      "白茶清欢无别事\n",
      "\n",
      "我在等风也等你\n",
      "\n",
      "人生若只如初见\n",
      "\n",
      "何事秋风悲画扇\n"
     ]
    }
   ],
   "source": [
    "#with案例\n",
    "with open(r'test01.txt', 'r', encoding='utf-8') as f:\n",
    "    strline = f.readline()\n",
    "    \n",
    "    while strline:\n",
    "        print(strline)\n",
    "        strline = f.readline()"
   ]
  },
  {
   "cell_type": "code",
   "execution_count": 7,
   "metadata": {
    "scrolled": true
   },
   "outputs": [
    {
     "name": "stdout",
     "output_type": "stream",
     "text": [
      "白茶清欢无别事\n",
      "\n",
      "我在等风也等你\n",
      "\n",
      "人生若只如初见\n",
      "\n",
      "何事秋风悲画扇\n"
     ]
    }
   ],
   "source": [
    "with open(r'test01.txt', 'r', encoding='utf-8') as f:\n",
    "    l = list(f)\n",
    "    \n",
    "    for line in l:\n",
    "        print(line)"
   ]
  },
  {
   "cell_type": "code",
   "execution_count": 4,
   "metadata": {},
   "outputs": [
    {
     "name": "stdout",
     "output_type": "stream",
     "text": [
      "Help on built-in function open in module io:\n",
      "\n",
      "open(file, mode='r', buffering=-1, encoding=None, errors=None, newline=None, closefd=True, opener=None)\n",
      "    Open file and return a stream.  Raise IOError upon failure.\n",
      "    \n",
      "    file is either a text or byte string giving the name (and the path\n",
      "    if the file isn't in the current working directory) of the file to\n",
      "    be opened or an integer file descriptor of the file to be\n",
      "    wrapped. (If a file descriptor is given, it is closed when the\n",
      "    returned I/O object is closed, unless closefd is set to False.)\n",
      "    \n",
      "    mode is an optional string that specifies the mode in which the file\n",
      "    is opened. It defaults to 'r' which means open for reading in text\n",
      "    mode.  Other common values are 'w' for writing (truncating the file if\n",
      "    it already exists), 'x' for creating and writing to a new file, and\n",
      "    'a' for appending (which on some Unix systems, means that all writes\n",
      "    append to the end of the file regardless of the current seek position).\n",
      "    In text mode, if encoding is not specified the encoding used is platform\n",
      "    dependent: locale.getpreferredencoding(False) is called to get the\n",
      "    current locale encoding. (For reading and writing raw bytes use binary\n",
      "    mode and leave encoding unspecified.) The available modes are:\n",
      "    \n",
      "    ========= ===============================================================\n",
      "    Character Meaning\n",
      "    --------- ---------------------------------------------------------------\n",
      "    'r'       open for reading (default)\n",
      "    'w'       open for writing, truncating the file first\n",
      "    'x'       create a new file and open it for writing\n",
      "    'a'       open for writing, appending to the end of the file if it exists\n",
      "    'b'       binary mode\n",
      "    't'       text mode (default)\n",
      "    '+'       open a disk file for updating (reading and writing)\n",
      "    'U'       universal newline mode (deprecated)\n",
      "    ========= ===============================================================\n",
      "    \n",
      "    The default mode is 'rt' (open for reading text). For binary random\n",
      "    access, the mode 'w+b' opens and truncates the file to 0 bytes, while\n",
      "    'r+b' opens the file without truncation. The 'x' mode implies 'w' and\n",
      "    raises an `FileExistsError` if the file already exists.\n",
      "    \n",
      "    Python distinguishes between files opened in binary and text modes,\n",
      "    even when the underlying operating system doesn't. Files opened in\n",
      "    binary mode (appending 'b' to the mode argument) return contents as\n",
      "    bytes objects without any decoding. In text mode (the default, or when\n",
      "    't' is appended to the mode argument), the contents of the file are\n",
      "    returned as strings, the bytes having been first decoded using a\n",
      "    platform-dependent encoding or using the specified encoding if given.\n",
      "    \n",
      "    'U' mode is deprecated and will raise an exception in future versions\n",
      "    of Python.  It has no effect in Python 3.  Use newline to control\n",
      "    universal newlines mode.\n",
      "    \n",
      "    buffering is an optional integer used to set the buffering policy.\n",
      "    Pass 0 to switch buffering off (only allowed in binary mode), 1 to select\n",
      "    line buffering (only usable in text mode), and an integer > 1 to indicate\n",
      "    the size of a fixed-size chunk buffer.  When no buffering argument is\n",
      "    given, the default buffering policy works as follows:\n",
      "    \n",
      "    * Binary files are buffered in fixed-size chunks; the size of the buffer\n",
      "      is chosen using a heuristic trying to determine the underlying device's\n",
      "      \"block size\" and falling back on `io.DEFAULT_BUFFER_SIZE`.\n",
      "      On many systems, the buffer will typically be 4096 or 8192 bytes long.\n",
      "    \n",
      "    * \"Interactive\" text files (files for which isatty() returns True)\n",
      "      use line buffering.  Other text files use the policy described above\n",
      "      for binary files.\n",
      "    \n",
      "    encoding is the name of the encoding used to decode or encode the\n",
      "    file. This should only be used in text mode. The default encoding is\n",
      "    platform dependent, but any encoding supported by Python can be\n",
      "    passed.  See the codecs module for the list of supported encodings.\n",
      "    \n",
      "    errors is an optional string that specifies how encoding errors are to\n",
      "    be handled---this argument should not be used in binary mode. Pass\n",
      "    'strict' to raise a ValueError exception if there is an encoding error\n",
      "    (the default of None has the same effect), or pass 'ignore' to ignore\n",
      "    errors. (Note that ignoring encoding errors can lead to data loss.)\n",
      "    See the documentation for codecs.register or run 'help(codecs.Codec)'\n",
      "    for a list of the permitted encoding error strings.\n",
      "    \n",
      "    newline controls how universal newlines works (it only applies to text\n",
      "    mode). It can be None, '', '\\n', '\\r', and '\\r\\n'.  It works as\n",
      "    follows:\n",
      "    \n",
      "    * On input, if newline is None, universal newlines mode is\n",
      "      enabled. Lines in the input can end in '\\n', '\\r', or '\\r\\n', and\n",
      "      these are translated into '\\n' before being returned to the\n",
      "      caller. If it is '', universal newline mode is enabled, but line\n",
      "      endings are returned to the caller untranslated. If it has any of\n",
      "      the other legal values, input lines are only terminated by the given\n",
      "      string, and the line ending is returned to the caller untranslated.\n",
      "    \n",
      "    * On output, if newline is None, any '\\n' characters written are\n",
      "      translated to the system default line separator, os.linesep. If\n",
      "      newline is '' or '\\n', no translation takes place. If newline is any\n",
      "      of the other legal values, any '\\n' characters written are translated\n",
      "      to the given string.\n",
      "    \n",
      "    If closefd is False, the underlying file descriptor will be kept open\n",
      "    when the file is closed. This does not work when a file name is given\n",
      "    and must be True in that case.\n",
      "    \n",
      "    A custom opener can be used by passing a callable as *opener*. The\n",
      "    underlying file descriptor for the file object is then obtained by\n",
      "    calling *opener* with (*file*, *flags*). *opener* must return an open\n",
      "    file descriptor (passing os.open as *opener* results in functionality\n",
      "    similar to passing None).\n",
      "    \n",
      "    open() returns a file object whose type depends on the mode, and\n",
      "    through which the standard file operations such as reading and writing\n",
      "    are performed. When open() is used to open a file in a text mode ('w',\n",
      "    'r', 'wt', 'rt', etc.), it returns a TextIOWrapper. When used to open\n",
      "    a file in a binary mode, the returned class varies: in read binary\n",
      "    mode, it returns a BufferedReader; in write binary and append binary\n",
      "    modes, it returns a BufferedWriter, and in read/write mode, it returns\n",
      "    a BufferedRandom.\n",
      "    \n",
      "    It is also possible to use a string or bytearray as a file for both\n",
      "    reading and writing. For strings StringIO can be used like a file\n",
      "    opened in a text mode, and for bytes a BytesIO can be used like a file\n",
      "    opened in a binary mode.\n",
      "\n"
     ]
    }
   ],
   "source": [
    "help(open)"
   ]
  },
  {
   "cell_type": "code",
   "execution_count": 25,
   "metadata": {
    "scrolled": true
   },
   "outputs": [
    {
     "name": "stdout",
     "output_type": "stream",
     "text": [
      "1\n",
      "白\n"
     ]
    }
   ],
   "source": [
    "#read是按字符读取文件内容\n",
    "#允许输入参数决定读取几个字符，如果没有制定，默认从当前位置读到结尾\n",
    "#否则读取指定个数字符\n",
    "\n",
    "with open(r'test01.txt', 'r', encoding='utf-8') as f:\n",
    "    strchar = f.read(1)\n",
    "    print(len(strchar))\n",
    "    print(strchar)\n",
    "    "
   ]
  },
  {
   "cell_type": "markdown",
   "metadata": {},
   "source": [
    "## seek(offset, from)\n",
    "- 移动文件的读取位置，也叫读取指针\n",
    "- from的取值范围：\n",
    "    - 0：从文件头开始偏移\n",
    "    - 1：从文件当前位置开始偏移\n",
    "    - 2：从文件末尾开始偏移\n",
    "- 移动的单位是字节（byte）\n",
    "- 一个汉字由若干个字节组成"
   ]
  },
  {
   "cell_type": "code",
   "execution_count": 24,
   "metadata": {
    "scrolled": true
   },
   "outputs": [
    {
     "name": "stdout",
     "output_type": "stream",
     "text": [
      "茶清欢无别事\n",
      "我在等风也等你\n",
      "人生若只如初见\n",
      "何事秋风悲画扇\n"
     ]
    }
   ],
   "source": [
    "#seek案例\n",
    "#打开文件后，从第5个字节处开始读取\n",
    "#打开读写指针在0处，即文件开头\n",
    "\n",
    "with open(r'test01.txt', 'r', encoding='utf-8') as f:\n",
    "    f.seek(3, 0)\n",
    "    strchar = f.read()\n",
    "    print(strchar)"
   ]
  },
  {
   "cell_type": "code",
   "execution_count": 2,
   "metadata": {
    "scrolled": false
   },
   "outputs": [
    {
     "name": "stdout",
     "output_type": "stream",
     "text": [
      "白茶清欢\n",
      "无别事\n",
      "\n",
      "我在\n",
      "等风也\n",
      "等你\n",
      "\n",
      "人生若\n",
      "只如初\n",
      "见\n",
      "何\n",
      "事秋风\n",
      "悲画扇\n"
     ]
    }
   ],
   "source": [
    "#关于读取文件的练习\n",
    "#打开文件，三个字符一组读出内容，显示在屏幕上\n",
    "#每读一次，休息1s\n",
    "\n",
    "import time\n",
    "\n",
    "with open(r\"test01.txt\", 'r', encoding='utf-8') as f:\n",
    "    strchar = f.read(4)\n",
    "    \n",
    "    while strchar:\n",
    "        print(strchar)\n",
    "        time.sleep(1)\n",
    "        strchar = f.read(3)\n",
    "        "
   ]
  },
  {
   "cell_type": "code",
   "execution_count": 4,
   "metadata": {
    "scrolled": true
   },
   "outputs": [
    {
     "name": "stdout",
     "output_type": "stream",
     "text": [
      "9\n",
      "白茶清\n",
      "18\n",
      "欢无别\n",
      "25\n",
      "事\n",
      "我\n",
      "34\n",
      "在等风\n",
      "43\n",
      "也等你\n",
      "50\n",
      "\n",
      "人生\n",
      "59\n",
      "若只如\n",
      "66\n",
      "初见\n",
      "\n",
      "75\n",
      "何事秋\n",
      "84\n",
      "风悲画\n",
      "87\n",
      "扇\n"
     ]
    }
   ],
   "source": [
    "#用tell函数显示文件读写指针当前的位置\n",
    "#tell返回值以byte为单位\n",
    "with open(r'test01.txt', 'r', encoding='utf-8') as f:\n",
    "    strchar = f.read(3)\n",
    "    pos =  f.tell()\n",
    "    \n",
    "    while strchar:\n",
    "        print(pos)\n",
    "        print(strchar)\n",
    "        \n",
    "        strchar = f.read(3)\n",
    "        pos = f.tell()"
   ]
  },
  {
   "cell_type": "markdown",
   "metadata": {},
   "source": [
    "## 文件的写操作-write函数\n",
    "- write(str):把字符串写入文件\n",
    "- writeline(str):把字符串按行写入\n",
    "- 区别：\n",
    "    - write函数：参数只能是字符串\n",
    "    - writeline：可以是字符串，也可以是字符序列"
   ]
  },
  {
   "cell_type": "code",
   "execution_count": 9,
   "metadata": {},
   "outputs": [],
   "source": [
    "#write案例\n",
    "#向文件追加一首诗\n",
    "#a代表追加方式打开\n",
    "\n",
    "with open(r'test01.txt', 'a') as f:\n",
    "    f.write(\"\\ndengxinab\")"
   ]
  },
  {
   "cell_type": "code",
   "execution_count": 10,
   "metadata": {},
   "outputs": [],
   "source": [
    "#使用writeline写入一行\n",
    "with open(r'test01.txt', 'a') as f:\n",
    "    f.writelines(\"\\nfafdas\")\n",
    "    f.writelines(\"\\nfdasfvsdfv\")"
   ]
  },
  {
   "cell_type": "code",
   "execution_count": 12,
   "metadata": {},
   "outputs": [],
   "source": [
    "l = [\"i\", \"love\", \"jingjing\"]\n",
    "\n",
    "with open(r'test01.txt', 'w') as f:\n",
    "    f.writelines(l)"
   ]
  },
  {
   "cell_type": "markdown",
   "metadata": {},
   "source": [
    "## 持久化-pickle\n",
    "- 序列化（持久化，落地）：把程序运行中的信息保存到磁盘上\n",
    "- 反序列化：序列化的逆过程\n",
    "- pickle：python的序列化模块\n",
    "    - pickle.dump：序列化\n",
    "    - pickle.load：反序列化"
   ]
  },
  {
   "cell_type": "code",
   "execution_count": 19,
   "metadata": {},
   "outputs": [],
   "source": [
    "#序列化案例\n",
    "import pickle\n",
    "\n",
    "age = 19\n",
    "\n",
    "with open(r\"test01.txt\", 'wb') as f:\n",
    "    pickle.dump(age, f)"
   ]
  },
  {
   "cell_type": "code",
   "execution_count": 18,
   "metadata": {
    "scrolled": true
   },
   "outputs": [
    {
     "ename": "EOFError",
     "evalue": "Ran out of input",
     "output_type": "error",
     "traceback": [
      "\u001b[1;31m---------------------------------------------------------------------------\u001b[0m",
      "\u001b[1;31mEOFError\u001b[0m                                  Traceback (most recent call last)",
      "\u001b[1;32m<ipython-input-18-19f97bec1816>\u001b[0m in \u001b[0;36m<module>\u001b[1;34m()\u001b[0m\n\u001b[0;32m      3\u001b[0m \u001b[1;33m\u001b[0m\u001b[0m\n\u001b[0;32m      4\u001b[0m \u001b[1;32mwith\u001b[0m \u001b[0mopen\u001b[0m\u001b[1;33m(\u001b[0m\u001b[1;34mr\"test01.txt\"\u001b[0m\u001b[1;33m,\u001b[0m \u001b[1;34m'rb'\u001b[0m\u001b[1;33m)\u001b[0m \u001b[1;32mas\u001b[0m \u001b[0mf\u001b[0m\u001b[1;33m:\u001b[0m\u001b[1;33m\u001b[0m\u001b[0m\n\u001b[1;32m----> 5\u001b[1;33m     \u001b[0mage\u001b[0m \u001b[1;33m=\u001b[0m \u001b[0mpickle\u001b[0m\u001b[1;33m.\u001b[0m\u001b[0mload\u001b[0m\u001b[1;33m(\u001b[0m\u001b[0mf\u001b[0m\u001b[1;33m)\u001b[0m\u001b[1;33m\u001b[0m\u001b[0m\n\u001b[0m\u001b[0;32m      6\u001b[0m     \u001b[0mprint\u001b[0m\u001b[1;33m(\u001b[0m\u001b[0mage\u001b[0m\u001b[1;33m)\u001b[0m\u001b[1;33m\u001b[0m\u001b[0m\n",
      "\u001b[1;31mEOFError\u001b[0m: Ran out of input"
     ]
    }
   ],
   "source": [
    "#序列化案例\n",
    "import pickle\n",
    "\n",
    "with open(r\"test01.txt\", 'rb') as f:\n",
    "    age = pickle.load(f)\n",
    "    print(age)"
   ]
  },
  {
   "cell_type": "markdown",
   "metadata": {},
   "source": [
    "## 持久化工具-shelve\n",
    "- 类似字典，用kv对保存数据，存取方式类似字典\n",
    "- open close"
   ]
  },
  {
   "cell_type": "code",
   "execution_count": 20,
   "metadata": {},
   "outputs": [],
   "source": [
    "import shelve\n",
    "\n",
    "#打开文件\n",
    "shv = shelve.open(r'shv.db')\n",
    "\n",
    "shv['one'] = 1\n",
    "shv['two'] = 2\n",
    "shv['the'] = 3\n",
    "\n",
    "shv.close()"
   ]
  }
 ],
 "metadata": {
  "kernelspec": {
   "display_name": "Python 3",
   "language": "python",
   "name": "python3"
  },
  "language_info": {
   "codemirror_mode": {
    "name": "ipython",
    "version": 3
   },
   "file_extension": ".py",
   "mimetype": "text/x-python",
   "name": "python",
   "nbconvert_exporter": "python",
   "pygments_lexer": "ipython3",
   "version": "3.6.4"
  }
 },
 "nbformat": 4,
 "nbformat_minor": 2
}
